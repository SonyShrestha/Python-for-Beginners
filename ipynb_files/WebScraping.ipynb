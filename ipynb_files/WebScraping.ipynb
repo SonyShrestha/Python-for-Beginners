{
 "cells": [
  {
   "cell_type": "code",
   "execution_count": 6,
   "metadata": {},
   "outputs": [],
   "source": [
    "################################ Web Scrapping"
   ]
  },
  {
   "cell_type": "code",
   "execution_count": 8,
   "metadata": {},
   "outputs": [
    {
     "data": {
      "text/plain": [
       "True"
      ]
     },
     "execution_count": 8,
     "metadata": {},
     "output_type": "execute_result"
    }
   ],
   "source": [
    "# Open webpage\n",
    "import webbrowser\n",
    "webbrowser.open(\"www.google.com\")"
   ]
  },
  {
   "cell_type": "code",
   "execution_count": 9,
   "metadata": {},
   "outputs": [
    {
     "data": {
      "text/plain": [
       "True"
      ]
     },
     "execution_count": 9,
     "metadata": {},
     "output_type": "execute_result"
    }
   ],
   "source": [
    "import webbrowser\n",
    "search_string=\"greetings of the day\"\n",
    "webbrowser.open(\"www.google.com/search?q=\"+search_string)"
   ]
  },
  {
   "cell_type": "code",
   "execution_count": 15,
   "metadata": {},
   "outputs": [
    {
     "name": "stdout",
     "output_type": "stream",
     "text": [
      "<Response [200]>\n",
      "200\n",
      "Lorem ipsum dolor sit amet, consectetur adipiscing elit, sed do eiusmod tempor incididunt ut labore et dolore magna aliqua. Ut enim ad minim veniam, \n",
      "quis nostrud exercitation ullamco laboris nisi ut aliquip ex ea commodo consequat. \n",
      "Duis aute irure dolor in reprehenderit in voluptate velit esse cillum dolore eu fugiat nulla pariatur. \n",
      "Excepteur sint occaecat cupidatat non proident, sunt in culpa qui officia deserunt mollit anim id est laborum.\n",
      "\n",
      "Lorem ipsum dolor sit ame\n"
     ]
    }
   ],
   "source": [
    "# requests\n",
    "import requests\n",
    "res=requests.get(\"https://www.learningcontainer.com/wp-content/uploads/2020/04/sample-text-file.txt\") # Returns response object\n",
    "print(res)\n",
    "print(res.status_code) # Returns status code\n",
    "print(res.text) # Returns text of URL\n",
    "print()\n",
    "print(res.text[0:25])"
   ]
  },
  {
   "cell_type": "code",
   "execution_count": 17,
   "metadata": {},
   "outputs": [
    {
     "name": "stdout",
     "output_type": "stream",
     "text": [
      "None\n"
     ]
    }
   ],
   "source": [
    "print(res.raise_for_status()) # Will raise error if status!=200 "
   ]
  },
  {
   "cell_type": "code",
   "execution_count": 21,
   "metadata": {},
   "outputs": [
    {
     "name": "stdout",
     "output_type": "stream",
     "text": [
      "None\n"
     ]
    }
   ],
   "source": [
    "# requests\n",
    "import requests\n",
    "res=requests.get(\"https://www.learningcontainer.com/wp-content/uploads/2020/04/sample-text-file.txt\") # Returns response object\n",
    "print(res.raise_for_status()) # Raises error where status!=200 else returns None"
   ]
  },
  {
   "cell_type": "code",
   "execution_count": 28,
   "metadata": {},
   "outputs": [
    {
     "name": "stdout",
     "output_type": "stream",
     "text": [
      "b'Lorem ipsu'\n",
      "\n",
      "b'm dolor si'\n",
      "\n",
      "b't amet, co'\n",
      "\n",
      "b'nsectetur '\n",
      "\n",
      "b'adipiscing'\n",
      "\n",
      "b' elit, sed'\n",
      "\n",
      "b' do eiusmo'\n",
      "\n",
      "b'd tempor i'\n",
      "\n",
      "b'ncididunt '\n",
      "\n",
      "b'ut labore '\n",
      "\n",
      "b'et dolore '\n",
      "\n",
      "b'magna aliq'\n",
      "\n",
      "b'ua. Ut eni'\n",
      "\n",
      "b'm ad minim'\n",
      "\n",
      "b' veniam, \\n'\n",
      "\n",
      "b'quis nostr'\n",
      "\n",
      "b'ud exercit'\n",
      "\n",
      "b'ation ulla'\n",
      "\n",
      "b'mco labori'\n",
      "\n",
      "b's nisi ut '\n",
      "\n",
      "b'aliquip ex'\n",
      "\n",
      "b' ea commod'\n",
      "\n",
      "b'o consequa'\n",
      "\n",
      "b't. \\nDuis a'\n",
      "\n",
      "b'ute irure '\n",
      "\n",
      "b'dolor in r'\n",
      "\n",
      "b'eprehender'\n",
      "\n",
      "b'it in volu'\n",
      "\n",
      "b'ptate veli'\n",
      "\n",
      "b't esse cil'\n",
      "\n",
      "b'lum dolore'\n",
      "\n",
      "b' eu fugiat'\n",
      "\n",
      "b' nulla par'\n",
      "\n",
      "b'iatur. \\nEx'\n",
      "\n",
      "b'cepteur si'\n",
      "\n",
      "b'nt occaeca'\n",
      "\n",
      "b't cupidata'\n",
      "\n",
      "b't non proi'\n",
      "\n",
      "b'dent, sunt'\n",
      "\n",
      "b' in culpa '\n",
      "\n",
      "b'qui offici'\n",
      "\n",
      "b'a deserunt'\n",
      "\n",
      "b' mollit an'\n",
      "\n",
      "b'im id est '\n",
      "\n",
      "b'laborum.'\n",
      "\n"
     ]
    }
   ],
   "source": [
    "# iter_content: we can save downloaded file to hard drive by calling iter_content method\n",
    "import requests\n",
    "res=requests.get(\"https://www.learningcontainer.com/wp-content/uploads/2020/04/sample-text-file.txt\") # Returns response object\n",
    "file=open('D:\\\\test.txt','wb')\n",
    "for chunk in res.iter_content(10):\n",
    "    file.write(chunk)\n",
    "    print(chunk)\n",
    "    print()\n",
    "file.close()"
   ]
  },
  {
   "cell_type": "code",
   "execution_count": 37,
   "metadata": {},
   "outputs": [
    {
     "name": "stdout",
     "output_type": "stream",
     "text": [
      "200\n",
      "text/plain\n",
      "ISO-8859-1\n",
      "Lorem ipsum dolor sit amet, consectetur adipiscing elit, sed do eiusmod tempor incididunt ut labore et dolore magna aliqua. Ut enim ad minim veniam, \n",
      "quis nostrud exercitation ullamco laboris nisi ut aliquip ex ea commodo consequat. \n",
      "Duis aute irure dolor in reprehenderit in voluptate velit esse cillum dolore eu fugiat nulla pariatur. \n",
      "Excepteur sint occaecat cupidatat non proident, sunt in culpa qui officia deserunt mollit anim id est laborum.\n",
      "<bound method Response.json of <Response [200]>>\n"
     ]
    }
   ],
   "source": [
    "# requests\n",
    "import requests\n",
    "res_obj=requests.get(\"https://www.learningcontainer.com/wp-content/uploads/2020/04/sample-text-file.txt\") # Returns response object\n",
    "print(res_obj.status_code)\n",
    "print(res_obj.headers[\"content-type\"])\n",
    "print(res_obj.encoding)\n",
    "print(res_obj.text)\n",
    "print(res_obj.json)"
   ]
  },
  {
   "cell_type": "code",
   "execution_count": 38,
   "metadata": {},
   "outputs": [],
   "source": [
    "##################### Parsing HTML Content with Beautiful Soup"
   ]
  },
  {
   "cell_type": "code",
   "execution_count": 39,
   "metadata": {},
   "outputs": [
    {
     "name": "stdout",
     "output_type": "stream",
     "text": [
      "Requirement already satisfied: beautifulsoup4 in c:\\programdata\\anaconda3\\lib\\site-packages (4.9.3)\n",
      "Requirement already satisfied: soupsieve>1.2; python_version >= \"3.0\" in c:\\programdata\\anaconda3\\lib\\site-packages (from beautifulsoup4) (2.0.1)\n"
     ]
    }
   ],
   "source": [
    "!pip install beautifulsoup4"
   ]
  },
  {
   "cell_type": "code",
   "execution_count": 2,
   "metadata": {},
   "outputs": [
    {
     "name": "stdout",
     "output_type": "stream",
     "text": [
      "<!DOCTYPE html>\n",
      "<html itemscope=\"\" itemtype=\"http://schema.org/WebPage\" lang=\"ne\">\n",
      " <head>\n",
      "  <meta content=\"text/html; charset=utf-8\" http-equiv=\"Content-Type\"/>\n",
      "  <meta content=\"/images/branding/googleg/1x/googleg_standard_color_128dp.png\" itemprop=\"image\"/>\n",
      "  <title>\n",
      "   Google\n",
      "  </title>\n",
      "  <script nonce=\"L7K8i0Vxhw1hRwIsplKnaQ==\">\n",
      "   (function(){window.google={kEI:'nz0vYfse9qvk5Q-u2ZvgDQ',kEXPI:'0,772215,1,530320,54244,2629,954,5105,206,2414,2390,2316,383,246,5,1354,5251,1122515,1197753,529,328985,51224,16114,19397,9287,17572,4858,1362,283,9007,3028,17582,4997,13228,3847,10622,14527,4518,2777,919,2855,2226,1593,1279,2212,530,149,1103,840,2197,4100,4120,2023,1777,520,14670,3227,1989,856,7,12353,5097,16320,908,2,941,2614,3424,9718,3,346,230,6459,149,13975,4,1528,2304,1236,5803,4683,2015,13611,4764,2658,872,3371,3112,32,13628,2305,638,1494,5586,3772,7428,652,1869,3300,2536,4094,18,3120,6,613,295,3,3541,1,5096,2,1,3,9608,1814,283,38,874,5992,16728,1344,371,2,3036,21,5439,727,3810,2326,594,1532,2379,1678,744,1274,1248,3330,2051,6822,1590,1160,1266,3,4844,3,292,292,2380,1574,1145,4545,3,123,3855,753,742,4635,1213,2364,9,2,6,207,2,1488,1759,2382,1935,1932,190,2445,1385,1193,3124,557,5367,50,1215,270,626,1662,49,594,665,2,290,502,684,4336,233,138,894,196,306,224,94,55,2,1594,751,8,23,159,9,505,899,127,204,975,95,245,450,2,523,89,4,45,99,90,937,1833,256,76,143,1055,355,39,84,137,1845,5582613,2032,226,220,72,74,60,73,6,5996064,520,2800696,882,444,1,2,80,1,1796,1,9,2553,1,748,141,795,563,1,4265,1,1,2,1331,4142,2609,155,17,13,72,139,4,2,20,2,169,13,19,46,5,39,96,548,29,2,2,1,2,1,2,2,7,4,1,2,2,2,2,2,2,353,513,186,1,1,158,3,2,2,2,2,2,4,2,3,3,269,291,14,25,2,12,14,5,41,1,48,10,20734250,2920145,299865,4041351,338,3,2414,448,2,463,95,77,406,9,2259,2516,889,767960',kBL:'H8wX'};google.sn='webhp';google.kHL='ne';})();(function(){\n",
      "var f=this||self;var h,k=[];function l(a){for(var b;a&&(!a.getAttribute||!(b=a.getAttribute(\"eid\")));)a=a.parentNode;return b||h}function m(a){for(var b=null;a&&(!a.getAttribute||!(b=a.getAttribute(\"leid\")));)a=a.parentNode;return b}\n",
      "function n(a,b,c,d,g){var e=\"\";c||-1!==b.search(\"&ei=\")||(e=\"&ei=\"+l(d),-1===b.search(\"&lei=\")&&(d=m(d))&&(e+=\"&lei=\"+d));d=\"\";!c&&f._cshid&&-1===b.search(\"&cshid=\")&&\"slh\"!==a&&(d=\"&cshid=\"+f._cshid);c=c||\"/\"+(g||\"gen_204\")+\"?atyp=i&ct=\"+a+\"&cad=\"+b+e+\"&zx=\"+Date.now()+d;/^http:/i.test(c)&&\"https:\"===window.location.protocol&&(google.ml&&google.ml(Error(\"a\"),!1,{src:c,glmm:1}),c=\"\");return c};h=google.kEI;google.getEI=l;google.getLEI=m;google.ml=function(){return null};google.log=function(a,b,c,d,g){if(c=n(a,b,c,d,g)){a=new Image;var e=k.length;k[e]=a;a.onerror=a.onload=a.onabort=function(){delete k[e]};a.src=c}};google.logUrl=n;}).call(this);(function(){\n",
      "google.y={};google.sy=[];google.x=function(a,b){if(a)var c=a.id;else{do c=Math.random();while(google.y[c])}google.y[c]=[a,b];return!1};google.sx=function(a){google.sy.push(a)};google.lm=[];google.plm=function(a){google.lm.push.apply(google.lm,a)};google.lq=[];google.load=function(a,b,c){google.lq.push([[a],b,c])};google.loadAll=function(a,b){google.lq.push([a,b])};google.bx=!1;google.lx=function(){};}).call(this);google.f={};(function(){\n",
      "document.documentElement.addEventListener(\"submit\",function(b){var a;if(a=b.target){var c=a.getAttribute(\"data-submitfalse\");a=\"1\"==c||\"q\"==c&&!a.elements.q.value?!0:!1}else a=!1;a&&(b.preventDefault(),b.stopPropagation())},!0);document.documentElement.addEventListener(\"click\",function(b){var a;a:{for(a=b.target;a&&a!=document.documentElement;a=a.parentElement)if(\"A\"==a.tagName){a=\"1\"==a.getAttribute(\"data-nohref\");break a}a=!1}a&&b.preventDefault()},!0);}).call(this);\n",
      "  </script>\n",
      "  <style>\n",
      "   #gbar,#guser{font-size:13px;padding-top:1px !important;}#gbar{height:22px}#guser{padding-bottom:7px !important;text-align:right}.gbh,.gbd{border-top:1px solid #c9d7f1;font-size:1px}.gbh{height:0;position:absolute;top:24px;width:100%}@media all{.gb1{height:22px;margin-right:.5em;vertical-align:top}#gbar{float:left}}a.gb1,a.gb4{text-decoration:underline !important}a.gb1,a.gb4{color:#00c !important}.gbi .gb4{color:#dd8e27 !important}.gbf .gb4{color:#900 !important}\n",
      "  </style>\n",
      "  <style>\n",
      "   body,td,a,p,.h{font-family:arial,sans-serif}body{margin:0;overflow-y:scroll}#gog{padding:3px 8px 0}td{line-height:.8em}.gac_m td{line-height:17px}form{margin-bottom:20px}.h{color:#1558d6}em{font-weight:bold;font-style:normal}.lst{height:25px;width:496px}.gsfi,.lst{font:18px arial,sans-serif}.gsfs{font:17px arial,sans-serif}.ds{display:inline-box;display:inline-block;margin:3px 0 4px;margin-left:4px}input{font-family:inherit}body{background:#fff;color:#000}a{color:#4b11a8;text-decoration:none}a:hover,a:active{text-decoration:underline}.fl a{color:#1558d6}a:visited{color:#4b11a8}.sblc{padding-top:5px}.sblc a{display:block;margin:2px 0;margin-left:13px;font-size:11px}.lsbb{background:#f8f9fa;border:solid 1px;border-color:#dadce0 #70757a #70757a #dadce0;height:30px}.lsbb{display:block}#WqQANb a{display:inline-block;margin:0 12px}.lsb{background:url(/images/nav_logo229.png) 0 -261px repeat-x;border:none;color:#000;cursor:pointer;height:30px;margin:0;outline:0;font:15px arial,sans-serif;vertical-align:top}.lsb:active{background:#dadce0}.lst:focus{outline:none}.tiah{width:458px}\n",
      "  </style>\n",
      "  <script nonce=\"L7K8i0Vxhw1hRwIsplKnaQ==\">\n",
      "  </script>\n",
      " </head>\n",
      " <body bgcolor=\"#fff\">\n",
      "  <script nonce=\"L7K8i0Vxhw1hRwIsplKnaQ==\">\n",
      "   (function(){var src='/images/nav_logo229.png';var iesg=false;document.body.onload = function(){window.n && window.n();if (document.images){new Image().src=src;}\n",
      "if (!iesg){document.f&&document.f.q.focus();document.gbqf&&document.gbqf.q.focus();}\n",
      "}\n",
      "})();\n",
      "  </script>\n",
      "  <div id=\"mngb\">\n",
      "   <div id=\"gbar\">\n",
      "    <nobr>\n",
      "     <b class=\"gb1\">\n",
      "      खोज\n",
      "     </b>\n",
      "     <a class=\"gb1\" href=\"https://www.google.com.np/imghp?hl=ne&amp;tab=wi\">\n",
      "      फोटो\n",
      "     </a>\n",
      "     <a class=\"gb1\" href=\"https://maps.google.com.np/maps?hl=ne&amp;tab=wl\">\n",
      "      नक्सा\n",
      "     </a>\n",
      "     <a class=\"gb1\" href=\"https://news.google.com/?tab=wn\">\n",
      "      समाचार\n",
      "     </a>\n",
      "     <a class=\"gb1\" href=\"https://mail.google.com/mail/?tab=wm\">\n",
      "      Gmail\n",
      "     </a>\n",
      "     <a class=\"gb1\" href=\"https://drive.google.com/?tab=wo\">\n",
      "      ड्राइभ\n",
      "     </a>\n",
      "     <a class=\"gb1\" href=\"https://calendar.google.com/calendar?tab=wc\">\n",
      "      पात्रो\n",
      "     </a>\n",
      "     <a class=\"gb1\" href=\"https://translate.google.com.np/?hl=ne&amp;tab=wT\">\n",
      "      अनुबाद गर्नुहोस्\n",
      "     </a>\n",
      "     <a class=\"gb1\" href=\"https://www.google.com.np/intl/en/about/products?tab=wh\" style=\"text-decoration:none\">\n",
      "      <u>\n",
      "       थप\n",
      "      </u>\n",
      "      »\n",
      "     </a>\n",
      "    </nobr>\n",
      "   </div>\n",
      "   <div id=\"guser\" width=\"100%\">\n",
      "    <nobr>\n",
      "     <span class=\"gbi\" id=\"gbn\">\n",
      "     </span>\n",
      "     <span class=\"gbf\" id=\"gbf\">\n",
      "     </span>\n",
      "     <span id=\"gbe\">\n",
      "     </span>\n",
      "     <a class=\"gb4\" href=\"http://www.google.com.np/history/optout?hl=ne\">\n",
      "      वेब इतिहास\n",
      "     </a>\n",
      "     |\n",
      "     <a class=\"gb4\" href=\"/preferences?hl=ne\">\n",
      "      प्राथमिकताहरू\n",
      "     </a>\n",
      "     |\n",
      "     <a class=\"gb4\" href=\"https://accounts.google.com/ServiceLogin?hl=ne&amp;passive=true&amp;continue=https://www.google.com/&amp;ec=GAZAAQ\" id=\"gb_70\" target=\"_top\">\n",
      "      साइन इन\n",
      "     </a>\n",
      "    </nobr>\n",
      "   </div>\n",
      "   <div class=\"gbh\" style=\"left:0\">\n",
      "   </div>\n",
      "   <div class=\"gbh\" style=\"right:0\">\n",
      "   </div>\n",
      "  </div>\n",
      "  <center>\n",
      "   <br clear=\"all\" id=\"lgpd\"/>\n",
      "   <div id=\"lga\">\n",
      "    <img alt=\"Google\" height=\"92\" id=\"hplogo\" src=\"/images/branding/googlelogo/1x/googlelogo_white_background_color_272x92dp.png\" style=\"padding:28px 0 14px\" width=\"272\"/>\n",
      "    <br/>\n",
      "    <br/>\n",
      "   </div>\n",
      "   <form action=\"/search\" name=\"f\">\n",
      "    <table cellpadding=\"0\" cellspacing=\"0\">\n",
      "     <tr valign=\"top\">\n",
      "      <td width=\"25%\">\n",
      "      </td>\n",
      "      <td align=\"center\" nowrap=\"\">\n",
      "       <input name=\"ie\" type=\"hidden\" value=\"ISO-8859-1\"/>\n",
      "       <input name=\"hl\" type=\"hidden\" value=\"ne\"/>\n",
      "       <input name=\"source\" type=\"hidden\" value=\"hp\"/>\n",
      "       <input name=\"biw\" type=\"hidden\"/>\n",
      "       <input name=\"bih\" type=\"hidden\"/>\n",
      "       <div class=\"ds\" style=\"height:32px;margin:4px 0\">\n",
      "        <div style=\"position:relative;zoom:1\">\n",
      "         <input autocomplete=\"off\" class=\"lst tiah\" maxlength=\"2048\" name=\"q\" size=\"57\" style=\"margin:0;padding:5px 8px 0 6px;vertical-align:top;color:#000;padding-right:38px\" title=\"Google खोजी\" value=\"\"/>\n",
      "         <img alt=\"\" data-script-url=\"/textinputassistant/11/ne_tia.js\" height=\"23\" id=\"tsuid1\" src=\"/textinputassistant/tia.png\" style=\"position:absolute;cursor:pointer;right:5px;top:4px;z-index:300\" width=\"27\"/>\n",
      "         <script nonce=\"L7K8i0Vxhw1hRwIsplKnaQ==\">\n",
      "          (function(){var id='tsuid1';document.getElementById(id).onclick = function(){var s = document.createElement('script');s.src = this.getAttribute('data-script-url');(document.getElementById('xjsc')||document.body).appendChild(s);};})();\n",
      "         </script>\n",
      "        </div>\n",
      "       </div>\n",
      "       <br style=\"line-height:0\"/>\n",
      "       <span class=\"ds\">\n",
      "        <span class=\"lsbb\">\n",
      "         <input class=\"lsb\" name=\"btnG\" type=\"submit\" value=\"Google खोजी\"/>\n",
      "        </span>\n",
      "       </span>\n",
      "       <span class=\"ds\">\n",
      "        <span class=\"lsbb\">\n",
      "         <input class=\"lsb\" id=\"tsuid2\" name=\"btnI\" type=\"submit\" value=\"म भाग्यमानी अनुभूति गरिरहेछु\"/>\n",
      "         <script nonce=\"L7K8i0Vxhw1hRwIsplKnaQ==\">\n",
      "          (function(){var id='tsuid2';document.getElementById(id).onclick = function(){if (this.form.q.value){this.checked = 1;if (this.form.iflsig)this.form.iflsig.disabled = false;}\n",
      "else top.location='/doodles/';};})();\n",
      "         </script>\n",
      "         <input name=\"iflsig\" type=\"hidden\" value=\"ALs-wAMAAAAAYS9Lr_Gynp7_dqgmKqGIRw4pssjE_6OC\"/>\n",
      "        </span>\n",
      "       </span>\n",
      "      </td>\n",
      "      <td align=\"left\" class=\"fl sblc\" nowrap=\"\" width=\"25%\">\n",
      "       <a href=\"/advanced_search?hl=ne&amp;authuser=0\">\n",
      "        उन्नत खोज\n",
      "       </a>\n",
      "      </td>\n",
      "     </tr>\n",
      "    </table>\n",
      "    <input id=\"gbv\" name=\"gbv\" type=\"hidden\" value=\"1\"/>\n",
      "    <script nonce=\"L7K8i0Vxhw1hRwIsplKnaQ==\">\n",
      "     (function(){\n",
      "var a,b=\"1\";if(document&&document.getElementById)if(\"undefined\"!=typeof XMLHttpRequest)b=\"2\";else if(\"undefined\"!=typeof ActiveXObject){var c,d,e=[\"MSXML2.XMLHTTP.6.0\",\"MSXML2.XMLHTTP.3.0\",\"MSXML2.XMLHTTP\",\"Microsoft.XMLHTTP\"];for(c=0;d=e[c++];)try{new ActiveXObject(d),b=\"2\"}catch(h){}}a=b;if(\"2\"==a&&-1==location.search.indexOf(\"&gbv=2\")){var f=google.gbvu,g=document.getElementById(\"gbv\");g&&(g.value=a);f&&window.setTimeout(function(){location.href=f},0)};}).call(this);\n",
      "    </script>\n",
      "   </form>\n",
      "   <div id=\"gac_scont\">\n",
      "   </div>\n",
      "   <div style=\"font-size:83%;min-height:3.5em\">\n",
      "    <br/>\n",
      "    <div id=\"gws-output-pages-elements-homepage_additional_languages__als\">\n",
      "     <style>\n",
      "      #gws-output-pages-elements-homepage_additional_languages__als{font-size:small;margin-bottom:24px}#SIvCob{color:#3c4043;display:inline-block;line-height:28px;}#SIvCob a{padding:0 3px;}.H6sW5{display:inline-block;margin:0 2px;white-space:nowrap}.z4hgWe{display:inline-block;margin:0 2px}\n",
      "     </style>\n",
      "     <div id=\"SIvCob\">\n",
      "      Google यी भाषामा उपलब्ध छ:\n",
      "      <a href=\"https://www.google.com/setprefs?sig=0_KFcFpnldzGf92ssbbZAXLCPTIxc%3D&amp;hl=en&amp;source=homepage&amp;sa=X&amp;ved=0ahUKEwi76o2wsd3yAhX2FbkGHa7sBtwQ2ZgBCAU\">\n",
      "       English\n",
      "      </a>\n",
      "     </div>\n",
      "    </div>\n",
      "   </div>\n",
      "   <span id=\"footer\">\n",
      "    <div style=\"font-size:10pt\">\n",
      "     <div id=\"WqQANb\" style=\"margin:19px auto;text-align:center\">\n",
      "      <a href=\"/intl/ne/about.html\">\n",
      "       Googleको बारेमा सम्पूर्ण\n",
      "      </a>\n",
      "      <a href=\"https://www.google.com/setprefdomain?prefdom=NP&amp;prev=https://www.google.com.np/&amp;sig=K_0Y0c5tyhfoYCsW2oaN_7W_a1Rhk%3D\">\n",
      "       Google.com.np\n",
      "      </a>\n",
      "     </div>\n",
      "    </div>\n",
      "    <p style=\"font-size:8pt;color:#70757a\">\n",
      "     © 2021\n",
      "    </p>\n",
      "   </span>\n",
      "  </center>\n",
      "  <script nonce=\"L7K8i0Vxhw1hRwIsplKnaQ==\">\n",
      "   (function(){window.google.cdo={height:757,width:1440};(function(){\n",
      "var a=window.innerWidth,b=window.innerHeight;if(!a||!b){var c=window.document,d=\"CSS1Compat\"==c.compatMode?c.documentElement:c.body;a=d.clientWidth;b=d.clientHeight}a&&b&&(a!=google.cdo.width||b!=google.cdo.height)&&google.log(\"\",\"\",\"/client_204?&atyp=i&biw=\"+a+\"&bih=\"+b+\"&ei=\"+google.kEI);}).call(this);})();\n",
      "  </script>\n",
      "  <script nonce=\"L7K8i0Vxhw1hRwIsplKnaQ==\">\n",
      "   (function(){google.xjs={ck:'',cs:'',excm:[]};})();\n",
      "  </script>\n",
      "  <script nonce=\"L7K8i0Vxhw1hRwIsplKnaQ==\">\n",
      "   (function(){var u='/xjs/_/js/k\\x3dxjs.hp.en.J5dVwarLBj4.O/am\\x3dAPgEWA/d\\x3d1/ed\\x3d1/rs\\x3dACT90oEprVbGXhg2PzYJM-VjVKxF5Xfsng/m\\x3dsb_he,d';\n",
      "var e=this||self,f=function(a){return a};var g;var l=function(a,b){this.g=b===h?a:\"\"};l.prototype.toString=function(){return this.g+\"\"};var h={};function m(){var a=u;google.lx=function(){n(a);google.lx=function(){}};google.bx||google.lx()}\n",
      "function n(a){google.timers&&google.timers.load&&google.tick&&google.tick(\"load\",\"xjsls\");var b=document;var c=\"SCRIPT\";\"application/xhtml+xml\"===b.contentType&&(c=c.toLowerCase());c=b.createElement(c);if(void 0===g){b=null;var k=e.trustedTypes;if(k&&k.createPolicy){try{b=k.createPolicy(\"goog#html\",{createHTML:f,createScript:f,createScriptURL:f})}catch(p){e.console&&e.console.error(p.message)}g=b}else g=b}a=(b=g)?b.createScriptURL(a):a;a=new l(a,h);c.src=a instanceof l&&a.constructor===l?a.g:\"type_error:TrustedResourceUrl\";var d;a=(c.ownerDocument&&c.ownerDocument.defaultView||window).document;(d=(b=null===(d=a.querySelector)||void 0===d?void 0:d.call(a,\"script[nonce]\"))?b.nonce||b.getAttribute(\"nonce\")||\"\":\"\")&&c.setAttribute(\"nonce\",d);document.body.appendChild(c);google.psa=!0};setTimeout(function(){m()},0);})();(function(){window.google.xjsu='/xjs/_/js/k\\x3dxjs.hp.en.J5dVwarLBj4.O/am\\x3dAPgEWA/d\\x3d1/ed\\x3d1/rs\\x3dACT90oEprVbGXhg2PzYJM-VjVKxF5Xfsng/m\\x3dsb_he,d';})();function _DumpException(e){throw e;}\n",
      "function _F_installCss(c){}\n",
      "(function(){google.jl={attn:false,blt:'none',chnk:0,dw:false,emtn:0,end:0,ine:false,lls:'default',pdt:0,rep:0,sif:true,snet:true,strt:0,ubm:false,uwp:true};})();(function(){var pmc='{\\x22d\\x22:{},\\x22sb_he\\x22:{\\x22agen\\x22:true,\\x22cgen\\x22:true,\\x22client\\x22:\\x22heirloom-hp\\x22,\\x22dh\\x22:true,\\x22dhqt\\x22:true,\\x22ds\\x22:\\x22\\x22,\\x22ffql\\x22:\\x22en\\x22,\\x22fl\\x22:true,\\x22host\\x22:\\x22google.com\\x22,\\x22isbh\\x22:28,\\x22jsonp\\x22:true,\\x22msgs\\x22:{\\x22cibl\\x22:\\x22&#2360;&#2381;&#2346;&#2359;&#2381;&#2335; &#2326;&#2379;&#2332;&#2368;\\x22,\\x22dym\\x22:\\x22&#2325;&#2375; &#2340;&#2346;&#2366;&#2312;&#2306; &#2354;&#2375; &#2351;&#2379; &#2349;&#2344;&#2381;&#2344; &#2326;&#2379;&#2332;&#2381;&#2344;&#2369; &#2349;&#2319;&#2325;&#2379; &#2361;&#2379; ?\\x22,\\x22lcky\\x22:\\x22&#2350; &#2349;&#2366;&#2327;&#2381;&#2351;&#2350;&#2366;&#2344;&#2368; &#2309;&#2344;&#2369;&#2349;&#2370;&#2340;&#2367; &#2327;&#2352;&#2367;&#2352;&#2361;&#2375;&#2331;&#2369;\\x22,\\x22lml\\x22:\\x22&#2341;&#2346; &#2332;&#2366;&#2344;&#2325;&#2366;&#2352;&#2368;\\x22,\\x22oskt\\x22:\\x22&#2310;&#2327;&#2340; &#2313;&#2346;&#2325;&#2352;&#2339;&#2361;&#2352;&#2370;\\x22,\\x22psrc\\x22:\\x22&#2351;&#2379; &#2326;&#2379;&#2332;&#2368; \\\\u003Ca href\\x3d\\\\\\x22/history\\\\\\x22\\\\u003E &#2340;&#2346;&#2366;&#2312;&#2325;&#2379; &#2357;&#2375;&#2348; &#2311;&#2340;&#2367;&#2361;&#2366;&#2360;\\\\u003C/a\\\\u003E&#2348;&#2366;&#2335; &#2361;&#2335;&#2366;&#2311;&#2351;&#2379;\\x22,\\x22psrl\\x22:\\x22&#2361;&#2335;&#2366;&#2313;&#2344;&#2369;&#2361;&#2379;&#2360;\\x22,\\x22sbit\\x22:\\x22&#2330;&#2367;&#2340;&#2381;&#2352;&#2342;&#2381;&#2357;&#2366;&#2352;&#2366; &#2326;&#2379;&#2332;&#2381;&#2344;&#2369;&#2361;&#2379;&#2360;&#2381;\\x22,\\x22srch\\x22:\\x22Google &#2326;&#2379;&#2332;&#2368;\\x22},\\x22ovr\\x22:{},\\x22pq\\x22:\\x22\\x22,\\x22refpd\\x22:true,\\x22rfs\\x22:[],\\x22sbas\\x22:\\x220 3px 8px 0 rgba(0,0,0,0.2),0 0 0 1px rgba(0,0,0,0.08)\\x22,\\x22sbpl\\x22:16,\\x22sbpr\\x22:16,\\x22scd\\x22:10,\\x22stok\\x22:\\x22i_0kVj_L2WJh25WFFNz3uhy-5Xg\\x22,\\x22uhde\\x22:false}}';google.pmc=JSON.parse(pmc);})();\n",
      "  </script>\n",
      " </body>\n",
      "</html>\n"
     ]
    },
    {
     "data": {
      "text/plain": [
       "[]"
      ]
     },
     "execution_count": 2,
     "metadata": {},
     "output_type": "execute_result"
    }
   ],
   "source": [
    "import bs4\n",
    "import requests\n",
    "req_obj=requests.get(\"https://www.google.com\")\n",
    "req_obj.raise_for_status()\n",
    "soup=bs4.BeautifulSoup(req_obj.text,\"html.parser\")\n",
    "print(soup.prettify()) # print content of HTML in formatted way\n",
    "soup.select(\"meta content\") # returns a list of matching element objects"
   ]
  },
  {
   "cell_type": "code",
   "execution_count": 6,
   "metadata": {},
   "outputs": [
    {
     "data": {
      "text/plain": [
       "<title>Google</title>"
      ]
     },
     "execution_count": 6,
     "metadata": {},
     "output_type": "execute_result"
    }
   ],
   "source": [
    "soup.title # Get specific element of HTML\n"
   ]
  },
  {
   "cell_type": "code",
   "execution_count": 8,
   "metadata": {},
   "outputs": [
    {
     "data": {
      "text/plain": [
       "<html itemscope=\"\" itemtype=\"http://schema.org/WebPage\" lang=\"ne\"><head><meta content=\"text/html; charset=utf-8\" http-equiv=\"Content-Type\"/><meta content=\"/images/branding/googleg/1x/googleg_standard_color_128dp.png\" itemprop=\"image\"/><title>Google</title><script nonce=\"L7K8i0Vxhw1hRwIsplKnaQ==\">(function(){window.google={kEI:'nz0vYfse9qvk5Q-u2ZvgDQ',kEXPI:'0,772215,1,530320,54244,2629,954,5105,206,2414,2390,2316,383,246,5,1354,5251,1122515,1197753,529,328985,51224,16114,19397,9287,17572,4858,1362,283,9007,3028,17582,4997,13228,3847,10622,14527,4518,2777,919,2855,2226,1593,1279,2212,530,149,1103,840,2197,4100,4120,2023,1777,520,14670,3227,1989,856,7,12353,5097,16320,908,2,941,2614,3424,9718,3,346,230,6459,149,13975,4,1528,2304,1236,5803,4683,2015,13611,4764,2658,872,3371,3112,32,13628,2305,638,1494,5586,3772,7428,652,1869,3300,2536,4094,18,3120,6,613,295,3,3541,1,5096,2,1,3,9608,1814,283,38,874,5992,16728,1344,371,2,3036,21,5439,727,3810,2326,594,1532,2379,1678,744,1274,1248,3330,2051,6822,1590,1160,1266,3,4844,3,292,292,2380,1574,1145,4545,3,123,3855,753,742,4635,1213,2364,9,2,6,207,2,1488,1759,2382,1935,1932,190,2445,1385,1193,3124,557,5367,50,1215,270,626,1662,49,594,665,2,290,502,684,4336,233,138,894,196,306,224,94,55,2,1594,751,8,23,159,9,505,899,127,204,975,95,245,450,2,523,89,4,45,99,90,937,1833,256,76,143,1055,355,39,84,137,1845,5582613,2032,226,220,72,74,60,73,6,5996064,520,2800696,882,444,1,2,80,1,1796,1,9,2553,1,748,141,795,563,1,4265,1,1,2,1331,4142,2609,155,17,13,72,139,4,2,20,2,169,13,19,46,5,39,96,548,29,2,2,1,2,1,2,2,7,4,1,2,2,2,2,2,2,353,513,186,1,1,158,3,2,2,2,2,2,4,2,3,3,269,291,14,25,2,12,14,5,41,1,48,10,20734250,2920145,299865,4041351,338,3,2414,448,2,463,95,77,406,9,2259,2516,889,767960',kBL:'H8wX'};google.sn='webhp';google.kHL='ne';})();(function(){\n",
       "var f=this||self;var h,k=[];function l(a){for(var b;a&&(!a.getAttribute||!(b=a.getAttribute(\"eid\")));)a=a.parentNode;return b||h}function m(a){for(var b=null;a&&(!a.getAttribute||!(b=a.getAttribute(\"leid\")));)a=a.parentNode;return b}\n",
       "function n(a,b,c,d,g){var e=\"\";c||-1!==b.search(\"&ei=\")||(e=\"&ei=\"+l(d),-1===b.search(\"&lei=\")&&(d=m(d))&&(e+=\"&lei=\"+d));d=\"\";!c&&f._cshid&&-1===b.search(\"&cshid=\")&&\"slh\"!==a&&(d=\"&cshid=\"+f._cshid);c=c||\"/\"+(g||\"gen_204\")+\"?atyp=i&ct=\"+a+\"&cad=\"+b+e+\"&zx=\"+Date.now()+d;/^http:/i.test(c)&&\"https:\"===window.location.protocol&&(google.ml&&google.ml(Error(\"a\"),!1,{src:c,glmm:1}),c=\"\");return c};h=google.kEI;google.getEI=l;google.getLEI=m;google.ml=function(){return null};google.log=function(a,b,c,d,g){if(c=n(a,b,c,d,g)){a=new Image;var e=k.length;k[e]=a;a.onerror=a.onload=a.onabort=function(){delete k[e]};a.src=c}};google.logUrl=n;}).call(this);(function(){\n",
       "google.y={};google.sy=[];google.x=function(a,b){if(a)var c=a.id;else{do c=Math.random();while(google.y[c])}google.y[c]=[a,b];return!1};google.sx=function(a){google.sy.push(a)};google.lm=[];google.plm=function(a){google.lm.push.apply(google.lm,a)};google.lq=[];google.load=function(a,b,c){google.lq.push([[a],b,c])};google.loadAll=function(a,b){google.lq.push([a,b])};google.bx=!1;google.lx=function(){};}).call(this);google.f={};(function(){\n",
       "document.documentElement.addEventListener(\"submit\",function(b){var a;if(a=b.target){var c=a.getAttribute(\"data-submitfalse\");a=\"1\"==c||\"q\"==c&&!a.elements.q.value?!0:!1}else a=!1;a&&(b.preventDefault(),b.stopPropagation())},!0);document.documentElement.addEventListener(\"click\",function(b){var a;a:{for(a=b.target;a&&a!=document.documentElement;a=a.parentElement)if(\"A\"==a.tagName){a=\"1\"==a.getAttribute(\"data-nohref\");break a}a=!1}a&&b.preventDefault()},!0);}).call(this);</script><style>#gbar,#guser{font-size:13px;padding-top:1px !important;}#gbar{height:22px}#guser{padding-bottom:7px !important;text-align:right}.gbh,.gbd{border-top:1px solid #c9d7f1;font-size:1px}.gbh{height:0;position:absolute;top:24px;width:100%}@media all{.gb1{height:22px;margin-right:.5em;vertical-align:top}#gbar{float:left}}a.gb1,a.gb4{text-decoration:underline !important}a.gb1,a.gb4{color:#00c !important}.gbi .gb4{color:#dd8e27 !important}.gbf .gb4{color:#900 !important}\n",
       "</style><style>body,td,a,p,.h{font-family:arial,sans-serif}body{margin:0;overflow-y:scroll}#gog{padding:3px 8px 0}td{line-height:.8em}.gac_m td{line-height:17px}form{margin-bottom:20px}.h{color:#1558d6}em{font-weight:bold;font-style:normal}.lst{height:25px;width:496px}.gsfi,.lst{font:18px arial,sans-serif}.gsfs{font:17px arial,sans-serif}.ds{display:inline-box;display:inline-block;margin:3px 0 4px;margin-left:4px}input{font-family:inherit}body{background:#fff;color:#000}a{color:#4b11a8;text-decoration:none}a:hover,a:active{text-decoration:underline}.fl a{color:#1558d6}a:visited{color:#4b11a8}.sblc{padding-top:5px}.sblc a{display:block;margin:2px 0;margin-left:13px;font-size:11px}.lsbb{background:#f8f9fa;border:solid 1px;border-color:#dadce0 #70757a #70757a #dadce0;height:30px}.lsbb{display:block}#WqQANb a{display:inline-block;margin:0 12px}.lsb{background:url(/images/nav_logo229.png) 0 -261px repeat-x;border:none;color:#000;cursor:pointer;height:30px;margin:0;outline:0;font:15px arial,sans-serif;vertical-align:top}.lsb:active{background:#dadce0}.lst:focus{outline:none}.tiah{width:458px}</style><script nonce=\"L7K8i0Vxhw1hRwIsplKnaQ==\"></script></head><body bgcolor=\"#fff\"><script nonce=\"L7K8i0Vxhw1hRwIsplKnaQ==\">(function(){var src='/images/nav_logo229.png';var iesg=false;document.body.onload = function(){window.n && window.n();if (document.images){new Image().src=src;}\n",
       "if (!iesg){document.f&&document.f.q.focus();document.gbqf&&document.gbqf.q.focus();}\n",
       "}\n",
       "})();</script><div id=\"mngb\"><div id=\"gbar\"><nobr><b class=\"gb1\">खोज</b> <a class=\"gb1\" href=\"https://www.google.com.np/imghp?hl=ne&amp;tab=wi\">फोटो</a> <a class=\"gb1\" href=\"https://maps.google.com.np/maps?hl=ne&amp;tab=wl\">नक्सा</a> <a class=\"gb1\" href=\"https://news.google.com/?tab=wn\">समाचार</a> <a class=\"gb1\" href=\"https://mail.google.com/mail/?tab=wm\">Gmail</a> <a class=\"gb1\" href=\"https://drive.google.com/?tab=wo\">ड्राइभ</a> <a class=\"gb1\" href=\"https://calendar.google.com/calendar?tab=wc\">पात्रो</a> <a class=\"gb1\" href=\"https://translate.google.com.np/?hl=ne&amp;tab=wT\">अनुबाद गर्नुहोस्</a> <a class=\"gb1\" href=\"https://www.google.com.np/intl/en/about/products?tab=wh\" style=\"text-decoration:none\"><u>थप</u> »</a></nobr></div><div id=\"guser\" width=\"100%\"><nobr><span class=\"gbi\" id=\"gbn\"></span><span class=\"gbf\" id=\"gbf\"></span><span id=\"gbe\"></span><a class=\"gb4\" href=\"http://www.google.com.np/history/optout?hl=ne\">वेब इतिहास</a> | <a class=\"gb4\" href=\"/preferences?hl=ne\">प्राथमिकताहरू</a> | <a class=\"gb4\" href=\"https://accounts.google.com/ServiceLogin?hl=ne&amp;passive=true&amp;continue=https://www.google.com/&amp;ec=GAZAAQ\" id=\"gb_70\" target=\"_top\">साइन इन</a></nobr></div><div class=\"gbh\" style=\"left:0\"></div><div class=\"gbh\" style=\"right:0\"></div></div><center><br clear=\"all\" id=\"lgpd\"/><div id=\"lga\"><img alt=\"Google\" height=\"92\" id=\"hplogo\" src=\"/images/branding/googlelogo/1x/googlelogo_white_background_color_272x92dp.png\" style=\"padding:28px 0 14px\" width=\"272\"/><br/><br/></div><form action=\"/search\" name=\"f\"><table cellpadding=\"0\" cellspacing=\"0\"><tr valign=\"top\"><td width=\"25%\"> </td><td align=\"center\" nowrap=\"\"><input name=\"ie\" type=\"hidden\" value=\"ISO-8859-1\"/><input name=\"hl\" type=\"hidden\" value=\"ne\"/><input name=\"source\" type=\"hidden\" value=\"hp\"/><input name=\"biw\" type=\"hidden\"/><input name=\"bih\" type=\"hidden\"/><div class=\"ds\" style=\"height:32px;margin:4px 0\"><div style=\"position:relative;zoom:1\"><input autocomplete=\"off\" class=\"lst tiah\" maxlength=\"2048\" name=\"q\" size=\"57\" style=\"margin:0;padding:5px 8px 0 6px;vertical-align:top;color:#000;padding-right:38px\" title=\"Google खोजी\" value=\"\"/><img alt=\"\" data-script-url=\"/textinputassistant/11/ne_tia.js\" height=\"23\" id=\"tsuid1\" src=\"/textinputassistant/tia.png\" style=\"position:absolute;cursor:pointer;right:5px;top:4px;z-index:300\" width=\"27\"/><script nonce=\"L7K8i0Vxhw1hRwIsplKnaQ==\">(function(){var id='tsuid1';document.getElementById(id).onclick = function(){var s = document.createElement('script');s.src = this.getAttribute('data-script-url');(document.getElementById('xjsc')||document.body).appendChild(s);};})();</script></div></div><br style=\"line-height:0\"/><span class=\"ds\"><span class=\"lsbb\"><input class=\"lsb\" name=\"btnG\" type=\"submit\" value=\"Google खोजी\"/></span></span><span class=\"ds\"><span class=\"lsbb\"><input class=\"lsb\" id=\"tsuid2\" name=\"btnI\" type=\"submit\" value=\"म भाग्यमानी अनुभूति गरिरहेछु\"/><script nonce=\"L7K8i0Vxhw1hRwIsplKnaQ==\">(function(){var id='tsuid2';document.getElementById(id).onclick = function(){if (this.form.q.value){this.checked = 1;if (this.form.iflsig)this.form.iflsig.disabled = false;}\n",
       "else top.location='/doodles/';};})();</script><input name=\"iflsig\" type=\"hidden\" value=\"ALs-wAMAAAAAYS9Lr_Gynp7_dqgmKqGIRw4pssjE_6OC\"/></span></span></td><td align=\"left\" class=\"fl sblc\" nowrap=\"\" width=\"25%\"><a href=\"/advanced_search?hl=ne&amp;authuser=0\">उन्नत खोज </a></td></tr></table><input id=\"gbv\" name=\"gbv\" type=\"hidden\" value=\"1\"/><script nonce=\"L7K8i0Vxhw1hRwIsplKnaQ==\">(function(){\n",
       "var a,b=\"1\";if(document&&document.getElementById)if(\"undefined\"!=typeof XMLHttpRequest)b=\"2\";else if(\"undefined\"!=typeof ActiveXObject){var c,d,e=[\"MSXML2.XMLHTTP.6.0\",\"MSXML2.XMLHTTP.3.0\",\"MSXML2.XMLHTTP\",\"Microsoft.XMLHTTP\"];for(c=0;d=e[c++];)try{new ActiveXObject(d),b=\"2\"}catch(h){}}a=b;if(\"2\"==a&&-1==location.search.indexOf(\"&gbv=2\")){var f=google.gbvu,g=document.getElementById(\"gbv\");g&&(g.value=a);f&&window.setTimeout(function(){location.href=f},0)};}).call(this);</script></form><div id=\"gac_scont\"></div><div style=\"font-size:83%;min-height:3.5em\"><br/><div id=\"gws-output-pages-elements-homepage_additional_languages__als\"><style>#gws-output-pages-elements-homepage_additional_languages__als{font-size:small;margin-bottom:24px}#SIvCob{color:#3c4043;display:inline-block;line-height:28px;}#SIvCob a{padding:0 3px;}.H6sW5{display:inline-block;margin:0 2px;white-space:nowrap}.z4hgWe{display:inline-block;margin:0 2px}</style><div id=\"SIvCob\">Google यी भाषामा उपलब्ध छ:  <a href=\"https://www.google.com/setprefs?sig=0_KFcFpnldzGf92ssbbZAXLCPTIxc%3D&amp;hl=en&amp;source=homepage&amp;sa=X&amp;ved=0ahUKEwi76o2wsd3yAhX2FbkGHa7sBtwQ2ZgBCAU\">English</a> </div></div></div><span id=\"footer\"><div style=\"font-size:10pt\"><div id=\"WqQANb\" style=\"margin:19px auto;text-align:center\"><a href=\"/intl/ne/about.html\">Googleको बारेमा सम्पूर्ण</a><a href=\"https://www.google.com/setprefdomain?prefdom=NP&amp;prev=https://www.google.com.np/&amp;sig=K_0Y0c5tyhfoYCsW2oaN_7W_a1Rhk%3D\">Google.com.np</a></div></div><p style=\"font-size:8pt;color:#70757a\">© 2021</p></span></center><script nonce=\"L7K8i0Vxhw1hRwIsplKnaQ==\">(function(){window.google.cdo={height:757,width:1440};(function(){\n",
       "var a=window.innerWidth,b=window.innerHeight;if(!a||!b){var c=window.document,d=\"CSS1Compat\"==c.compatMode?c.documentElement:c.body;a=d.clientWidth;b=d.clientHeight}a&&b&&(a!=google.cdo.width||b!=google.cdo.height)&&google.log(\"\",\"\",\"/client_204?&atyp=i&biw=\"+a+\"&bih=\"+b+\"&ei=\"+google.kEI);}).call(this);})();</script> <script nonce=\"L7K8i0Vxhw1hRwIsplKnaQ==\">(function(){google.xjs={ck:'',cs:'',excm:[]};})();</script> <script nonce=\"L7K8i0Vxhw1hRwIsplKnaQ==\">(function(){var u='/xjs/_/js/k\\x3dxjs.hp.en.J5dVwarLBj4.O/am\\x3dAPgEWA/d\\x3d1/ed\\x3d1/rs\\x3dACT90oEprVbGXhg2PzYJM-VjVKxF5Xfsng/m\\x3dsb_he,d';\n",
       "var e=this||self,f=function(a){return a};var g;var l=function(a,b){this.g=b===h?a:\"\"};l.prototype.toString=function(){return this.g+\"\"};var h={};function m(){var a=u;google.lx=function(){n(a);google.lx=function(){}};google.bx||google.lx()}\n",
       "function n(a){google.timers&&google.timers.load&&google.tick&&google.tick(\"load\",\"xjsls\");var b=document;var c=\"SCRIPT\";\"application/xhtml+xml\"===b.contentType&&(c=c.toLowerCase());c=b.createElement(c);if(void 0===g){b=null;var k=e.trustedTypes;if(k&&k.createPolicy){try{b=k.createPolicy(\"goog#html\",{createHTML:f,createScript:f,createScriptURL:f})}catch(p){e.console&&e.console.error(p.message)}g=b}else g=b}a=(b=g)?b.createScriptURL(a):a;a=new l(a,h);c.src=a instanceof l&&a.constructor===l?a.g:\"type_error:TrustedResourceUrl\";var d;a=(c.ownerDocument&&c.ownerDocument.defaultView||window).document;(d=(b=null===(d=a.querySelector)||void 0===d?void 0:d.call(a,\"script[nonce]\"))?b.nonce||b.getAttribute(\"nonce\")||\"\":\"\")&&c.setAttribute(\"nonce\",d);document.body.appendChild(c);google.psa=!0};setTimeout(function(){m()},0);})();(function(){window.google.xjsu='/xjs/_/js/k\\x3dxjs.hp.en.J5dVwarLBj4.O/am\\x3dAPgEWA/d\\x3d1/ed\\x3d1/rs\\x3dACT90oEprVbGXhg2PzYJM-VjVKxF5Xfsng/m\\x3dsb_he,d';})();function _DumpException(e){throw e;}\n",
       "function _F_installCss(c){}\n",
       "(function(){google.jl={attn:false,blt:'none',chnk:0,dw:false,emtn:0,end:0,ine:false,lls:'default',pdt:0,rep:0,sif:true,snet:true,strt:0,ubm:false,uwp:true};})();(function(){var pmc='{\\x22d\\x22:{},\\x22sb_he\\x22:{\\x22agen\\x22:true,\\x22cgen\\x22:true,\\x22client\\x22:\\x22heirloom-hp\\x22,\\x22dh\\x22:true,\\x22dhqt\\x22:true,\\x22ds\\x22:\\x22\\x22,\\x22ffql\\x22:\\x22en\\x22,\\x22fl\\x22:true,\\x22host\\x22:\\x22google.com\\x22,\\x22isbh\\x22:28,\\x22jsonp\\x22:true,\\x22msgs\\x22:{\\x22cibl\\x22:\\x22&#2360;&#2381;&#2346;&#2359;&#2381;&#2335; &#2326;&#2379;&#2332;&#2368;\\x22,\\x22dym\\x22:\\x22&#2325;&#2375; &#2340;&#2346;&#2366;&#2312;&#2306; &#2354;&#2375; &#2351;&#2379; &#2349;&#2344;&#2381;&#2344; &#2326;&#2379;&#2332;&#2381;&#2344;&#2369; &#2349;&#2319;&#2325;&#2379; &#2361;&#2379; ?\\x22,\\x22lcky\\x22:\\x22&#2350; &#2349;&#2366;&#2327;&#2381;&#2351;&#2350;&#2366;&#2344;&#2368; &#2309;&#2344;&#2369;&#2349;&#2370;&#2340;&#2367; &#2327;&#2352;&#2367;&#2352;&#2361;&#2375;&#2331;&#2369;\\x22,\\x22lml\\x22:\\x22&#2341;&#2346; &#2332;&#2366;&#2344;&#2325;&#2366;&#2352;&#2368;\\x22,\\x22oskt\\x22:\\x22&#2310;&#2327;&#2340; &#2313;&#2346;&#2325;&#2352;&#2339;&#2361;&#2352;&#2370;\\x22,\\x22psrc\\x22:\\x22&#2351;&#2379; &#2326;&#2379;&#2332;&#2368; \\\\u003Ca href\\x3d\\\\\\x22/history\\\\\\x22\\\\u003E &#2340;&#2346;&#2366;&#2312;&#2325;&#2379; &#2357;&#2375;&#2348; &#2311;&#2340;&#2367;&#2361;&#2366;&#2360;\\\\u003C/a\\\\u003E&#2348;&#2366;&#2335; &#2361;&#2335;&#2366;&#2311;&#2351;&#2379;\\x22,\\x22psrl\\x22:\\x22&#2361;&#2335;&#2366;&#2313;&#2344;&#2369;&#2361;&#2379;&#2360;\\x22,\\x22sbit\\x22:\\x22&#2330;&#2367;&#2340;&#2381;&#2352;&#2342;&#2381;&#2357;&#2366;&#2352;&#2366; &#2326;&#2379;&#2332;&#2381;&#2344;&#2369;&#2361;&#2379;&#2360;&#2381;\\x22,\\x22srch\\x22:\\x22Google &#2326;&#2379;&#2332;&#2368;\\x22},\\x22ovr\\x22:{},\\x22pq\\x22:\\x22\\x22,\\x22refpd\\x22:true,\\x22rfs\\x22:[],\\x22sbas\\x22:\\x220 3px 8px 0 rgba(0,0,0,0.2),0 0 0 1px rgba(0,0,0,0.08)\\x22,\\x22sbpl\\x22:16,\\x22sbpr\\x22:16,\\x22scd\\x22:10,\\x22stok\\x22:\\x22i_0kVj_L2WJh25WFFNz3uhy-5Xg\\x22,\\x22uhde\\x22:false}}';google.pmc=JSON.parse(pmc);})();</script> </body></html>"
      ]
     },
     "execution_count": 8,
     "metadata": {},
     "output_type": "execute_result"
    }
   ],
   "source": [
    "soup.html"
   ]
  },
  {
   "cell_type": "code",
   "execution_count": 10,
   "metadata": {},
   "outputs": [
    {
     "data": {
      "text/plain": [
       "<script nonce=\"L7K8i0Vxhw1hRwIsplKnaQ==\">(function(){window.google={kEI:'nz0vYfse9qvk5Q-u2ZvgDQ',kEXPI:'0,772215,1,530320,54244,2629,954,5105,206,2414,2390,2316,383,246,5,1354,5251,1122515,1197753,529,328985,51224,16114,19397,9287,17572,4858,1362,283,9007,3028,17582,4997,13228,3847,10622,14527,4518,2777,919,2855,2226,1593,1279,2212,530,149,1103,840,2197,4100,4120,2023,1777,520,14670,3227,1989,856,7,12353,5097,16320,908,2,941,2614,3424,9718,3,346,230,6459,149,13975,4,1528,2304,1236,5803,4683,2015,13611,4764,2658,872,3371,3112,32,13628,2305,638,1494,5586,3772,7428,652,1869,3300,2536,4094,18,3120,6,613,295,3,3541,1,5096,2,1,3,9608,1814,283,38,874,5992,16728,1344,371,2,3036,21,5439,727,3810,2326,594,1532,2379,1678,744,1274,1248,3330,2051,6822,1590,1160,1266,3,4844,3,292,292,2380,1574,1145,4545,3,123,3855,753,742,4635,1213,2364,9,2,6,207,2,1488,1759,2382,1935,1932,190,2445,1385,1193,3124,557,5367,50,1215,270,626,1662,49,594,665,2,290,502,684,4336,233,138,894,196,306,224,94,55,2,1594,751,8,23,159,9,505,899,127,204,975,95,245,450,2,523,89,4,45,99,90,937,1833,256,76,143,1055,355,39,84,137,1845,5582613,2032,226,220,72,74,60,73,6,5996064,520,2800696,882,444,1,2,80,1,1796,1,9,2553,1,748,141,795,563,1,4265,1,1,2,1331,4142,2609,155,17,13,72,139,4,2,20,2,169,13,19,46,5,39,96,548,29,2,2,1,2,1,2,2,7,4,1,2,2,2,2,2,2,353,513,186,1,1,158,3,2,2,2,2,2,4,2,3,3,269,291,14,25,2,12,14,5,41,1,48,10,20734250,2920145,299865,4041351,338,3,2414,448,2,463,95,77,406,9,2259,2516,889,767960',kBL:'H8wX'};google.sn='webhp';google.kHL='ne';})();(function(){\n",
       "var f=this||self;var h,k=[];function l(a){for(var b;a&&(!a.getAttribute||!(b=a.getAttribute(\"eid\")));)a=a.parentNode;return b||h}function m(a){for(var b=null;a&&(!a.getAttribute||!(b=a.getAttribute(\"leid\")));)a=a.parentNode;return b}\n",
       "function n(a,b,c,d,g){var e=\"\";c||-1!==b.search(\"&ei=\")||(e=\"&ei=\"+l(d),-1===b.search(\"&lei=\")&&(d=m(d))&&(e+=\"&lei=\"+d));d=\"\";!c&&f._cshid&&-1===b.search(\"&cshid=\")&&\"slh\"!==a&&(d=\"&cshid=\"+f._cshid);c=c||\"/\"+(g||\"gen_204\")+\"?atyp=i&ct=\"+a+\"&cad=\"+b+e+\"&zx=\"+Date.now()+d;/^http:/i.test(c)&&\"https:\"===window.location.protocol&&(google.ml&&google.ml(Error(\"a\"),!1,{src:c,glmm:1}),c=\"\");return c};h=google.kEI;google.getEI=l;google.getLEI=m;google.ml=function(){return null};google.log=function(a,b,c,d,g){if(c=n(a,b,c,d,g)){a=new Image;var e=k.length;k[e]=a;a.onerror=a.onload=a.onabort=function(){delete k[e]};a.src=c}};google.logUrl=n;}).call(this);(function(){\n",
       "google.y={};google.sy=[];google.x=function(a,b){if(a)var c=a.id;else{do c=Math.random();while(google.y[c])}google.y[c]=[a,b];return!1};google.sx=function(a){google.sy.push(a)};google.lm=[];google.plm=function(a){google.lm.push.apply(google.lm,a)};google.lq=[];google.load=function(a,b,c){google.lq.push([[a],b,c])};google.loadAll=function(a,b){google.lq.push([a,b])};google.bx=!1;google.lx=function(){};}).call(this);google.f={};(function(){\n",
       "document.documentElement.addEventListener(\"submit\",function(b){var a;if(a=b.target){var c=a.getAttribute(\"data-submitfalse\");a=\"1\"==c||\"q\"==c&&!a.elements.q.value?!0:!1}else a=!1;a&&(b.preventDefault(),b.stopPropagation())},!0);document.documentElement.addEventListener(\"click\",function(b){var a;a:{for(a=b.target;a&&a!=document.documentElement;a=a.parentElement)if(\"A\"==a.tagName){a=\"1\"==a.getAttribute(\"data-nohref\");break a}a=!1}a&&b.preventDefault()},!0);}).call(this);</script>"
      ]
     },
     "execution_count": 10,
     "metadata": {},
     "output_type": "execute_result"
    }
   ],
   "source": [
    "soup.script"
   ]
  },
  {
   "cell_type": "code",
   "execution_count": 12,
   "metadata": {},
   "outputs": [
    {
     "data": {
      "text/plain": [
       "'Google'"
      ]
     },
     "execution_count": 12,
     "metadata": {},
     "output_type": "execute_result"
    }
   ],
   "source": [
    "soup.title.text # Get text of first specific tag"
   ]
  },
  {
   "cell_type": "code",
   "execution_count": 14,
   "metadata": {},
   "outputs": [
    {
     "data": {
      "text/plain": [
       "<title>Google</title>"
      ]
     },
     "execution_count": 14,
     "metadata": {},
     "output_type": "execute_result"
    }
   ],
   "source": [
    "soup.find(\"title\")"
   ]
  },
  {
   "cell_type": "code",
   "execution_count": 17,
   "metadata": {},
   "outputs": [
    {
     "data": {
      "text/plain": [
       "<span class=\"lsbb\"><input class=\"lsb\" name=\"btnG\" type=\"submit\" value=\"Google खोजी\"/></span>"
      ]
     },
     "execution_count": 17,
     "metadata": {},
     "output_type": "execute_result"
    }
   ],
   "source": [
    "soup.find(\"span\",class_=\"lsbb\") # find span tag with class of \"lsbb\""
   ]
  },
  {
   "cell_type": "code",
   "execution_count": 22,
   "metadata": {},
   "outputs": [
    {
     "data": {
      "text/plain": [
       "['lsbb']"
      ]
     },
     "execution_count": 22,
     "metadata": {},
     "output_type": "execute_result"
    }
   ],
   "source": [
    "soup.find(\"span\",class_=\"lsbb\")[\"class\"] # Get class value of tag with span and class=\"lsbb\""
   ]
  },
  {
   "cell_type": "code",
   "execution_count": 28,
   "metadata": {},
   "outputs": [
    {
     "data": {
      "text/plain": [
       "'submit'"
      ]
     },
     "execution_count": 28,
     "metadata": {},
     "output_type": "execute_result"
    }
   ],
   "source": [
    "# to get tag use .\n",
    "# to get value of attribute use [\"\"]\n",
    "soup.find(\"span\",class_=\"lsbb\").input[\"type\"]"
   ]
  },
  {
   "cell_type": "code",
   "execution_count": 37,
   "metadata": {},
   "outputs": [
    {
     "name": "stdout",
     "output_type": "stream",
     "text": [
      "खोज फोटो नक्सा समाचार Gmail ड्राइभ पात्रो अनुबाद गर्नुहोस् थप »वेब इतिहास | प्राथमिकताहरू | साइन इन\n",
      " \n",
      "खोज फोटो नक्सा समाचार Gmail ड्राइभ पात्रो अनुबाद गर्नुहोस् थप »\n",
      " \n",
      "वेब इतिहास | प्राथमिकताहरू | साइन इन\n",
      " \n",
      "\n",
      " \n",
      "\n",
      " \n",
      "\n",
      " \n",
      "\n",
      " \n",
      "\n",
      " \n",
      "\n",
      " \n",
      "Google यी भाषामा उपलब्ध छ:  English \n",
      " \n",
      "Google यी भाषामा उपलब्ध छ:  English \n",
      " \n",
      "Google यी भाषामा उपलब्ध छ:  English \n",
      " \n",
      "Googleको बारेमा सम्पूर्णGoogle.com.np\n",
      " \n",
      "Googleको बारेमा सम्पूर्णGoogle.com.np\n",
      " \n"
     ]
    }
   ],
   "source": [
    "for article in soup.find_all(\"div\"):\n",
    "    print(article.text)\n",
    "    print(\" \")\n",
    "    "
   ]
  },
  {
   "cell_type": "code",
   "execution_count": 66,
   "metadata": {},
   "outputs": [
    {
     "data": {
      "text/plain": [
       "[<p style=\"font-size:8pt;color:#70757a\">© 2021</p>]"
      ]
     },
     "execution_count": 66,
     "metadata": {},
     "output_type": "execute_result"
    }
   ],
   "source": [
    "soup.find_all(\"p\")"
   ]
  },
  {
   "cell_type": "code",
   "execution_count": 39,
   "metadata": {},
   "outputs": [
    {
     "data": {
      "text/plain": [
       "'© 2021'"
      ]
     },
     "execution_count": 39,
     "metadata": {},
     "output_type": "execute_result"
    }
   ],
   "source": [
    "soup.find(\"p\").text"
   ]
  },
  {
   "cell_type": "code",
   "execution_count": 8,
   "metadata": {},
   "outputs": [
    {
     "name": "stdout",
     "output_type": "stream",
     "text": [
      "\n",
      "<!DOCTYPE HTML>\n",
      "\n",
      "<html>\n",
      "<head>\n",
      "<meta content=\"text/html; charset=utf-8\" http-equiv=\"Content-Type\"/>\n",
      "<meta content=\"width=device-width, initial-scale=1\" name=\"viewport\"/>\n",
      "<title>Nepal Stock Exchange Ltd.</title>\n",
      "<meta content=\"NEPSE Official Website\" name=\"title\"/>\n",
      "<meta content=\"This is NEPSE Official Website\" http-equiv=\"description\" name=\"description\"/>\n",
      "<meta content=\"This is NEPSE Official Website\" http-equiv=\"keywords\" name=\"keywords\"/>\n",
      "<link href=\"/favicon.ico\" rel=\"shortcut icon\" type=\"image/x-icon\"/>\n",
      "<link href=\"/favicon.ico\" rel=\"icon\" type=\"image/x-icon\"/>\n",
      "<!-- Bootstrap core CSS -->\n",
      "<link href=\"http://www.nepalstock.com/css/reset.css\" rel=\"stylesheet\"/>\n",
      "<link href=\"http://www.nepalstock.com/css/bootstrap.css\" rel=\"stylesheet\"/>\n",
      "<link href=\"http://www.nepalstock.com/js/ui/theme/orange.css\" rel=\"stylesheet\" type=\"text/css\">\n",
      "<!-- Custom styles for this template -->\n",
      "<link href=\"http://www.nepalstock.com/css/style.css\" rel=\"stylesheet\"/>\n",
      "<link href=\"http://fonts.googleapis.com/css?family=Merriweather+Sans:400,800\" rel=\"stylesheet\" type=\"text/css\"/>\n",
      "<!-- Just for debugging purposes. Don't actually copy this line! -->\n",
      "<!--[if lt IE 9]><script src=\"../../docs-assets/js/ie8-responsive-file-warning.js\"></script><![endif]-->\n",
      "<!-- HTML5 shim and Respond.js IE8 support of HTML5 elements and media queries -->\n",
      "<!--[if lt IE 9]>\r\n",
      "          <script src=\"https://oss.maxcdn.com/libs/html5shiv/3.7.0/html5shiv.js\"></script>\r\n",
      "          <script src=\"https://oss.maxcdn.com/libs/respond.js/1.3.0/respond.min.js\"></script>\r\n",
      "        <![endif]-->\n",
      "<script src=\"http://www.nepalstock.com/js/jquery-1.7.1.min.js\" type=\"text/javascript\"></script>\n",
      "<script src=\"http://www.nepalstock.com/js/ui/jquery-ui-1.7.1.min.js\" type=\"text/javascript\"></script>\n",
      "<script charset=\"utf-8\" src=\"http://www.nepalstock.com/js/slides.min.jquery.js\" type=\"text/javascript\"></script>\n",
      "<script charset=\"utf-8\" src=\"http://www.nepalstock.com/js/jquery.innerfade.js\" type=\"text/javascript\"></script>\n",
      "<script src=\"http://www.nepalstock.com/js/ckeditor/ckeditor.js\" type=\"text/javascript\"></script>\n",
      "<script src=\"http://www.nepalstock.com/js/facebox/facebox.js\" type=\"text/javascript\"></script>\n",
      "<script language=\"javascript\" src=\"http://www.nepalstock.com/js/utils.js\" type=\"text/javascript\"></script>\n",
      "<script language=\"javascript\" src=\"http://www.nepalstock.com/js/jquery-marquee.js\" type=\"text/javascript\"></script>\n",
      "<script language=\"javascript\" src=\"http://www.nepalstock.com/js/bootstrap/datepicker/js/bootstrap-datepicker.js\" type=\"text/javascript\"></script>\n",
      "<link href=\"http://www.nepalstock.com/js/bootstrap/datepicker/css/datepicker.css\" rel=\"stylesheet\" type=\"text/css\">\n",
      "<link href=\"http://www.nepalstock.com/js/superfish/css/menu-responsive.css\" rel=\"stylesheet\" type=\"text/css\">\n",
      "<link href=\"http://www.nepalstock.com/js/superfish/css/superfish.css\" rel=\"stylesheet\" type=\"text/css\">\n",
      "<script src=\"http://www.nepalstock.com/js/superfish/js/hoverIntent.js\" type=\"text/javascript\"></script>\n",
      "<script src=\"http://www.nepalstock.com/js/superfish/js/superfish.js\" type=\"text/javascript\"></script>\n",
      "<script src=\"http://www.nepalstock.com/js/jquery.tools.min.js\" type=\"text/javascript\"></script>\n",
      "<link href=\"http://www.nepalstock.com/css/overlay.css\" media=\"all\" rel=\"stylesheet\" type=\"text/css\">\n",
      "</link></link></link></link></link></head>\n",
      "<body>\n",
      "<div class=\"hidden-xs\" id=\"fixed_icons\">\n",
      "<a href=\"http://twitter.com\" id=\"twitter\" target=\"_blank\" title=\"Follow us on Twitter\"></a>\n",
      "<a href=\"http://facebook.com\" id=\"facebook\" target=\"_blank\" title=\"Find us on Facebook\"></a>\n",
      "</div>\n",
      "<!-- Start Top Navigation Bar -->\n",
      "<div class=\"navbar navbar-inverse navbar-fixed-top\" role=\"navigation\">\n",
      "<div class=\"container\">\n",
      "<div class=\"navbar-header\">\n",
      "<button class=\"navbar-toggle\" data-target=\".navbar-collapse\" data-toggle=\"collapse\" type=\"button\">\n",
      "<span class=\"sr-only\">Toggle navigation</span>\n",
      "<span class=\"icon-bar\"></span>\n",
      "<span class=\"icon-bar\"></span>\n",
      "<span class=\"icon-bar\"></span>\n",
      "<span class=\"icon-bar\"></span>\n",
      "<span class=\"icon-bar\"></span>\n",
      "</button>\n",
      "</div>\n",
      "<div class=\"collapse navbar-collapse\">\n",
      "<ul class=\"nav navbar-nav pull-right col-xs-12\" id=\"top-nav-bar\">\n",
      "<li><a href=\"http://www.nepalstock.com/\">Home</a></li>\n",
      "<li><a href=\"http://www.nepalstock.com/marketdepth\">Marketdepth</a></li>\n",
      "<li><a href=\"http://www.nepalstock.com/todaysprice\">Today's Price</a></li>\n",
      "<li><a href=\"http://www.nepalstock.com/floorsheet\">Floor Sheet</a></li>\n",
      "<li><a href=\"http://www.nepalstock.com/company\">Listed Companies</a></li>\n",
      "<li><a href=\"http://www.nepalstock.com/downloads\">Downloads</a></li>\n",
      "<li><a href=\"http://www.nepalstock.com/about-us/contact-us\">Contact Us</a></li>\n",
      "<li class=\"dropdown\">\n",
      "<!--                                <a class=\"dropdown-toggle\" href=\"#\" data-toggle=\"dropdown\">Company Log In <strong class=\"caret\"></strong></a>-->\n",
      "<a href=\"http://www.nepalstock.com//login\">Company Log In</a>\n",
      "<div class=\"dropdown-menu\" style=\"padding: 15px; padding-bottom: 0px;\">\n",
      "<!-- Login form here -->\n",
      "<form accept-charset=\"UTF-8\" action=\"http://www.nepalstock.com/company/login\" method=\"post\">\n",
      "<div class=\"form-group\" style=\"min-width: 300px;\">\n",
      "<select class=\"form-control\" id=\"symbol-login\" name=\"symbol\">\n",
      "<option>Company Symbol</option>\n",
      "<option value=\"ACLBSL\">ACLBSL</option><option value=\"ADBL\">ADBL</option><option value=\"ADBLB\">ADBLB</option><option value=\"ADBLD83\">ADBLD83</option><option value=\"AHPC\">AHPC</option><option value=\"AIL\">AIL</option><option value=\"AKBSL\">AKBSL</option><option value=\"AKBSLP\">AKBSLP</option><option value=\"AKJCL\">AKJCL</option><option value=\"AKPL\">AKPL</option><option value=\"ALBSL\">ALBSL</option><option value=\"ALICL\">ALICL</option><option value=\"ALICLP\">ALICLP</option><option value=\"AMFI\">AMFI</option><option value=\"AMFIPO\">AMFIPO</option><option value=\"API\">API</option><option value=\"AVU\">AVU</option><option value=\"BARUN\">BARUN</option><option value=\"BBC\">BBC</option><option value=\"BFC\">BFC</option><option value=\"BFCPO\">BFCPO</option><option value=\"BFLPO\">BFLPO</option><option value=\"BHBL\">BHBL</option><option value=\"BHBLPO\">BHBLPO</option><option value=\"BNL\">BNL</option><option value=\"BNT\">BNT</option><option value=\"BOKD2079\">BOKD2079</option><option value=\"BOKL\">BOKL</option><option value=\"BOKLPO\">BOKLPO</option><option value=\"BPCL\">BPCL</option><option value=\"BSBLPO\">BSBLPO</option><option value=\"BSL\">BSL</option><option value=\"BSM\">BSM</option><option value=\"CBBL\">CBBL</option><option value=\"CBBLPO\">CBBLPO</option><option value=\"CBL\">CBL</option><option value=\"CBLPO\">CBLPO</option><option value=\"CCBL\">CCBL</option><option value=\"CCBLPO\">CCBLPO</option><option value=\"CEFL\">CEFL</option><option value=\"CEFLPO\">CEFLPO</option><option value=\"CFCL\">CFCL</option><option value=\"CFCLPO\">CFCLPO</option><option value=\"CFL\">CFL</option><option value=\"CGH\">CGH</option><option value=\"CHCL\">CHCL</option><option value=\"CHDC\">CHDC</option><option value=\"CHL\">CHL</option><option value=\"CIT\">CIT</option><option value=\"CIZBD86\">CIZBD86</option><option value=\"CLBSL\">CLBSL</option><option value=\"CLBSLP\">CLBSLP</option><option value=\"CMB\">CMB</option><option value=\"CMBFLP\">CMBFLP</option><option value=\"CMF1\">CMF1</option><option value=\"CMF2\">CMF2</option><option value=\"CORBL\">CORBL</option><option value=\"CORBLP\">CORBLP</option><option value=\"CZBIL\">CZBIL</option><option value=\"CZBILP\">CZBILP</option><option value=\"DDBL\">DDBL</option><option value=\"DDBLPO\">DDBLPO</option><option value=\"DHPL\">DHPL</option><option value=\"EBL\">EBL</option><option value=\"EBLCP\">EBLCP</option><option value=\"EBLD2078\">EBLD2078</option><option value=\"EBLPO\">EBLPO</option><option value=\"EDBL\">EDBL</option><option value=\"EDBLPO\">EDBLPO</option><option value=\"EIC\">EIC</option><option value=\"EICPO\">EICPO</option><option value=\"FBBLPO\">FBBLPO</option><option value=\"FHL\">FHL</option><option value=\"FMDBL\">FMDBL</option><option value=\"FMDBLP\">FMDBLP</option><option value=\"FOWAD\">FOWAD</option><option value=\"FOWADP\">FOWADP</option><option value=\"GBBL\">GBBL</option><option value=\"GBBLPO\">GBBLPO</option><option value=\"GBD80/81\">GBD80/81</option><option value=\"GBIME\">GBIME</option><option value=\"GBIMEP\">GBIMEP</option><option value=\"GBLBS\">GBLBS</option><option value=\"GBLBSP\">GBLBSP</option><option value=\"GDBL\">GDBL</option><option value=\"GDBLPO\">GDBLPO</option><option value=\"GFCL\">GFCL</option><option value=\"GFCLPO\">GFCLPO</option><option value=\"GGBSL\">GGBSL</option><option value=\"GHL\">GHL</option><option value=\"GIC\">GIC</option><option value=\"GILB\">GILB</option><option value=\"GILBPO\">GILBPO</option><option value=\"GIMES1\">GIMES1</option><option value=\"GLBSL\">GLBSL</option><option value=\"GLH\">GLH</option><option value=\"GLICL\">GLICL</option><option value=\"GLICLP\">GLICLP</option><option value=\"GMFBS\">GMFBS</option><option value=\"GMFIL\">GMFIL</option><option value=\"GMFILP\">GMFILP</option><option value=\"GRDBL\">GRDBL</option><option value=\"GRDBLP\">GRDBLP</option><option value=\"GRU\">GRU</option><option value=\"GUFL\">GUFL</option><option value=\"GUFLPO\">GUFLPO</option><option value=\"GWFD83\">GWFD83</option><option value=\"HAMRO\">HAMRO</option><option value=\"HAMROP\">HAMROP</option><option value=\"HATH\">HATH</option><option value=\"HATHPO\">HATHPO</option><option value=\"HBL\">HBL</option><option value=\"HBLD83\">HBLD83</option><option value=\"HBLPO\">HBLPO</option><option value=\"HBT\">HBT</option><option value=\"HDHPC\">HDHPC</option><option value=\"HDL\">HDL</option><option value=\"HFL\">HFL</option><option value=\"HGI\">HGI</option><option value=\"HGIPO\">HGIPO</option><option value=\"HIDCL\">HIDCL</option><option value=\"HPPL\">HPPL</option><option value=\"HURJA\">HURJA</option><option value=\"ICFC\">ICFC</option><option value=\"ICFCD83\">ICFCD83</option><option value=\"ICFCPO\">ICFCPO</option><option value=\"IGI\">IGI</option><option value=\"IGIPO\">IGIPO</option><option value=\"ILBS\">ILBS</option><option value=\"JBBL\">JBBL</option><option value=\"JBBLPO\">JBBLPO</option><option value=\"JBLB\">JBLB</option><option value=\"JBNL\">JBNL</option><option value=\"JBNLPO\">JBNLPO</option><option value=\"JFL\">JFL</option><option value=\"JFLPO\">JFLPO</option><option value=\"JLI\">JLI</option><option value=\"JOSHI\">JOSHI</option><option value=\"JSLBB\">JSLBB</option><option value=\"JSLBBP\">JSLBBP</option><option value=\"JSM\">JSM</option><option value=\"KBL\">KBL</option><option value=\"KBLD86\">KBLD86</option><option value=\"KBLPO\">KBLPO</option><option value=\"KEF\">KEF</option><option value=\"KKHC\">KKHC</option><option value=\"KLBSL\">KLBSL</option><option value=\"KLBSLP\">KLBSLP</option><option value=\"KMCDB\">KMCDB</option><option value=\"KMCDBP\">KMCDBP</option><option value=\"KNBL\">KNBL</option><option value=\"KNBLPO\">KNBLPO</option><option value=\"KPCL\">KPCL</option><option value=\"KRBL\">KRBL</option><option value=\"KRBLPO\">KRBLPO</option><option value=\"KSBBL\">KSBBL</option><option value=\"KSBBLD87\">KSBBLD87</option><option value=\"KSBBLP\">KSBBLP</option><option value=\"LBBL\">LBBL</option><option value=\"LBBLPO\">LBBLPO</option><option value=\"LBL\">LBL</option><option value=\"LBLD86\">LBLD86</option><option value=\"LBLPO\">LBLPO</option><option value=\"LEC\">LEC</option><option value=\"LEMF\">LEMF</option><option value=\"LFC\">LFC</option><option value=\"LFCPO\">LFCPO</option><option value=\"LGIL\">LGIL</option><option value=\"LGILPO\">LGILPO</option><option value=\"LICN\">LICN</option><option value=\"LICNPO\">LICNPO</option><option value=\"LLBS\">LLBS</option><option value=\"LLBSPO\">LLBSPO</option><option value=\"LUK\">LUK</option><option value=\"MBL\">MBL</option><option value=\"MBLD2085\">MBLD2085</option><option value=\"MBLPO\">MBLPO</option><option value=\"MDB\">MDB</option><option value=\"MDBLPO\">MDBLPO</option><option value=\"MDBPO\">MDBPO</option><option value=\"MEGA\">MEGA</option><option value=\"MEGAPO\">MEGAPO</option><option value=\"MEN\">MEN</option><option value=\"MERO\">MERO</option><option value=\"MEROPO\">MEROPO</option><option value=\"MFIL\">MFIL</option><option value=\"MFILPO\">MFILPO</option><option value=\"MFLD85\">MFLD85</option><option value=\"MHNL\">MHNL</option><option value=\"MKLB\">MKLB</option><option value=\"MLBBL\">MLBBL</option><option value=\"MLBBLP\">MLBBLP</option><option value=\"MLBL\">MLBL</option><option value=\"MLBLPO\">MLBLPO</option><option value=\"MLBSL\">MLBSL</option><option value=\"MMFDB\">MMFDB</option><option value=\"MMFDBP\">MMFDBP</option><option value=\"MNBBL\">MNBBL</option><option value=\"MNBBLP\">MNBBLP</option><option value=\"MPFL\">MPFL</option><option value=\"MPFLPO\">MPFLPO</option><option value=\"MSLB\">MSLB</option><option value=\"MSLBP\">MSLBP</option><option value=\"MSMBS\">MSMBS</option><option value=\"MSMBSP\">MSMBSP</option><option value=\"NABBC\">NABBC</option><option value=\"NABIL\">NABIL</option><option value=\"NABILP\">NABILP</option><option value=\"NADEP\">NADEP</option><option value=\"NADEPP\">NADEPP</option><option value=\"NAGRO\">NAGRO</option><option value=\"NBB\">NBB</option><option value=\"NBBD2085\">NBBD2085</option><option value=\"NBBPO\">NBBPO</option><option value=\"NBBU\">NBBU</option><option value=\"NBF2\">NBF2</option><option value=\"NBL\">NBL</option><option value=\"NBLD82\">NBLD82</option><option value=\"NBLD87\">NBLD87</option><option value=\"NCCB\">NCCB</option><option value=\"NCCBPO\">NCCBPO</option><option value=\"NCCD86\">NCCD86</option><option value=\"NEF\">NEF</option><option value=\"NFD\">NFD</option><option value=\"NFS\">NFS</option><option value=\"NFSPO\">NFSPO</option><option value=\"NGPL\">NGPL</option><option value=\"NHDL\">NHDL</option><option value=\"NHPC\">NHPC</option><option value=\"NIB\">NIB</option><option value=\"NIBD2082\">NIBD2082</option><option value=\"NIBD84\">NIBD84</option><option value=\"NIBLPF\">NIBLPF</option><option value=\"NIBPO\">NIBPO</option><option value=\"NIBSF1\">NIBSF1</option><option value=\"NIBSF2\">NIBSF2</option><option value=\"NICA\">NICA</option><option value=\"NICAD 85/86\">NICAD 85/86</option><option value=\"NICAD8182\">NICAD8182</option><option value=\"NICAD8283\">NICAD8283</option><option value=\"NICAP\">NICAP</option><option value=\"NICBF\">NICBF</option><option value=\"NICD83/84\">NICD83/84</option><option value=\"NICGF\">NICGF</option><option value=\"NICL\">NICL</option><option value=\"NICLBSL\">NICLBSL</option><option value=\"NICLPO\">NICLPO</option><option value=\"NICSF\">NICSF</option><option value=\"NIDC\">NIDC</option><option value=\"NIDCPO\">NIDCPO</option><option value=\"NIFRA\">NIFRA</option><option value=\"NIL\">NIL</option><option value=\"NILPO\">NILPO</option><option value=\"NKU\">NKU</option><option value=\"NLBBL\">NLBBL</option><option value=\"NLBBLP\">NLBBLP</option><option value=\"NLG\">NLG</option><option value=\"NLGPO\">NLGPO</option><option value=\"NLIC\">NLIC</option><option value=\"NLICL\">NLICL</option><option value=\"NLICLP\">NLICLP</option><option value=\"NLICP\">NLICP</option><option value=\"NLO\">NLO</option><option value=\"NMB\">NMB</option><option value=\"NMB50\">NMB50</option><option value=\"NMBD2085\">NMBD2085</option><option value=\"NMBD87/88\">NMBD87/88</option><option value=\"NMBEB92/93\">NMBEB92/93</option><option value=\"NMBHF1\">NMBHF1</option><option value=\"NMBMF\">NMBMF</option><option value=\"NMBMFP\">NMBMFP</option><option value=\"NMBPO\">NMBPO</option><option value=\"NMFBS\">NMFBS</option><option value=\"NMFBSP\">NMFBSP</option><option value=\"NRIC\">NRIC</option><option value=\"NRN\">NRN</option><option value=\"NSEWA\">NSEWA</option><option value=\"NSEWAP\">NSEWAP</option><option value=\"NSLB\">NSLB</option><option value=\"NSLBP\">NSLBP</option><option value=\"NSM\">NSM</option><option value=\"NSMPO\">NSMPO</option><option value=\"NTC\">NTC</option><option value=\"NTL\">NTL</option><option value=\"NUBL\">NUBL</option><option value=\"NUBLPO\">NUBLPO</option><option value=\"NVG\">NVG</option><option value=\"NWC\">NWC</option><option value=\"ODBL\">ODBL</option><option value=\"ODBLPO\">ODBLPO</option><option value=\"OHL\">OHL</option><option value=\"PBLD84\">PBLD84</option><option value=\"PBLD86\">PBLD86</option><option value=\"PCBL\">PCBL</option><option value=\"PCBLP\">PCBLP</option><option value=\"PDBLPO\">PDBLPO</option><option value=\"PFL\">PFL</option><option value=\"PFLPO\">PFLPO</option><option value=\"PIC\">PIC</option><option value=\"PICL\">PICL</option><option value=\"PICLPO\">PICLPO</option><option value=\"PICPO\">PICPO</option><option value=\"PLI\">PLI</option><option value=\"PLIC\">PLIC</option><option value=\"PLICPO\">PLICPO</option><option value=\"PMHPL\">PMHPL</option><option value=\"PPCL\">PPCL</option><option value=\"PRFLPO\">PRFLPO</option><option value=\"PRIN\">PRIN</option><option value=\"PRINPO\">PRINPO</option><option value=\"PROFL\">PROFL</option><option value=\"PROFLP\">PROFLP</option><option value=\"PRVU\">PRVU</option><option value=\"PRVUPO\">PRVUPO</option><option value=\"PSDBLP\">PSDBLP</option><option value=\"PSF\">PSF</option><option value=\"RADHI\">RADHI</option><option value=\"RBCL\">RBCL</option><option value=\"RBCLPO\">RBCLPO</option><option value=\"RHPC\">RHPC</option><option value=\"RHPL\">RHPL</option><option value=\"RJM\">RJM</option><option value=\"RLFL\">RLFL</option><option value=\"RLFLPO\">RLFLPO</option><option value=\"RLI\">RLI</option><option value=\"RMBFPO\">RMBFPO</option><option value=\"RMDC\">RMDC</option><option value=\"RMDCPO\">RMDCPO</option><option value=\"RMF1\">RMF1</option><option value=\"RRHP\">RRHP</option><option value=\"RSDC\">RSDC</option><option value=\"RSDCP\">RSDCP</option><option value=\"RURU\">RURU</option><option value=\"SABSL\">SABSL</option><option value=\"SADBL\">SADBL</option><option value=\"SADBLP\">SADBLP</option><option value=\"SAEF\">SAEF</option><option value=\"SAMAJ\">SAMAJ</option><option value=\"SAND2085\">SAND2085</option><option value=\"SANIMA\">SANIMA</option><option value=\"SAPDBL\">SAPDBL</option><option value=\"SAPDBLP\">SAPDBLP</option><option value=\"SBBLJ\">SBBLJ</option><option value=\"SBBLJP\">SBBLJP</option><option value=\"SBCF\">SBCF</option><option value=\"SBD87\">SBD87</option><option value=\"SBI\">SBI</option><option value=\"SBIBD86\">SBIBD86</option><option value=\"SBIPO\">SBIPO</option><option value=\"SBL\">SBL</option><option value=\"SBLD2082\">SBLD2082</option><option value=\"SBLD83\">SBLD83</option><option value=\"SBLD84\">SBLD84</option><option value=\"SBLPO\">SBLPO</option><option value=\"SBPP\">SBPP</option><option value=\"SCB\">SCB</option><option value=\"SCBPO\">SCBPO</option><option value=\"SDESI\">SDESI</option><option value=\"SDLBSL\">SDLBSL</option><option value=\"SEF\">SEF</option><option value=\"SEOS\">SEOS</option><option value=\"SFC\">SFC</option><option value=\"SFCL\">SFCL</option><option value=\"SFCLP\">SFCLP</option><option value=\"SFCPO\">SFCPO</option><option value=\"SFFIL\">SFFIL</option><option value=\"SFFILP\">SFFILP</option><option value=\"SFMF\">SFMF</option><option value=\"SGI\">SGI</option><option value=\"SHBL\">SHBL</option><option value=\"SHBLPO\">SHBLPO</option><option value=\"SHEL\">SHEL</option><option value=\"SHINE\">SHINE</option><option value=\"SHINEP\">SHINEP</option><option value=\"SHIVM\">SHIVM</option><option value=\"SHL\">SHL</option><option value=\"SHPC\">SHPC</option><option value=\"SIC\">SIC</option><option value=\"SICL\">SICL</option><option value=\"SICLPO\">SICLPO</option><option value=\"SICPO\">SICPO</option><option value=\"SIFC\">SIFC</option><option value=\"SIFCPO\">SIFCPO</option><option value=\"SIGS2\">SIGS2</option><option value=\"SIL\">SIL</option><option value=\"SILPO\">SILPO</option><option value=\"SINDU\">SINDU</option><option value=\"SINDUP\">SINDUP</option><option value=\"SJCL\">SJCL</option><option value=\"SKBBL\">SKBBL</option><option value=\"SKBBLP\">SKBBLP</option><option value=\"SLBBL\">SLBBL</option><option value=\"SLBBLP\">SLBBLP</option><option value=\"SLBS\">SLBS</option><option value=\"SLBSL\">SLBSL</option><option value=\"SLBSP\">SLBSP</option><option value=\"SLCF\">SLCF</option><option value=\"SLICL\">SLICL</option><option value=\"SLICLP\">SLICLP</option><option value=\"SMATA\">SMATA</option><option value=\"SMATAP\">SMATAP</option><option value=\"SMB\">SMB</option><option value=\"SMBPO\">SMBPO</option><option value=\"SMFBS\">SMFBS</option><option value=\"SMFDB\">SMFDB</option><option value=\"SMFDBP\">SMFDBP</option><option value=\"SODBLP\">SODBLP</option><option value=\"SPARS\">SPARS</option><option value=\"SPDL\">SPDL</option><option value=\"SRBL\">SRBL</option><option value=\"SRBLD83\">SRBLD83</option><option value=\"SRBLPO\">SRBLPO</option><option value=\"SRD80\">SRD80</option><option value=\"SRS\">SRS</option><option value=\"SSHL\">SSHL</option><option value=\"STC\">STC</option><option value=\"SWBBL\">SWBBL</option><option value=\"SWBBLP\">SWBBLP</option><option value=\"SYFL\">SYFL</option><option value=\"SYFLPO\">SYFLPO</option><option value=\"TMDBL\">TMDBL</option><option value=\"TMDBLP\">TMDBLP</option><option value=\"TRH\">TRH</option><option value=\"UFL\">UFL</option><option value=\"UFLPO\">UFLPO</option><option value=\"UIC\">UIC</option><option value=\"UICPO\">UICPO</option><option value=\"ULI\">ULI</option><option value=\"UMHL\">UMHL</option><option value=\"UMRH\">UMRH</option><option value=\"UNHPL\">UNHPL</option><option value=\"UNL\">UNL</option><option value=\"UPCL\">UPCL</option><option value=\"UPPER\">UPPER</option><option value=\"USLB\">USLB</option><option value=\"USLBP\">USLBP</option><option value=\"VLBS\">VLBS</option><option value=\"VLBSPO\">VLBSPO</option><option value=\"WOMI\">WOMI</option><option value=\"WOMIPO\">WOMIPO</option><option value=\"YHL\">YHL</option> </select>\n",
      "<br/>\n",
      "<input class=\"form-control\" id=\"email\" name=\"email\" placeholder=\"Email Address\" style=\"margin-bottom: 15px;\" type=\"email\"/>\n",
      "<input class=\"form-control\" id=\"password\" name=\"password\" placeholder=\"Password\" style=\"margin-bottom: 15px;\" type=\"password\"/>\n",
      "<input class=\"btn btn-primary\" name=\"commit\" style=\"clear: left; width: 100%; height: 32px; font-size: 13px;\" type=\"submit\" value=\"Sign In\"/>\n",
      "<br/>\n",
      "</div>\n",
      "</form>\n",
      "</div>\n",
      "</li>\n",
      "<li><a class=\"new-website1\" href=\"https://newweb.nepalstock.com/\" target=\"_blank\">New Website</a></li>\n",
      "<li><a class=\"channel\" href=\"https://www.youtube.com/watch?v=Df06a7O7RuE&amp;lc=z22aijhamzy5vdd3oacdp432erg0i5bvw4eysaay1lpw03c010c\" target=\"_blank\">Video Tutorial</a></li>\n",
      "<li><a class=\"channel\" href=\"http://www.nepalstock.com/faq\">FAQ</a></li>\n",
      "</ul>\n",
      "</div><!--/.nav-collapse -->\n",
      "</div>\n",
      "</div>\n",
      "<!-- End Top Navigation Bar -->\n",
      "<!-- Start Logo Header -->\n",
      "<div class=\"container\" id=\"logoHeader\" style=\"width:80%\">\n",
      "<div class=\"row\">\n",
      "<div class=\"col-xs-12 col-md-4 col-sm-12\" id=\"logo\">\n",
      "<img alt=\"\" class=\".img-responsive\" src=\"http://www.nepalstock.com/images/bannerlive.png\"/>\n",
      "</div>\n",
      "<div class=\"col-xs-12 col-md-8 col-sm-12\" id=\"search\">\n",
      "<form action=\"http://www.nepalstock.com/company\" class=\"form-inline pull-right col-xs-12 col-sm-12 col-md-7\" method=\"POST\" role=\"form\">\n",
      "<h5>QUICK QUOTE</h5>\n",
      "<div class=\"form-group\">\n",
      "<label class=\"sr-only\" for=\"searchText\">Quick Quote</label>\n",
      "<input class=\"form-control\" id=\"stock_symbol\" name=\"stock_symbol\" placeholder=\"Search By Symbol\" type=\"text\"/>\n",
      "</div>\n",
      "<button class=\"btn btn-default\" id=\"search_symbol\" type=\"submit\">Go</button>\n",
      "<div class=\"form-group\">\n",
      "<select class=\"form-control\" id=\"StockSymbol_Select\" name=\"StockSymbol_Select\">\n",
      "<option value=\"\">Choose Symbol</option>\n",
      "<option value=\"2790\">ACLBSL</option><option value=\"397\">ADBL</option><option value=\"4960\">ADBLB</option><option value=\"2886\">ADBLD83</option><option value=\"360\">AHPC</option><option value=\"2893\">AIL</option><option value=\"2845\">AKBSL</option><option value=\"2846\">AKBSLP</option><option value=\"2788\">AKJCL</option><option value=\"2757\">AKPL</option><option value=\"2807\">ALBSL</option><option value=\"385\">ALICL</option><option value=\"599\">ALICLP</option><option value=\"2777\">AMFI</option><option value=\"2778\">AMFIPO</option><option value=\"697\">API</option><option value=\"211\">AVU</option><option value=\"686\">BARUN</option><option value=\"156\">BBC</option><option value=\"227\">BFC</option><option value=\"339\">BFCPO</option><option value=\"440\">BFLPO</option><option value=\"487\">BHBL</option><option value=\"631\">BHBLPO</option><option value=\"195\">BNL</option><option value=\"213\">BNT</option><option value=\"2870\">BOKD2079</option><option value=\"138\">BOKL</option><option value=\"289\">BOKLPO</option><option value=\"153\">BPCL</option><option value=\"628\">BSBLPO</option><option value=\"217\">BSL</option><option value=\"205\">BSM</option><option value=\"164\">CBBL</option><option value=\"698\">CBBLPO</option><option value=\"532\">CBL</option><option value=\"653\">CBLPO</option><option value=\"605\">CCBL</option><option value=\"656\">CCBLPO</option><option value=\"296\">CEFL</option><option value=\"2756\">CEFLPO</option><option value=\"245\">CFCL</option><option value=\"676\">CFCLPO</option><option value=\"361\">CFL</option><option value=\"2917\">CGH</option><option value=\"154\">CHCL</option><option value=\"3946\">CHDC</option><option value=\"2766\">CHL</option><option value=\"210\">CIT</option><option value=\"2889\">CIZBD86</option><option value=\"693\">CLBSL</option><option value=\"725\">CLBSLP</option><option value=\"259\">CMB</option><option value=\"288\">CMBFLP</option><option value=\"2780\">CMF1</option><option value=\"2862\">CMF2</option><option value=\"450\">CORBL</option><option value=\"2763\">CORBLP</option><option value=\"348\">CZBIL</option><option value=\"493\">CZBILP</option><option value=\"166\">DDBL</option><option value=\"607\">DDBLPO</option><option value=\"2754\">DHPL</option><option value=\"137\">EBL</option><option value=\"277\">EBLCP</option><option value=\"2871\">EBLD2078</option><option value=\"594\">EBLPO</option><option value=\"274\">EDBL</option><option value=\"612\">EDBLPO</option><option value=\"181\">EIC</option><option value=\"702\">EICPO</option><option value=\"319\">FBBLPO</option><option value=\"228\">FHL</option><option value=\"490\">FMDBL</option><option value=\"722\">FMDBLP</option><option value=\"2758\">FOWAD</option><option value=\"2921\">FOWADP</option><option value=\"417\">GBBL</option><option value=\"623\">GBBLPO</option><option value=\"2840\">GBD80/81</option><option value=\"341\">GBIME</option><option value=\"511\">GBIMEP</option><option value=\"583\">GBLBS</option><option value=\"712\">GBLBSP</option><option value=\"420\">GDBL</option><option value=\"670\">GDBLPO</option><option value=\"232\">GFCL</option><option value=\"355\">GFCLPO</option><option value=\"2852\">GGBSL</option><option value=\"2806\">GHL</option><option value=\"2905\">GIC</option><option value=\"705\">GILB</option><option value=\"731\">GILBPO</option><option value=\"1740\">GIMES1</option><option value=\"2826\">GLBSL</option><option value=\"2924\">GLH</option><option value=\"447\">GLICL</option><option value=\"621\">GLICLP</option><option value=\"2815\">GMFBS</option><option value=\"263\">GMFIL</option><option value=\"613\">GMFILP</option><option value=\"2744\">GRDBL</option><option value=\"2745\">GRDBLP</option><option value=\"207\">GRU</option><option value=\"204\">GUFL</option><option value=\"315\">GUFLPO</option><option value=\"2883\">GWFD83</option><option value=\"576\">HAMRO</option><option value=\"639\">HAMROP</option><option value=\"421\">HATH</option><option value=\"685\">HATHPO</option><option value=\"134\">HBL</option><option value=\"2873\">HBLD83</option><option value=\"564\">HBLPO</option><option value=\"215\">HBT</option><option value=\"2880\">HDHPC</option><option value=\"235\">HDL</option><option value=\"441\">HFL</option><option value=\"179\">HGI</option><option value=\"700\">HGIPO</option><option value=\"2742\">HIDCL</option><option value=\"2767\">HPPL</option><option value=\"2824\">HURJA</option><option value=\"273\">ICFC</option><option value=\"2882\">ICFCD83</option><option value=\"400\">ICFCPO</option><option value=\"186\">IGI</option><option value=\"635\">IGIPO</option><option value=\"2832\">ILBS</option><option value=\"418\">JBBL</option><option value=\"579\">JBBLPO</option><option value=\"4951\">JBLB</option><option value=\"496\">JBNL</option><option value=\"654\">JBNLPO</option><option value=\"250\">JFL</option><option value=\"292\">JFLPO</option><option value=\"2929\">JLI</option><option value=\"2789\">JOSHI</option><option value=\"695\">JSLBB</option><option value=\"719\">JSLBBP</option><option value=\"209\">JSM</option><option value=\"142\">KBL</option><option value=\"2885\">KBLD86</option><option value=\"283\">KBLPO</option><option value=\"2933\">KEF</option><option value=\"2751\">KKHC</option><option value=\"694\">KLBSL</option><option value=\"733\">KLBSLP</option><option value=\"593\">KMCDB</option><option value=\"678\">KMCDBP</option><option value=\"419\">KNBL</option><option value=\"637\">KNBLPO</option><option value=\"2787\">KPCL</option><option value=\"428\">KRBL</option><option value=\"1739\">KRBLPO</option><option value=\"459\">KSBBL</option><option value=\"4948\">KSBBLD87</option><option value=\"677\">KSBBLP</option><option value=\"358\">LBBL</option><option value=\"626\">LBBLPO</option><option value=\"141\">LBL</option><option value=\"2879\">LBLD86</option><option value=\"286\">LBLPO</option><option value=\"2903\">LEC</option><option value=\"2765\">LEMF</option><option value=\"231\">LFC</option><option value=\"330\">LFCPO</option><option value=\"190\">LGIL</option><option value=\"703\">LGILPO</option><option value=\"188\">LICN</option><option value=\"696\">LICNPO</option><option value=\"618\">LLBS</option><option value=\"644\">LLBSPO</option><option value=\"2902\">LUK</option><option value=\"140\">MBL</option><option value=\"2866\">MBLD2085</option><option value=\"281\">MBLPO</option><option value=\"371\">MDB</option><option value=\"291\">MDBLPO</option><option value=\"609\">MDBPO</option><option value=\"562\">MEGA</option><option value=\"657\">MEGAPO</option><option value=\"2913\">MEN</option><option value=\"1741\">MERO</option><option value=\"1742\">MEROPO</option><option value=\"516\">MFIL</option><option value=\"730\">MFILPO</option><option value=\"2932\">MFLD85</option><option value=\"2811\">MHNL</option><option value=\"4955\">MKLB</option><option value=\"601\">MLBBL</option><option value=\"707\">MLBBLP</option><option value=\"401\">MLBL</option><option value=\"620\">MLBLPO</option><option value=\"2925\">MLBSL</option><option value=\"682\">MMFDB</option><option value=\"711\">MMFDBP</option><option value=\"474\">MNBBL</option><option value=\"640\">MNBBLP</option><option value=\"471\">MPFL</option><option value=\"1737\">MPFLPO</option><option value=\"2768\">MSLB</option><option value=\"2928\">MSLBP</option><option value=\"691\">MSMBS</option><option value=\"1736\">MSMBSP</option><option value=\"172\">NABBC</option><option value=\"131\">NABIL</option><option value=\"282\">NABILP</option><option value=\"2784\">NADEP</option><option value=\"2785\">NADEPP</option><option value=\"2816\">NAGRO</option><option value=\"136\">NBB</option><option value=\"2854\">NBBD2085</option><option value=\"380\">NBBPO</option><option value=\"233\">NBBU</option><option value=\"2835\">NBF2</option><option value=\"517\">NBL</option><option value=\"2892\">NBLD82</option><option value=\"4959\">NBLD87</option><option value=\"144\">NCCB</option><option value=\"327\">NCCBPO</option><option value=\"2936\">NCCD86</option><option value=\"2753\">NEF</option><option value=\"151\">NFD</option><option value=\"194\">NFS</option><option value=\"651\">NFSPO</option><option value=\"2743\">NGPL</option><option value=\"2769\">NHDL</option><option value=\"152\">NHPC</option><option value=\"132\">NIB</option><option value=\"2851\">NIBD2082</option><option value=\"2931\">NIBD84</option><option value=\"2755\">NIBLPF</option><option value=\"469\">NIBPO</option><option value=\"636\">NIBSF1</option><option value=\"4949\">NIBSF2</option><option value=\"139\">NICA</option><option value=\"2825\">NICAD 85/86</option><option value=\"2895\">NICAD8182</option><option value=\"2869\">NICAD8283</option><option value=\"309\">NICAP</option><option value=\"2863\">NICBF</option><option value=\"2868\">NICD83/84</option><option value=\"2779\">NICGF</option><option value=\"176\">NICL</option><option value=\"2887\">NICLBSL</option><option value=\"689\">NICLPO</option><option value=\"4967\">NICSF</option><option value=\"160\">NIDC</option><option value=\"658\">NIDCPO</option><option value=\"2919\">NIFRA</option><option value=\"183\">NIL</option><option value=\"615\">NILPO</option><option value=\"222\">NKU</option><option value=\"396\">NLBBL</option><option value=\"661\">NLBBLP</option><option value=\"559\">NLG</option><option value=\"684\">NLGPO</option><option value=\"187\">NLIC</option><option value=\"178\">NLICL</option><option value=\"582\">NLICLP</option><option value=\"589\">NLICP</option><option value=\"198\">NLO</option><option value=\"238\">NMB</option><option value=\"2867\">NMB50</option><option value=\"2850\">NMBD2085</option><option value=\"4963\">NMBD87/88</option><option value=\"4964\">NMBEB92/93</option><option value=\"2752\">NMBHF1</option><option value=\"704\">NMBMF</option><option value=\"723\">NMBMFP</option><option value=\"391\">NMBPO</option><option value=\"2746\">NMFBS</option><option value=\"2747\">NMFBSP</option><option value=\"2881\">NRIC</option><option value=\"2898\">NRN</option><option value=\"2781\">NSEWA</option><option value=\"2782\">NSEWAP</option><option value=\"592\">NSLB</option><option value=\"643\">NSLBP</option><option value=\"200\">NSM</option><option value=\"313\">NSMPO</option><option value=\"307\">NTC</option><option value=\"158\">NTL</option><option value=\"163\">NUBL</option><option value=\"672\">NUBLPO</option><option value=\"201\">NVG</option><option value=\"159\">NWC</option><option value=\"398\">ODBL</option><option value=\"568\">ODBLPO</option><option value=\"149\">OHL</option><option value=\"2904\">PBLD84</option><option value=\"2875\">PBLD86</option><option value=\"357\">PCBL</option><option value=\"544\">PCBLP</option><option value=\"346\">PDBLPO</option><option value=\"236\">PFL</option><option value=\"390\">PFLPO</option><option value=\"182\">PIC</option><option value=\"189\">PICL</option><option value=\"648\">PICLPO</option><option value=\"713\">PICPO</option><option value=\"2915\">PLI</option><option value=\"393\">PLIC</option><option value=\"701\">PLICPO</option><option value=\"2786\">PMHPL</option><option value=\"2813\">PPCL</option><option value=\"488\">PRFLPO</option><option value=\"184\">PRIN</option><option value=\"590\">PRINPO</option><option value=\"338\">PROFL</option><option value=\"354\">PROFLP</option><option value=\"255\">PRVU</option><option value=\"632\">PRVUPO</option><option value=\"387\">PSDBLP</option><option value=\"4947\">PSF</option><option value=\"2776\">RADHI</option><option value=\"177\">RBCL</option><option value=\"634\">RBCLPO</option><option value=\"610\">RHPC</option><option value=\"2841\">RHPL</option><option value=\"203\">RJM</option><option value=\"587\">RLFL</option><option value=\"650\">RLFLPO</option><option value=\"2900\">RLI</option><option value=\"312\">RMBFPO</option><option value=\"575\">RMDC</option><option value=\"659\">RMDCPO</option><option value=\"4968\">RMF1</option><option value=\"2783\">RRHP</option><option value=\"2748\">RSDC</option><option value=\"2749\">RSDCP</option><option value=\"2935\">RURU</option><option value=\"2843\">SABSL</option><option value=\"472\">SADBL</option><option value=\"708\">SADBLP</option><option value=\"2773\">SAEF</option><option value=\"4965\">SAMAJ</option><option value=\"2828\">SAND2085</option><option value=\"171\">SANIMA</option><option value=\"2860\">SAPDBL</option><option value=\"2861\">SAPDBLP</option><option value=\"174\">SBBLJ</option><option value=\"479\">SBBLJP</option><option value=\"2937\">SBCF</option><option value=\"2922\">SBD87</option><option value=\"135\">SBI</option><option value=\"2890\">SBIBD86</option><option value=\"347\">SBIPO</option><option value=\"145\">SBL</option><option value=\"2872\">SBLD2082</option><option value=\"2864\">SBLD83</option><option value=\"2912\">SBLD84</option><option value=\"449\">SBLPO</option><option value=\"226\">SBPP</option><option value=\"133\">SCB</option><option value=\"655\">SCBPO</option><option value=\"2764\">SDESI</option><option value=\"2896\">SDLBSL</option><option value=\"2770\">SEF</option><option value=\"616\">SEOS</option><option value=\"221\">SFC</option><option value=\"256\">SFCL</option><option value=\"298\">SFCLP</option><option value=\"299\">SFCPO</option><option value=\"261\">SFFIL</option><option value=\"352\">SFFILP</option><option value=\"2877\">SFMF</option><option value=\"2908\">SGI</option><option value=\"625\">SHBL</option><option value=\"732\">SHBLPO</option><option value=\"2934\">SHEL</option><option value=\"473\">SHINE</option><option value=\"669\">SHINEP</option><option value=\"2809\">SHIVM</option><option value=\"147\">SHL</option><option value=\"591\">SHPC</option><option value=\"185\">SIC</option><option value=\"192\">SICL</option><option value=\"606\">SICLPO</option><option value=\"619\">SICPO</option><option value=\"244\">SIFC</option><option value=\"456\">SIFCPO</option><option value=\"2859\">SIGS2</option><option value=\"280\">SIL</option><option value=\"630\">SILPO</option><option value=\"561\">SINDU</option><option value=\"652\">SINDUP</option><option value=\"2842\">SJCL</option><option value=\"574\">SKBBL</option><option value=\"671\">SKBBLP</option><option value=\"545\">SLBBL</option><option value=\"721\">SLBBLP</option><option value=\"2750\">SLBS</option><option value=\"2804\">SLBSL</option><option value=\"2911\">SLBSP</option><option value=\"2923\">SLCF</option><option value=\"403\">SLICL</option><option value=\"581\">SLICLP</option><option value=\"2761\">SMATA</option><option value=\"2762\">SMATAP</option><option value=\"2771\">SMB</option><option value=\"2772\">SMBPO</option><option value=\"2829\">SMFBS</option><option value=\"502\">SMFDB</option><option value=\"663\">SMFDBP</option><option value=\"485\">SODBLP</option><option value=\"2812\">SPARS</option><option value=\"2759\">SPDL</option><option value=\"359\">SRBL</option><option value=\"2878\">SRBLD83</option><option value=\"522\">SRBLPO</option><option value=\"2834\">SRD80</option><option value=\"230\">SRS</option><option value=\"2907\">SSHL</option><option value=\"155\">STC</option><option value=\"268\">SWBBL</option><option value=\"314\">SWBBLP</option><option value=\"249\">SYFL</option><option value=\"624\">SYFLPO</option><option value=\"2855\">TMDBL</option><option value=\"2856\">TMDBLP</option><option value=\"148\">TRH</option><option value=\"242\">UFL</option><option value=\"350\">UFLPO</option><option value=\"180\">UIC</option><option value=\"726\">UICPO</option><option value=\"4956\">ULI</option><option value=\"2760\">UMHL</option><option value=\"2914\">UMRH</option><option value=\"2831\">UNHPL</option><option value=\"219\">UNL</option><option value=\"2810\">UPCL</option><option value=\"2792\">UPPER</option><option value=\"2774\">USLB</option><option value=\"2775\">USLBP</option><option value=\"687\">VLBS</option><option value=\"716\">VLBSPO</option><option value=\"706\">WOMI</option><option value=\"720\">WOMIPO</option><option value=\"146\">YHL</option> </select>\n",
      "</div>\n",
      "</form>\n",
      "</div>\n",
      "</div>\n",
      "</div><!-- /.container -->\n",
      "<!-- End Logo Header -->\n",
      "<!-- Start Menu Bar -->\n",
      "<nav class=\"navbar navbar-default container\" id=\"body-menu\" role=\"navigation\" style=\"width:80%\">\n",
      "<!-- Collect the nav links, forms, and other content for toggling -->\n",
      "<div>\n",
      "<ul class=\"sf-menu\" id=\"nav\"><li><a class=\"Home\" href=\"http://www.nepalstock.com/\" title=\"Home\">Home</a></li><li><a class=\"Nepse's Data\" href=\"#\" title=\"Nepse's Data\">Nepse's Data</a><ul><li><a class=\"Today's Share Price\" href=\"http://www.nepalstock.com/todaysprice\" title=\"Today's Share Price\">Today's Share Price</a></li><li><a class=\"Today's Floor Sheet\" href=\"http://www.nepalstock.com/floorsheet\" title=\"Today's Floor Sheet\">Today's Floor Sheet</a></li><li><a class=\"DateWise Indices\" href=\"http://www.nepalstock.com/indices\" title=\"DateWise Indices\">DateWise Indices</a></li><li><a class=\"Last 90 Day's Stockwise Trading\" href=\"http://www.nepalstock.com/stockWisePrices\" title=\"Last 90 Day's Stockwise Trading\">Last 90 Day's Stockwise Trading</a></li><li><a class=\"120 Day's Trading Average Price\" href=\"http://www.nepalstock.com/calculation\" title=\"120 Day's Trading Average Price\">120 Day's Trading Average Price</a></li><li><a class=\"180 Day's Trading Average Price\" href=\"http://www.nepalstock.com/calculationoneeighty\" title=\"180 Day's Trading Average Price\">180 Day's Trading Average Price</a></li></ul></li><li><a class=\"Media\" href=\"http://www.nepalstock.com/\" title=\"Media\">Media</a><ul><li><a class=\"News and Alerts\" href=\"http://www.nepalstock.com/news/category/0\" title=\"News and Alerts\">News and Alerts</a></li><li><a class=\"Press Releases\" href=\"http://www.nepalstock.com/news/category/2\" title=\"Press Releases\">Press Releases</a></li><li><a class=\"Investor Awareness\" href=\"http://www.nepalstock.com/news/category/3\" title=\"Investor Awareness\">Investor Awareness</a></li></ul></li><li><a class=\"About Us\" href=\"http://www.nepalstock.com/\" title=\"About Us\">About Us</a><ul><li><a class=\"Introduction\" href=\"http://www.nepalstock.com/about-us/introduction\" title=\"Introduction\">Introduction</a></li><li><a class=\"Board of Directors\" href=\"http://www.nepalstock.com/about-us/board-of-directors\" title=\"Board of Directors\">Board of Directors</a></li><li><a class=\"Contact Us\" href=\"http://www.nepalstock.com/about-us/contact-us\" title=\"Contact Us\">Contact Us</a></li></ul></li><li><a class=\"Events\" href=\"http://www.nepalstock.com/events\" title=\"Events\">Events</a></li><li><a class=\"Company Listing\" href=\"#\" title=\"Company Listing\">Company Listing</a><ul><li><a class=\"Listed Companies\" href=\"http://www.nepalstock.com/company\" title=\"Listed Companies\">Listed Companies</a></li><li><a class=\"Listing Information\" href=\"http://www.nepalstock.com/listing-information\" title=\"Listing Information\">Listing Information</a></li><li><a class=\"Promoter Share\" href=\"http://www.nepalstock.com/promoter-share\" title=\"Promoter Share\">Promoter Share</a></li><li><a class=\"Classification of Companies\" href=\"http://www.nepalstock.com/classification-of-listed-companies\" title=\"Classification of Companies\">Classification of Companies</a></li></ul></li><li><a class=\"Reports\" href=\"http://www.nepalstock.com/\" title=\"Reports\">Reports</a><ul><li><a class=\"Weekly Report\" href=\"http://www.nepalstock.com/reports-by-category/1\" title=\"Weekly Report\">Weekly Report</a></li><li><a class=\"Monthly Report\" href=\"http://www.nepalstock.com/reports-by-category/2\" title=\"Monthly Report\">Monthly Report</a></li><li><a class=\"Annual Report\" href=\"http://www.nepalstock.com/reports-by-category/7\" title=\"Annual Report\">Annual Report</a></li></ul></li><li><a class=\"education\" href=\"http://www.nepalstock.com/education\" target=\"_blank\" title=\"education\">education</a></li><li><a class=\"Brokers\" href=\"http://www.nepalstock.com/brokers\" title=\"Brokers\">Brokers</a></li><li><a class=\"marketdepth\" href=\"http://www.nepalstock.com/marketdepth\" title=\"marketdepth\">marketdepth</a></li></ul> </div><!-- /.navbar-collapse -->\n",
      "</nav>\n",
      "<!-- End Menu Bar -->\n",
      "<!-- Start Ticker -->\n",
      "<div class=\"container\" id=\"ticker\" style=\"width:80%\">\n",
      "<div class=\"col-xs-2 col-md-2 col-sm-0\" id=\"date\">As of 2021-09-01     15:00:00    </div>\n",
      "<div class=\"col-xs-10 col-md-10 col-sm-12\" id=\"stockData\">\n",
      "<marquee onmouseout=\"this.start();\" onmouseover=\"this.stop();\" scrollamount=\"5\" scrolldelay=\"10\"><b>CORBL 1,065.00 ( 34791 ) ( <span class=\"red\"> -65 </span>) <img align=\"middle\" alt=\"\" border=\"0\" src=\"http://www.nepalstock.com/./images/decrease.gif\" width=\"8\">    SADBL 510.00 ( 167743 ) ( <span class=\"red\"> -1.3 </span>) <img align=\"middle\" alt=\"\" border=\"0\" src=\"http://www.nepalstock.com/./images/decrease.gif\" width=\"8\"/>    CHDC 1,206.00 ( 41831 ) ( <span class=\"red\"> -18 </span>) <img align=\"middle\" alt=\"\" border=\"0\" src=\"http://www.nepalstock.com/./images/decrease.gif\" width=\"8\"/>    CBBL 1,794.00 ( 45398 ) ( <span class=\"red\"> -6 </span>) <img align=\"middle\" alt=\"\" border=\"0\" src=\"http://www.nepalstock.com/./images/decrease.gif\" width=\"8\"/>    JFL 780.00 ( 64672 ) ( <span class=\"red\"> -22 </span>) <img align=\"middle\" alt=\"\" border=\"0\" src=\"http://www.nepalstock.com/./images/decrease.gif\" width=\"8\"/>    CBL 273.00 ( 209482 ) ( <span class=\"green\"> 2 </span>) <img align=\"middle\" alt=\"\" border=\"0\" src=\"http://www.nepalstock.com/./images/increase.gif\" width=\"8\"/>    NICLBSL 1,473.00 ( 13843 ) ( <span class=\"green\"> 9 </span>) <img align=\"middle\" alt=\"\" border=\"0\" src=\"http://www.nepalstock.com/./images/increase.gif\" width=\"8\"/>    CIT 3,785.00 ( 19807 ) ( <span class=\"green\"> 33 </span>) <img align=\"middle\" alt=\"\" border=\"0\" src=\"http://www.nepalstock.com/./images/increase.gif\" width=\"8\"/>    HDL 6,800.00 ( 34193 ) ( <span class=\"green\"> 10 </span>) <img align=\"middle\" alt=\"\" border=\"0\" src=\"http://www.nepalstock.com/./images/increase.gif\" width=\"8\"/>    CFCL 722.00 ( 137706 ) ( <span class=\"red\"> -8 </span>) <img align=\"middle\" alt=\"\" border=\"0\" src=\"http://www.nepalstock.com/./images/decrease.gif\" width=\"8\"/>    RHPC 979.00 ( 224342 ) ( <span class=\"red\"> -6 </span>) <img align=\"middle\" alt=\"\" border=\"0\" src=\"http://www.nepalstock.com/./images/decrease.gif\" width=\"8\"/>    NBL 520.00 ( 346589 ) ( <span class=\"red\"> -0.5 </span>) <img align=\"middle\" alt=\"\" border=\"0\" src=\"http://www.nepalstock.com/./images/decrease.gif\" width=\"8\"/>    STC 9,380.00 ( 1032 ) ( <span class=\"green\"> 80 </span>) <img align=\"middle\" alt=\"\" border=\"0\" src=\"http://www.nepalstock.com/./images/increase.gif\" width=\"8\"/>    MEN 1,330.00 ( 16427 ) ( <span class=\"red\"> -64 </span>) <img align=\"middle\" alt=\"\" border=\"0\" src=\"http://www.nepalstock.com/./images/decrease.gif\" width=\"8\"/>    AHPC 726.00 ( 811393 ) ( <span class=\"red\"> -11 </span>) <img align=\"middle\" alt=\"\" border=\"0\" src=\"http://www.nepalstock.com/./images/decrease.gif\" width=\"8\"/>    JBLB 4,921.00 ( 31824 ) ( <span class=\"green\"> 85 </span>) <img align=\"middle\" alt=\"\" border=\"0\" src=\"http://www.nepalstock.com/./images/increase.gif\" width=\"8\"/>    RADHI 799.00 ( 51888 ) ( <span class=\"red\"> -9 </span>) <img align=\"middle\" alt=\"\" border=\"0\" src=\"http://www.nepalstock.com/./images/decrease.gif\" width=\"8\"/>    ICFC 1,012.50 ( 124605 ) ( <span class=\"red\"> -56.4 </span>) <img align=\"middle\" alt=\"\" border=\"0\" src=\"http://www.nepalstock.com/./images/decrease.gif\" width=\"8\"/>    MFIL 1,247.00 ( 70741 ) ( <span class=\"red\"> -21 </span>) <img align=\"middle\" alt=\"\" border=\"0\" src=\"http://www.nepalstock.com/./images/decrease.gif\" width=\"8\"/>    NBF2 14.95 ( 473000 ) ( <span class=\"green\"> 0.22 </span>) <img align=\"middle\" alt=\"\" border=\"0\" src=\"http://www.nepalstock.com/./images/increase.gif\" width=\"8\"/>    MBL 397.50 ( 140174 ) ( <span class=\"green\"> 2.5 </span>) <img align=\"middle\" alt=\"\" border=\"0\" src=\"http://www.nepalstock.com/./images/increase.gif\" width=\"8\"/>    MNBBL 740.20 ( 140658 ) ( <span class=\"red\"> -7.8 </span>) <img align=\"middle\" alt=\"\" border=\"0\" src=\"http://www.nepalstock.com/./images/decrease.gif\" width=\"8\"/>    PICL 775.00 ( 39673 ) ( <span class=\"red\"> -13 </span>) <img align=\"middle\" alt=\"\" border=\"0\" src=\"http://www.nepalstock.com/./images/decrease.gif\" width=\"8\"/>    NIL 1,446.00 ( 33112 ) ( <span class=\"red\"> -15 </span>) <img align=\"middle\" alt=\"\" border=\"0\" src=\"http://www.nepalstock.com/./images/decrease.gif\" width=\"8\"/>    GIC 716.00 ( 7498 ) ( <span class=\"red\"> -1 </span>) <img align=\"middle\" alt=\"\" border=\"0\" src=\"http://www.nepalstock.com/./images/decrease.gif\" width=\"8\"/>    SAPDBL 470.00 ( 48036 ) ( <span class=\"\"> 0 </span>) <img align=\"middle\" alt=\"\" border=\"0\" src=\"http://www.nepalstock.com/./images/nil.gif\" width=\"8\"/>    PRVU 444.00 ( 183817 ) ( <span class=\"\"> 0 </span>) <img align=\"middle\" alt=\"\" border=\"0\" src=\"http://www.nepalstock.com/./images/nil.gif\" width=\"8\"/>    UMHL 562.00 ( 540533 ) ( <span class=\"green\"> 32 </span>) <img align=\"middle\" alt=\"\" border=\"0\" src=\"http://www.nepalstock.com/./images/increase.gif\" width=\"8\"/>    RURU 1,448.00 ( 6391 ) ( <span class=\"green\"> 101.7 </span>) <img align=\"middle\" alt=\"\" border=\"0\" src=\"http://www.nepalstock.com/./images/increase.gif\" width=\"8\"/>    CGH 1,511.00 ( 13649 ) ( <span class=\"green\"> 32 </span>) <img align=\"middle\" alt=\"\" border=\"0\" src=\"http://www.nepalstock.com/./images/increase.gif\" width=\"8\"/>    HIDCL 424.20 ( 184206 ) ( <span class=\"red\"> -5.8 </span>) <img align=\"middle\" alt=\"\" border=\"0\" src=\"http://www.nepalstock.com/./images/decrease.gif\" width=\"8\"/>    KBL 361.00 ( 262420 ) ( <span class=\"green\"> 2.3 </span>) <img align=\"middle\" alt=\"\" border=\"0\" src=\"http://www.nepalstock.com/./images/increase.gif\" width=\"8\"/>    KRBL 569.00 ( 115656 ) ( <span class=\"green\"> 1 </span>) <img align=\"middle\" alt=\"\" border=\"0\" src=\"http://www.nepalstock.com/./images/increase.gif\" width=\"8\"/>    API 551.50 ( 424353 ) ( <span class=\"red\"> -6.9 </span>) <img align=\"middle\" alt=\"\" border=\"0\" src=\"http://www.nepalstock.com/./images/decrease.gif\" width=\"8\"/>    DDBL 1,711.00 ( 24479 ) ( <span class=\"green\"> 1 </span>) <img align=\"middle\" alt=\"\" border=\"0\" src=\"http://www.nepalstock.com/./images/increase.gif\" width=\"8\"/>    SHIVM 1,621.00 ( 51789 ) ( <span class=\"red\"> -4 </span>) <img align=\"middle\" alt=\"\" border=\"0\" src=\"http://www.nepalstock.com/./images/decrease.gif\" width=\"8\"/>    MEGA 360.00 ( 139598 ) ( <span class=\"green\"> 4 </span>) <img align=\"middle\" alt=\"\" border=\"0\" src=\"http://www.nepalstock.com/./images/increase.gif\" width=\"8\"/>    JBBL 568.00 ( 180956 ) ( <span class=\"red\"> -5.9 </span>) <img align=\"middle\" alt=\"\" border=\"0\" src=\"http://www.nepalstock.com/./images/decrease.gif\" width=\"8\"/>    HPPL 573.00 ( 63827 ) ( <span class=\"green\"> 19 </span>) <img align=\"middle\" alt=\"\" border=\"0\" src=\"http://www.nepalstock.com/./images/increase.gif\" width=\"8\"/>    SHINE 563.00 ( 125898 ) ( <span class=\"red\"> -5 </span>) <img align=\"middle\" alt=\"\" border=\"0\" src=\"http://www.nepalstock.com/./images/decrease.gif\" width=\"8\"/>    NABIL 1,420.00 ( 124665 ) ( <span class=\"green\"> 1 </span>) <img align=\"middle\" alt=\"\" border=\"0\" src=\"http://www.nepalstock.com/./images/increase.gif\" width=\"8\"/>    PFL 790.20 ( 56544 ) ( <span class=\"red\"> -19.8 </span>) <img align=\"middle\" alt=\"\" border=\"0\" src=\"http://www.nepalstock.com/./images/decrease.gif\" width=\"8\"/>    KKHC 380.00 ( 108026 ) ( <span class=\"red\"> -32 </span>) <img align=\"middle\" alt=\"\" border=\"0\" src=\"http://www.nepalstock.com/./images/decrease.gif\" width=\"8\"/>    NGPL 1,009.00 ( 73690 ) ( <span class=\"red\"> -16 </span>) <img align=\"middle\" alt=\"\" border=\"0\" src=\"http://www.nepalstock.com/./images/decrease.gif\" width=\"8\"/>    EBL 735.00 ( 48073 ) ( <span class=\"green\"> 5.5 </span>) <img align=\"middle\" alt=\"\" border=\"0\" src=\"http://www.nepalstock.com/./images/increase.gif\" width=\"8\"/>    IGI 1,189.00 ( 20214 ) ( <span class=\"green\"> 1 </span>) <img align=\"middle\" alt=\"\" border=\"0\" src=\"http://www.nepalstock.com/./images/increase.gif\" width=\"8\"/>    MHNL 528.00 ( 26599 ) ( <span class=\"red\"> -7 </span>) <img align=\"middle\" alt=\"\" border=\"0\" src=\"http://www.nepalstock.com/./images/decrease.gif\" width=\"8\"/>    NTC 1,135.00 ( 53036 ) ( <span class=\"green\"> 5 </span>) <img align=\"middle\" alt=\"\" border=\"0\" src=\"http://www.nepalstock.com/./images/increase.gif\" width=\"8\"/>    GMFIL 670.00 ( 102774 ) ( <span class=\"red\"> -44.8 </span>) <img align=\"middle\" alt=\"\" border=\"0\" src=\"http://www.nepalstock.com/./images/decrease.gif\" width=\"8\"/>    RHPL 458.00 ( 76207 ) ( <span class=\"red\"> -5 </span>) <img align=\"middle\" alt=\"\" border=\"0\" src=\"http://www.nepalstock.com/./images/decrease.gif\" width=\"8\"/>    NCCB 339.00 ( 156434 ) ( <span class=\"red\"> -1 </span>) <img align=\"middle\" alt=\"\" border=\"0\" src=\"http://www.nepalstock.com/./images/decrease.gif\" width=\"8\"/>    SMB 2,650.00 ( 690 ) ( <span class=\"red\"> -105 </span>) <img align=\"middle\" alt=\"\" border=\"0\" src=\"http://www.nepalstock.com/./images/decrease.gif\" width=\"8\"/>    NHPC 437.00 ( 235097 ) ( <span class=\"red\"> -6.4 </span>) <img align=\"middle\" alt=\"\" border=\"0\" src=\"http://www.nepalstock.com/./images/decrease.gif\" width=\"8\"/>    GBIME 450.00 ( 173017 ) ( <span class=\"green\"> 5 </span>) <img align=\"middle\" alt=\"\" border=\"0\" src=\"http://www.nepalstock.com/./images/increase.gif\" width=\"8\"/>    RLI 660.00 ( 18451 ) ( <span class=\"green\"> 3.9 </span>) <img align=\"middle\" alt=\"\" border=\"0\" src=\"http://www.nepalstock.com/./images/increase.gif\" width=\"8\"/>    GLH 525.00 ( 19194 ) ( <span class=\"green\"> 6 </span>) <img align=\"middle\" alt=\"\" border=\"0\" src=\"http://www.nepalstock.com/./images/increase.gif\" width=\"8\"/>    UPCL 503.00 ( 165488 ) ( <span class=\"\"> 0 </span>) <img align=\"middle\" alt=\"\" border=\"0\" src=\"http://www.nepalstock.com/./images/nil.gif\" width=\"8\"/>    HDHPC 378.00 ( 199011 ) ( <span class=\"\"> 0 </span>) <img align=\"middle\" alt=\"\" border=\"0\" src=\"http://www.nepalstock.com/./images/nil.gif\" width=\"8\"/>    SFCL 630.00 ( 41432 ) ( <span class=\"red\"> -10 </span>) <img align=\"middle\" alt=\"\" border=\"0\" src=\"http://www.nepalstock.com/./images/decrease.gif\" width=\"8\"/>    FMDBL 1,090.00 ( 73516 ) ( <span class=\"red\"> -4.2 </span>) <img align=\"middle\" alt=\"\" border=\"0\" src=\"http://www.nepalstock.com/./images/decrease.gif\" width=\"8\"/>    SBL 514.00 ( 210317 ) ( <span class=\"green\"> 3 </span>) <img align=\"middle\" alt=\"\" border=\"0\" src=\"http://www.nepalstock.com/./images/increase.gif\" width=\"8\"/>    SHL 276.90 ( 126710 ) ( <span class=\"green\"> 15 </span>) <img align=\"middle\" alt=\"\" border=\"0\" src=\"http://www.nepalstock.com/./images/increase.gif\" width=\"8\"/>    ULI 732.00 ( 24180 ) ( <span class=\"red\"> -4 </span>) <img align=\"middle\" alt=\"\" border=\"0\" src=\"http://www.nepalstock.com/./images/decrease.gif\" width=\"8\"/>    FOWAD 2,840.10 ( 8289 ) ( <span class=\"red\"> -19.9 </span>) <img align=\"middle\" alt=\"\" border=\"0\" src=\"http://www.nepalstock.com/./images/decrease.gif\" width=\"8\"/>    SHPC 577.00 ( 135866 ) ( <span class=\"red\"> -8 </span>) <img align=\"middle\" alt=\"\" border=\"0\" src=\"http://www.nepalstock.com/./images/decrease.gif\" width=\"8\"/>    SJCL 462.00 ( 37610 ) ( <span class=\"red\"> -3 </span>) <img align=\"middle\" alt=\"\" border=\"0\" src=\"http://www.nepalstock.com/./images/decrease.gif\" width=\"8\"/>    BOKL 375.00 ( 80771 ) ( <span class=\"green\"> 5 </span>) <img align=\"middle\" alt=\"\" border=\"0\" src=\"http://www.nepalstock.com/./images/increase.gif\" width=\"8\"/>    GILB 2,433.00 ( 5263 ) ( <span class=\"green\"> 9 </span>) <img align=\"middle\" alt=\"\" border=\"0\" src=\"http://www.nepalstock.com/./images/increase.gif\" width=\"8\"/>    ALICL 1,342.00 ( 27338 ) ( <span class=\"red\"> -13 </span>) <img align=\"middle\" alt=\"\" border=\"0\" src=\"http://www.nepalstock.com/./images/decrease.gif\" width=\"8\"/>    BPCL 588.00 ( 70904 ) ( <span class=\"\"> 0 </span>) <img align=\"middle\" alt=\"\" border=\"0\" src=\"http://www.nepalstock.com/./images/nil.gif\" width=\"8\"/>    SDLBSL 1,820.00 ( 6533 ) ( <span class=\"red\"> -19 </span>) <img align=\"middle\" alt=\"\" border=\"0\" src=\"http://www.nepalstock.com/./images/decrease.gif\" width=\"8\"/>    PCBL 502.00 ( 159382 ) ( <span class=\"green\"> 3.5 </span>) <img align=\"middle\" alt=\"\" border=\"0\" src=\"http://www.nepalstock.com/./images/increase.gif\" width=\"8\"/>    CZBIL 402.00 ( 260289 ) ( <span class=\"green\"> 10 </span>) <img align=\"middle\" alt=\"\" border=\"0\" src=\"http://www.nepalstock.com/./images/increase.gif\" width=\"8\"/>    LBBL 667.90 ( 242738 ) ( <span class=\"red\"> -2.1 </span>) <img align=\"middle\" alt=\"\" border=\"0\" src=\"http://www.nepalstock.com/./images/decrease.gif\" width=\"8\"/>    NMB 446.50 ( 112030 ) ( <span class=\"green\"> 2.5 </span>) <img align=\"middle\" alt=\"\" border=\"0\" src=\"http://www.nepalstock.com/./images/increase.gif\" width=\"8\"/>    SLICL 895.00 ( 70409 ) ( <span class=\"red\"> -7 </span>) <img align=\"middle\" alt=\"\" border=\"0\" src=\"http://www.nepalstock.com/./images/decrease.gif\" width=\"8\"/>    RSDC 984.00 ( 40690 ) ( <span class=\"red\"> -5.1 </span>) <img align=\"middle\" alt=\"\" border=\"0\" src=\"http://www.nepalstock.com/./images/decrease.gif\" width=\"8\"/>    SICL 1,911.00 ( 19160 ) ( <span class=\"red\"> -19 </span>) <img align=\"middle\" alt=\"\" border=\"0\" src=\"http://www.nepalstock.com/./images/decrease.gif\" width=\"8\"/>    NBB 453.00 ( 199956 ) ( <span class=\"green\"> 6 </span>) <img align=\"middle\" alt=\"\" border=\"0\" src=\"http://www.nepalstock.com/./images/increase.gif\" width=\"8\"/>    BFC 577.00 ( 71503 ) ( <span class=\"red\"> -23 </span>) <img align=\"middle\" alt=\"\" border=\"0\" src=\"http://www.nepalstock.com/./images/decrease.gif\" width=\"8\"/>    GBBL 638.00 ( 203727 ) ( <span class=\"red\"> -2 </span>) <img align=\"middle\" alt=\"\" border=\"0\" src=\"http://www.nepalstock.com/./images/decrease.gif\" width=\"8\"/>    BARUN 604.00 ( 42751 ) ( <span class=\"red\"> -13 </span>) <img align=\"middle\" alt=\"\" border=\"0\" src=\"http://www.nepalstock.com/./images/decrease.gif\" width=\"8\"/>    LLBS 2,135.00 ( 3457 ) ( <span class=\"green\"> 20 </span>) <img align=\"middle\" alt=\"\" border=\"0\" src=\"http://www.nepalstock.com/./images/increase.gif\" width=\"8\"/>    PPCL 490.00 ( 10406 ) ( <span class=\"red\"> -18 </span>) <img align=\"middle\" alt=\"\" border=\"0\" src=\"http://www.nepalstock.com/./images/decrease.gif\" width=\"8\"/>    RBCL 19,080.00 ( 545 ) ( <span class=\"red\"> -129 </span>) <img align=\"middle\" alt=\"\" border=\"0\" src=\"http://www.nepalstock.com/./images/decrease.gif\" width=\"8\"/>    NUBL 1,595.00 ( 28812 ) ( <span class=\"red\"> -12 </span>) <img align=\"middle\" alt=\"\" border=\"0\" src=\"http://www.nepalstock.com/./images/decrease.gif\" width=\"8\"/>    GRDBL 473.00 ( 34918 ) ( <span class=\"red\"> -1 </span>) <img align=\"middle\" alt=\"\" border=\"0\" src=\"http://www.nepalstock.com/./images/decrease.gif\" width=\"8\"/>    RLFL 727.00 ( 149438 ) ( <span class=\"red\"> -16 </span>) <img align=\"middle\" alt=\"\" border=\"0\" src=\"http://www.nepalstock.com/./images/decrease.gif\" width=\"8\"/>    GIMES1 22.51 ( 173080 ) ( <span class=\"red\"> -0.08 </span>) <img align=\"middle\" alt=\"\" border=\"0\" src=\"http://www.nepalstock.com/./images/decrease.gif\" width=\"8\"/>    SIGS2 11.56 ( 245100 ) ( <span class=\"red\"> -0.21 </span>) <img align=\"middle\" alt=\"\" border=\"0\" src=\"http://www.nepalstock.com/./images/decrease.gif\" width=\"8\"/>    SPDL 575.20 ( 51493 ) ( <span class=\"red\"> -10.8 </span>) <img align=\"middle\" alt=\"\" border=\"0\" src=\"http://www.nepalstock.com/./images/decrease.gif\" width=\"8\"/>    SINDU 538.00 ( 34286 ) ( <span class=\"red\"> -4 </span>) <img align=\"middle\" alt=\"\" border=\"0\" src=\"http://www.nepalstock.com/./images/decrease.gif\" width=\"8\"/>    MERO 1,501.10 ( 17826 ) ( <span class=\"red\"> -24.9 </span>) <img align=\"middle\" alt=\"\" border=\"0\" src=\"http://www.nepalstock.com/./images/decrease.gif\" width=\"8\"/>    GLICL 720.00 ( 66796 ) ( <span class=\"red\"> -15 </span>) <img align=\"middle\" alt=\"\" border=\"0\" src=\"http://www.nepalstock.com/./images/decrease.gif\" width=\"8\"/>    UPPER 729.00 ( 151321 ) ( <span class=\"red\"> -3 </span>) <img align=\"middle\" alt=\"\" border=\"0\" src=\"http://www.nepalstock.com/./images/decrease.gif\" width=\"8\"/>    AKPL 640.00 ( 181760 ) ( <span class=\"red\"> -19 </span>) <img align=\"middle\" alt=\"\" border=\"0\" src=\"http://www.nepalstock.com/./images/decrease.gif\" width=\"8\"/>    SIC 1,405.00 ( 11002 ) ( <span class=\"green\"> 4 </span>) <img align=\"middle\" alt=\"\" border=\"0\" src=\"http://www.nepalstock.com/./images/increase.gif\" width=\"8\"/>    GUFL 1,240.00 ( 30814 ) ( <span class=\"red\"> -28 </span>) <img align=\"middle\" alt=\"\" border=\"0\" src=\"http://www.nepalstock.com/./images/decrease.gif\" width=\"8\"/>    NICL 985.30 ( 28417 ) ( <span class=\"red\"> -3.7 </span>) <img align=\"middle\" alt=\"\" border=\"0\" src=\"http://www.nepalstock.com/./images/decrease.gif\" width=\"8\"/>    MLBSL 4,650.00 ( 3124 ) ( <span class=\"red\"> -61 </span>) <img align=\"middle\" alt=\"\" border=\"0\" src=\"http://www.nepalstock.com/./images/decrease.gif\" width=\"8\"/>    NFS 690.00 ( 21967 ) ( <span class=\"red\"> -15 </span>) <img align=\"middle\" alt=\"\" border=\"0\" src=\"http://www.nepalstock.com/./images/decrease.gif\" width=\"8\"/>    DHPL 392.00 ( 26943 ) ( <span class=\"green\"> 5 </span>) <img align=\"middle\" alt=\"\" border=\"0\" src=\"http://www.nepalstock.com/./images/increase.gif\" width=\"8\"/>    GHL 453.00 ( 15775 ) ( <span class=\"green\"> 10 </span>) <img align=\"middle\" alt=\"\" border=\"0\" src=\"http://www.nepalstock.com/./images/increase.gif\" width=\"8\"/>    SANIMA 506.00 ( 202887 ) ( <span class=\"red\"> -1 </span>) <img align=\"middle\" alt=\"\" border=\"0\" src=\"http://www.nepalstock.com/./images/decrease.gif\" width=\"8\"/>    NICA 912.00 ( 104201 ) ( <span class=\"red\"> -2 </span>) <img align=\"middle\" alt=\"\" border=\"0\" src=\"http://www.nepalstock.com/./images/decrease.gif\" width=\"8\"/>    SSHL 437.90 ( 47457 ) ( <span class=\"red\"> -2.1 </span>) <img align=\"middle\" alt=\"\" border=\"0\" src=\"http://www.nepalstock.com/./images/decrease.gif\" width=\"8\"/>    SKBBL 1,875.00 ( 20173 ) ( <span class=\"green\"> 5 </span>) <img align=\"middle\" alt=\"\" border=\"0\" src=\"http://www.nepalstock.com/./images/increase.gif\" width=\"8\"/>    LICN 2,295.00 ( 21043 ) ( <span class=\"green\"> 96 </span>) <img align=\"middle\" alt=\"\" border=\"0\" src=\"http://www.nepalstock.com/./images/increase.gif\" width=\"8\"/>    GFCL 934.00 ( 80582 ) ( <span class=\"red\"> -46 </span>) <img align=\"middle\" alt=\"\" border=\"0\" src=\"http://www.nepalstock.com/./images/decrease.gif\" width=\"8\"/>    JLI 719.00 ( 14686 ) ( <span class=\"red\"> -5 </span>) <img align=\"middle\" alt=\"\" border=\"0\" src=\"http://www.nepalstock.com/./images/decrease.gif\" width=\"8\"/>    KMCDB 1,320.50 ( 11287 ) ( <span class=\"red\"> -17.5 </span>) <img align=\"middle\" alt=\"\" border=\"0\" src=\"http://www.nepalstock.com/./images/decrease.gif\" width=\"8\"/>    PLIC 928.00 ( 26182 ) ( <span class=\"green\"> 1 </span>) <img align=\"middle\" alt=\"\" border=\"0\" src=\"http://www.nepalstock.com/./images/increase.gif\" width=\"8\"/>    UNHPL 474.00 ( 46304 ) ( <span class=\"green\"> 9 </span>) <img align=\"middle\" alt=\"\" border=\"0\" src=\"http://www.nepalstock.com/./images/increase.gif\" width=\"8\"/>    SWBBL 1,770.00 ( 14458 ) ( <span class=\"red\"> -10 </span>) <img align=\"middle\" alt=\"\" border=\"0\" src=\"http://www.nepalstock.com/./images/decrease.gif\" width=\"8\"/>    MLBL 659.10 ( 168856 ) ( <span class=\"red\"> -0.9 </span>) <img align=\"middle\" alt=\"\" border=\"0\" src=\"http://www.nepalstock.com/./images/decrease.gif\" width=\"8\"/>    NRIC 1,483.00 ( 100907 ) ( <span class=\"red\"> -9.9 </span>) <img align=\"middle\" alt=\"\" border=\"0\" src=\"http://www.nepalstock.com/./images/decrease.gif\" width=\"8\"/>    AKJCL 414.00 ( 16244 ) ( <span class=\"green\"> 3 </span>) <img align=\"middle\" alt=\"\" border=\"0\" src=\"http://www.nepalstock.com/./images/increase.gif\" width=\"8\"/>    SRBL 356.00 ( 95812 ) ( <span class=\"green\"> 1 </span>) <img align=\"middle\" alt=\"\" border=\"0\" src=\"http://www.nepalstock.com/./images/increase.gif\" width=\"8\"/>    USLB 2,141.00 ( 1023 ) ( <span class=\"red\"> -8.2 </span>) <img align=\"middle\" alt=\"\" border=\"0\" src=\"http://www.nepalstock.com/./images/decrease.gif\" width=\"8\"/>    PLI 736.50 ( 7913 ) ( <span class=\"green\"> 0.6 </span>) <img align=\"middle\" alt=\"\" border=\"0\" src=\"http://www.nepalstock.com/./images/increase.gif\" width=\"8\"/>    TRH 408.00 ( 30210 ) ( <span class=\"green\"> 9 </span>) <img align=\"middle\" alt=\"\" border=\"0\" src=\"http://www.nepalstock.com/./images/increase.gif\" width=\"8\"/>    SCB 559.90 ( 26719 ) ( <span class=\"green\"> 0.9 </span>) <img align=\"middle\" alt=\"\" border=\"0\" src=\"http://www.nepalstock.com/./images/increase.gif\" width=\"8\"/>    SIFC 650.00 ( 97412 ) ( <span class=\"red\"> -32 </span>) <img align=\"middle\" alt=\"\" border=\"0\" src=\"http://www.nepalstock.com/./images/decrease.gif\" width=\"8\"/>    KSBBL 718.00 ( 190853 ) ( <span class=\"\"> 0 </span>) <img align=\"middle\" alt=\"\" border=\"0\" src=\"http://www.nepalstock.com/./images/nil.gif\" width=\"8\"/>    RRHP 610.00 ( 103083 ) ( <span class=\"red\"> -22 </span>) <img align=\"middle\" alt=\"\" border=\"0\" src=\"http://www.nepalstock.com/./images/decrease.gif\" width=\"8\"/>    CCBL 270.00 ( 82202 ) ( <span class=\"green\"> 3 </span>) <img align=\"middle\" alt=\"\" border=\"0\" src=\"http://www.nepalstock.com/./images/increase.gif\" width=\"8\"/>    HURJA 528.00 ( 34374 ) ( <span class=\"green\"> 30 </span>) <img align=\"middle\" alt=\"\" border=\"0\" src=\"http://www.nepalstock.com/./images/increase.gif\" width=\"8\"/>    NIBSF2 10.10 ( 31400 ) ( <span class=\"red\"> -0.05 </span>) <img align=\"middle\" alt=\"\" border=\"0\" src=\"http://www.nepalstock.com/./images/decrease.gif\" width=\"8\"/>    ADBL 548.50 ( 93937 ) ( <span class=\"green\"> 4.5 </span>) <img align=\"middle\" alt=\"\" border=\"0\" src=\"http://www.nepalstock.com/./images/increase.gif\" width=\"8\"/>    KPCL 730.00 ( 31013 ) ( <span class=\"green\"> 28 </span>) <img align=\"middle\" alt=\"\" border=\"0\" src=\"http://www.nepalstock.com/./images/increase.gif\" width=\"8\"/>    EIC 778.00 ( 21025 ) ( <span class=\"green\"> 1 </span>) <img align=\"middle\" alt=\"\" border=\"0\" src=\"http://www.nepalstock.com/./images/increase.gif\" width=\"8\"/>    NRN 850.00 ( 38619 ) ( <span class=\"\"> 0 </span>) <img align=\"middle\" alt=\"\" border=\"0\" src=\"http://www.nepalstock.com/./images/nil.gif\" width=\"8\"/>    CLBSL 1,535.00 ( 3240 ) ( <span class=\"red\"> -25 </span>) <img align=\"middle\" alt=\"\" border=\"0\" src=\"http://www.nepalstock.com/./images/decrease.gif\" width=\"8\"/>    MPFL 636.00 ( 60179 ) ( <span class=\"red\"> -10 </span>) <img align=\"middle\" alt=\"\" border=\"0\" src=\"http://www.nepalstock.com/./images/decrease.gif\" width=\"8\"/>    NLBBL 1,498.00 ( 12637 ) ( <span class=\"red\"> -2 </span>) <img align=\"middle\" alt=\"\" border=\"0\" src=\"http://www.nepalstock.com/./images/decrease.gif\" width=\"8\"/>    LGIL 820.00 ( 37554 ) ( <span class=\"\"> 0 </span>) <img align=\"middle\" alt=\"\" border=\"0\" src=\"http://www.nepalstock.com/./images/nil.gif\" width=\"8\"/>    NLIC 1,827.00 ( 64801 ) ( <span class=\"green\"> 5 </span>) <img align=\"middle\" alt=\"\" border=\"0\" src=\"http://www.nepalstock.com/./images/increase.gif\" width=\"8\"/>    MDB 811.00 ( 65547 ) ( <span class=\"red\"> -25 </span>) <img align=\"middle\" alt=\"\" border=\"0\" src=\"http://www.nepalstock.com/./images/decrease.gif\" width=\"8\"/>    SHEL 543.00 ( 21790 ) ( <span class=\"green\"> 2 </span>) <img align=\"middle\" alt=\"\" border=\"0\" src=\"http://www.nepalstock.com/./images/increase.gif\" width=\"8\"/>    GBLBS 1,187.00 ( 48081 ) ( <span class=\"red\"> -13 </span>) <img align=\"middle\" alt=\"\" border=\"0\" src=\"http://www.nepalstock.com/./images/decrease.gif\" width=\"8\"/>    SAEF 17.00 ( 826630 ) ( <span class=\"red\"> -0.6 </span>) <img align=\"middle\" alt=\"\" border=\"0\" src=\"http://www.nepalstock.com/./images/decrease.gif\" width=\"8\"/>    EDBL 1,009.00 ( 12393 ) ( <span class=\"red\"> -27 </span>) <img align=\"middle\" alt=\"\" border=\"0\" src=\"http://www.nepalstock.com/./images/decrease.gif\" width=\"8\"/>    NLG 1,047.00 ( 11237 ) ( <span class=\"green\"> 9.5 </span>) <img align=\"middle\" alt=\"\" border=\"0\" src=\"http://www.nepalstock.com/./images/increase.gif\" width=\"8\"/>    SBI 383.00 ( 46379 ) ( <span class=\"red\"> -3 </span>) <img align=\"middle\" alt=\"\" border=\"0\" src=\"http://www.nepalstock.com/./images/decrease.gif\" width=\"8\"/>    SLBBL 1,460.00 ( 15825 ) ( <span class=\"red\"> -25 </span>) <img align=\"middle\" alt=\"\" border=\"0\" src=\"http://www.nepalstock.com/./images/decrease.gif\" width=\"8\"/>    JOSHI 410.00 ( 17153 ) ( <span class=\"\"> 0 </span>) <img align=\"middle\" alt=\"\" border=\"0\" src=\"http://www.nepalstock.com/./images/nil.gif\" width=\"8\"/>    NMB50 15.75 ( 187430 ) ( <span class=\"green\"> 0.01 </span>) <img align=\"middle\" alt=\"\" border=\"0\" src=\"http://www.nepalstock.com/./images/increase.gif\" width=\"8\"/>    ACLBSL 1,581.00 ( 2650 ) ( <span class=\"green\"> 1 </span>) <img align=\"middle\" alt=\"\" border=\"0\" src=\"http://www.nepalstock.com/./images/increase.gif\" width=\"8\"/>    NIFRA 431.00 ( 189142 ) ( <span class=\"green\"> 3 </span>) <img align=\"middle\" alt=\"\" border=\"0\" src=\"http://www.nepalstock.com/./images/increase.gif\" width=\"8\"/>    GBD80/81 1,016.00 ( 4795 ) ( <span class=\"red\"> -20.1 </span>) <img align=\"middle\" alt=\"\" border=\"0\" src=\"http://www.nepalstock.com/./images/decrease.gif\" width=\"8\"/>    PIC 1,211.10 ( 21931 ) ( <span class=\"red\"> -18.9 </span>) <img align=\"middle\" alt=\"\" border=\"0\" src=\"http://www.nepalstock.com/./images/decrease.gif\" width=\"8\"/>    PROFL 540.00 ( 177299 ) ( <span class=\"green\"> 5 </span>) <img align=\"middle\" alt=\"\" border=\"0\" src=\"http://www.nepalstock.com/./images/increase.gif\" width=\"8\"/>    NLICL 1,138.00 ( 22908 ) ( <span class=\"red\"> -12 </span>) <img align=\"middle\" alt=\"\" border=\"0\" src=\"http://www.nepalstock.com/./images/decrease.gif\" width=\"8\"/>    CHCL 650.00 ( 55683 ) ( <span class=\"red\"> -5 </span>) <img align=\"middle\" alt=\"\" border=\"0\" src=\"http://www.nepalstock.com/./images/decrease.gif\" width=\"8\"/>    CHL 590.00 ( 34383 ) ( <span class=\"red\"> -1 </span>) <img align=\"middle\" alt=\"\" border=\"0\" src=\"http://www.nepalstock.com/./images/decrease.gif\" width=\"8\"/>    NABBC 1,147.90 ( 8869 ) ( <span class=\"red\"> -11.1 </span>) <img align=\"middle\" alt=\"\" border=\"0\" src=\"http://www.nepalstock.com/./images/decrease.gif\" width=\"8\"/>    PRIN 953.00 ( 42700 ) ( <span class=\"green\"> 14.5 </span>) <img align=\"middle\" alt=\"\" border=\"0\" src=\"http://www.nepalstock.com/./images/increase.gif\" width=\"8\"/>    MSLB 2,125.00 ( 1839 ) ( <span class=\"red\"> -15 </span>) <img align=\"middle\" alt=\"\" border=\"0\" src=\"http://www.nepalstock.com/./images/decrease.gif\" width=\"8\"/>    SMATA 1,527.00 ( 3443 ) ( <span class=\"red\"> -16 </span>) <img align=\"middle\" alt=\"\" border=\"0\" src=\"http://www.nepalstock.com/./images/decrease.gif\" width=\"8\"/>    PSF 10.05 ( 36543 ) ( <span class=\"red\"> -0.08 </span>) <img align=\"middle\" alt=\"\" border=\"0\" src=\"http://www.nepalstock.com/./images/decrease.gif\" width=\"8\"/>    UIC 751.00 ( 30996 ) ( <span class=\"red\"> -11 </span>) <img align=\"middle\" alt=\"\" border=\"0\" src=\"http://www.nepalstock.com/./images/decrease.gif\" width=\"8\"/>    AIL 806.00 ( 10682 ) ( <span class=\"red\"> -6.1 </span>) <img align=\"middle\" alt=\"\" border=\"0\" src=\"http://www.nepalstock.com/./images/decrease.gif\" width=\"8\"/>    PMHPL 392.00 ( 25715 ) ( <span class=\"\"> 0 </span>) <img align=\"middle\" alt=\"\" border=\"0\" src=\"http://www.nepalstock.com/./images/nil.gif\" width=\"8\"/>    HGI 775.00 ( 34548 ) ( <span class=\"red\"> -3 </span>) <img align=\"middle\" alt=\"\" border=\"0\" src=\"http://www.nepalstock.com/./images/decrease.gif\" width=\"8\"/>    LBL 373.00 ( 104141 ) ( <span class=\"red\"> -2 </span>) <img align=\"middle\" alt=\"\" border=\"0\" src=\"http://www.nepalstock.com/./images/decrease.gif\" width=\"8\"/>    LEC 438.00 ( 58553 ) ( <span class=\"green\"> 2 </span>) <img align=\"middle\" alt=\"\" border=\"0\" src=\"http://www.nepalstock.com/./images/increase.gif\" width=\"8\"/>    ILBS 1,726.00 ( 11914 ) ( <span class=\"red\"> -15 </span>) <img align=\"middle\" alt=\"\" border=\"0\" src=\"http://www.nepalstock.com/./images/decrease.gif\" width=\"8\"/>    VLBS 1,725.00 ( 2659 ) ( <span class=\"green\"> 12 </span>) <img align=\"middle\" alt=\"\" border=\"0\" src=\"http://www.nepalstock.com/./images/increase.gif\" width=\"8\"/>    NHDL 650.00 ( 14274 ) ( <span class=\"red\"> -20 </span>) <img align=\"middle\" alt=\"\" border=\"0\" src=\"http://www.nepalstock.com/./images/decrease.gif\" width=\"8\"/>    NMBMF 1,425.20 ( 10020 ) ( <span class=\"red\"> -4.8 </span>) <img align=\"middle\" alt=\"\" border=\"0\" src=\"http://www.nepalstock.com/./images/decrease.gif\" width=\"8\"/>    MLBBL 2,020.00 ( 1175 ) ( <span class=\"red\"> -40.5 </span>) <img align=\"middle\" alt=\"\" border=\"0\" src=\"http://www.nepalstock.com/./images/decrease.gif\" width=\"8\"/>    OHL 605.00 ( 35404 ) ( <span class=\"green\"> 35 </span>) <img align=\"middle\" alt=\"\" border=\"0\" src=\"http://www.nepalstock.com/./images/increase.gif\" width=\"8\"/>    SABSL 1,886.00 ( 4018 ) ( <span class=\"green\"> 6 </span>) <img align=\"middle\" alt=\"\" border=\"0\" src=\"http://www.nepalstock.com/./images/increase.gif\" width=\"8\"/>    RMDC 1,550.00 ( 32252 ) ( <span class=\"\"> 0 </span>) <img align=\"middle\" alt=\"\" border=\"0\" src=\"http://www.nepalstock.com/./images/nil.gif\" width=\"8\"/>    MMFDB 1,795.00 ( 9129 ) ( <span class=\"green\"> 15 </span>) <img align=\"middle\" alt=\"\" border=\"0\" src=\"http://www.nepalstock.com/./images/increase.gif\" width=\"8\"/>    CMF1 15.59 ( 146503 ) ( <span class=\"\"> 0 </span>) <img align=\"middle\" alt=\"\" border=\"0\" src=\"http://www.nepalstock.com/./images/nil.gif\" width=\"8\"/>    SGI 726.00 ( 5312 ) ( <span class=\"green\"> 6 </span>) <img align=\"middle\" alt=\"\" border=\"0\" src=\"http://www.nepalstock.com/./images/increase.gif\" width=\"8\"/>    NICGF 15.64 ( 43400 ) ( <span class=\"green\"> 0.15 </span>) <img align=\"middle\" alt=\"\" border=\"0\" src=\"http://www.nepalstock.com/./images/increase.gif\" width=\"8\"/>    LUK 10.63 ( 116730 ) ( <span class=\"red\"> -0.27 </span>) <img align=\"middle\" alt=\"\" border=\"0\" src=\"http://www.nepalstock.com/./images/decrease.gif\" width=\"8\"/>    UMRH 660.00 ( 10216 ) ( <span class=\"green\"> 5 </span>) <img align=\"middle\" alt=\"\" border=\"0\" src=\"http://www.nepalstock.com/./images/increase.gif\" width=\"8\"/>    CMF2 15.54 ( 166865 ) ( <span class=\"green\"> 0.43 </span>) <img align=\"middle\" alt=\"\" border=\"0\" src=\"http://www.nepalstock.com/./images/increase.gif\" width=\"8\"/>    NMFBS 3,200.00 ( 6605 ) ( <span class=\"green\"> 40 </span>) <img align=\"middle\" alt=\"\" border=\"0\" src=\"http://www.nepalstock.com/./images/increase.gif\" width=\"8\"/>    ALBSL 1,799.00 ( 4875 ) ( <span class=\"green\"> 9 </span>) <img align=\"middle\" alt=\"\" border=\"0\" src=\"http://www.nepalstock.com/./images/increase.gif\" width=\"8\"/>    SIL 1,050.00 ( 20847 ) ( <span class=\"red\"> -10 </span>) <img align=\"middle\" alt=\"\" border=\"0\" src=\"http://www.nepalstock.com/./images/decrease.gif\" width=\"8\"/>    NICBF 14.29 ( 147450 ) ( <span class=\"green\"> 0.17 </span>) <img align=\"middle\" alt=\"\" border=\"0\" src=\"http://www.nepalstock.com/./images/increase.gif\" width=\"8\"/>    SMFDB 1,521.00 ( 4502 ) ( <span class=\"red\"> -3 </span>) <img align=\"middle\" alt=\"\" border=\"0\" src=\"http://www.nepalstock.com/./images/decrease.gif\" width=\"8\"/>    RBCLPO 15,250.00 ( 100 ) ( <span class=\"green\"> 549 </span>) <img align=\"middle\" alt=\"\" border=\"0\" src=\"http://www.nepalstock.com/./images/increase.gif\" width=\"8\"/>    SLCF 10.20 ( 61380 ) ( <span class=\"red\"> -0.04 </span>) <img align=\"middle\" alt=\"\" border=\"0\" src=\"http://www.nepalstock.com/./images/decrease.gif\" width=\"8\"/>    SEF 11.46 ( 132120 ) ( <span class=\"red\"> -0.04 </span>) <img align=\"middle\" alt=\"\" border=\"0\" src=\"http://www.nepalstock.com/./images/decrease.gif\" width=\"8\"/>    JSLBB 3,370.00 ( 1628 ) ( <span class=\"red\"> -20 </span>) <img align=\"middle\" alt=\"\" border=\"0\" src=\"http://www.nepalstock.com/./images/decrease.gif\" width=\"8\"/>    NEF 15.61 ( 243785 ) ( <span class=\"red\"> -0.09 </span>) <img align=\"middle\" alt=\"\" border=\"0\" src=\"http://www.nepalstock.com/./images/decrease.gif\" width=\"8\"/>    SLBSL 1,465.00 ( 1405 ) ( <span class=\"red\"> -9 </span>) <img align=\"middle\" alt=\"\" border=\"0\" src=\"http://www.nepalstock.com/./images/decrease.gif\" width=\"8\"/>    NSLB 1,800.00 ( 3254 ) ( <span class=\"green\"> 60 </span>) <img align=\"middle\" alt=\"\" border=\"0\" src=\"http://www.nepalstock.com/./images/increase.gif\" width=\"8\"/>    SFMF 11.82 ( 389449 ) ( <span class=\"red\"> -1.31 </span>) <img align=\"middle\" alt=\"\" border=\"0\" src=\"http://www.nepalstock.com/./images/decrease.gif\" width=\"8\"/>    NIBLPF 11.97 ( 66290 ) ( <span class=\"green\"> 0.22 </span>) <img align=\"middle\" alt=\"\" border=\"0\" src=\"http://www.nepalstock.com/./images/increase.gif\" width=\"8\"/>    GLBSL 1,700.00 ( 5115 ) ( <span class=\"red\"> -60 </span>) <img align=\"middle\" alt=\"\" border=\"0\" src=\"http://www.nepalstock.com/./images/decrease.gif\" width=\"8\"/>    LEMF 10.66 ( 120350 ) ( <span class=\"red\"> -0.14 </span>) <img align=\"middle\" alt=\"\" border=\"0\" src=\"http://www.nepalstock.com/./images/decrease.gif\" width=\"8\"/>    BBC 6,161.20 ( 972 ) ( <span class=\"red\"> -8.8 </span>) <img align=\"middle\" alt=\"\" border=\"0\" src=\"http://www.nepalstock.com/./images/decrease.gif\" width=\"8\"/>    SMFBS 2,525.00 ( 432 ) ( <span class=\"green\"> 38 </span>) <img align=\"middle\" alt=\"\" border=\"0\" src=\"http://www.nepalstock.com/./images/increase.gif\" width=\"8\"/>    KEF 10.09 ( 40730 ) ( <span class=\"green\"> 0.04 </span>) <img align=\"middle\" alt=\"\" border=\"0\" src=\"http://www.nepalstock.com/./images/increase.gif\" width=\"8\"/>    NMBHF1 13.95 ( 108821 ) ( <span class=\"green\"> 0.03 </span>) <img align=\"middle\" alt=\"\" border=\"0\" src=\"http://www.nepalstock.com/./images/increase.gif\" width=\"8\"/>    EICPO 482.00 ( 5599 ) ( <span class=\"green\"> 3 </span>) <img align=\"middle\" alt=\"\" border=\"0\" src=\"http://www.nepalstock.com/./images/increase.gif\" width=\"8\"/>    EDBLPO 579.00 ( 50000 ) ( <span class=\"red\"> -11 </span>) <img align=\"middle\" alt=\"\" border=\"0\" src=\"http://www.nepalstock.com/./images/decrease.gif\" width=\"8\"/>    GMFBS 1,601.00 ( 4372 ) ( <span class=\"red\"> -39 </span>) <img align=\"middle\" alt=\"\" border=\"0\" src=\"http://www.nepalstock.com/./images/decrease.gif\" width=\"8\"/>    SBCF 10.20 ( 35570 ) ( <span class=\"green\"> 0.01 </span>) <img align=\"middle\" alt=\"\" border=\"0\" src=\"http://www.nepalstock.com/./images/increase.gif\" width=\"8\"/>    KLBSL 1,551.00 ( 815 ) ( <span class=\"red\"> -14 </span>) <img align=\"middle\" alt=\"\" border=\"0\" src=\"http://www.nepalstock.com/./images/decrease.gif\" width=\"8\"/>    NIBSF1 12.70 ( 33490 ) ( <span class=\"\"> 0 </span>) <img align=\"middle\" alt=\"\" border=\"0\" src=\"http://www.nepalstock.com/./images/nil.gif\" width=\"8\"/>    KBLPO 147.00 ( 47919 ) ( <span class=\"red\"> -3 </span>) <img align=\"middle\" alt=\"\" border=\"0\" src=\"http://www.nepalstock.com/./images/decrease.gif\" width=\"8\"/>    SAND2085 1,050.00 ( 180 ) ( <span class=\"\"> 0 </span>) <img align=\"middle\" alt=\"\" border=\"0\" src=\"http://www.nepalstock.com/./images/nil.gif\" width=\"8\"/>    BNT 10,491.00 ( 170 ) ( <span class=\"red\"> -89 </span>) <img align=\"middle\" alt=\"\" border=\"0\" src=\"http://www.nepalstock.com/./images/decrease.gif\" width=\"8\"/>    UNL 19,850.00 ( 30 ) ( <span class=\"green\"> 150 </span>) <img align=\"middle\" alt=\"\" border=\"0\" src=\"http://www.nepalstock.com/./images/increase.gif\" width=\"8\"/>    NICAD8283 1,064.30 ( 250 ) ( <span class=\"red\"> -0.9 </span>) <img align=\"middle\" alt=\"\" border=\"0\" src=\"http://www.nepalstock.com/./images/decrease.gif\" width=\"8\"/>    ICFCD83 1,150.00 ( 100 ) ( <span class=\"\"> 0 </span>) <img align=\"middle\" alt=\"\" border=\"0\" src=\"http://www.nepalstock.com/./images/nil.gif\" width=\"8\"/>    NCCBPO 121.00 ( 4707 ) ( <span class=\"\"> 0 </span>) <img align=\"middle\" alt=\"\" border=\"0\" src=\"http://www.nepalstock.com/./images/nil.gif\" width=\"8\"/>    SBD87 983.00 ( 30 ) ( <span class=\"red\"> -7 </span>) <img align=\"middle\" alt=\"\" border=\"0\" src=\"http://www.nepalstock.com/./images/decrease.gif\" width=\"8\"/>    MFLD85 1,005.00 ( 50 ) ( <span class=\"\"> 0 </span>) <img align=\"middle\" alt=\"\" border=\"0\" src=\"http://www.nepalstock.com/./images/nil.gif\" width=\"8\"/>    SHINEP 140.00 ( 6276 ) ( <span class=\"\"> 0 </span>) <img align=\"middle\" alt=\"\" border=\"0\" src=\"http://www.nepalstock.com/./images/nil.gif\" width=\"8\"/>    ADBLD83 1,042.00 ( 100 ) ( <span class=\"green\"> 1.8 </span>) <img align=\"middle\" alt=\"\" border=\"0\" src=\"http://www.nepalstock.com/./images/increase.gif\" width=\"8\"/>    SBIBD86 1,050.00 ( 355 ) ( <span class=\"green\"> 5 </span>) <img align=\"middle\" alt=\"\" border=\"0\" src=\"http://www.nepalstock.com/./images/increase.gif\" width=\"8\"/>    SBLD2082 1,040.00 ( 100 ) ( <span class=\"green\"> 3.7 </span>) <img align=\"middle\" alt=\"\" border=\"0\" src=\"http://www.nepalstock.com/./images/increase.gif\" width=\"8\"/>    HBLD83 1,105.50 ( 100 ) ( <span class=\"red\"> -22.5 </span>) <img align=\"middle\" alt=\"\" border=\"0\" src=\"http://www.nepalstock.com/./images/decrease.gif\" width=\"8\"/>    PRVUPO 204.00 ( 100000 ) ( <span class=\"green\"> 4 </span>) <img align=\"middle\" alt=\"\" border=\"0\" src=\"http://www.nepalstock.com/./images/increase.gif\" width=\"8\"/>    SBLD84 985.00 ( 140 ) ( <span class=\"\"> 0 </span>) <img align=\"middle\" alt=\"\" border=\"0\" src=\"http://www.nepalstock.com/./images/nil.gif\" width=\"8\"/>    SRBLD83 1,030.10 ( 50 ) ( <span class=\"red\"> -9.9 </span>) <img align=\"middle\" alt=\"\" border=\"0\" src=\"http://www.nepalstock.com/./images/decrease.gif\" width=\"8\"/>    NCCD86 1,007.10 ( 25 ) ( <span class=\"green\"> 0.1 </span>) <img align=\"middle\" alt=\"\" border=\"0\" src=\"http://www.nepalstock.com/./images/increase.gif\" width=\"8\"/>    MKLB 457.30 ( 20 ) ( <span class=\"green\"> 17.6 </span>) <img align=\"middle\" alt=\"\" border=\"0\" src=\"http://www.nepalstock.com/./images/increase.gif\" width=\"8\"/>     </img></b></marquee>\n",
      "</div> </div>\n",
      "<!-- End Ticker -->\n",
      "<div class=\"container\" id=\"home-contents\" style=\"width:81.5%\">\n",
      "<script type=\"text/javascript\">\r\n",
      "    $('#search_symbol').on('click', function(e){\r\n",
      "        if($('#stock_symbol').val() == '') {\r\n",
      "            e.preventDefault();\r\n",
      "        }\r\n",
      "    });\r\n",
      "\r\n",
      "    $('#StockSymbol_Select').on('change', function(e){\r\n",
      "        var stockid = $('#StockSymbol_Select').val();\r\n",
      "        window.open('http://www.nepalstock.com/company/display/'+stockid, \"_self\");\r\n",
      "    });\r\n",
      "</script>\n",
      "<script type=\"text/javascript\">\n",
      "\n",
      "        $(document).ready(function() {\n",
      "\n",
      "            $(\"#indexSelectToday\").on(\"change\", function(e){\n",
      "              e.preventDefault();\n",
      "              c2 = $(this).find('option:selected').html();\n",
      "              $.getJSON('http://www.nepalstock.com/graphdatatoday/'+$(this).val(), function(data) {\n",
      "                // Create the chart\n",
      "                $('#graph-div .graph-container').highcharts('StockChart', {\n",
      "                    xAxis: {\n",
      "                      gapGridLineWidth: 0\n",
      "                    },\n",
      "                    credits: {\n",
      "                    \tenabled: false\n",
      "                    },\n",
      "\n",
      "                    title : c2,\n",
      "                    \n",
      "                    rangeSelector : {\n",
      "                      buttons : [{\n",
      "                        type : 'hour',\n",
      "                        count : 1,\n",
      "                        text : '1h'\n",
      "                      }, {\n",
      "                        type : 'day',\n",
      "                        count : 1,\n",
      "                        text : '1D'\n",
      "                      }, {\n",
      "                        type : 'all',\n",
      "                        count : 1,\n",
      "                        text : 'All'\n",
      "                      }],\n",
      "                      selected : 1,\n",
      "                      inputEnabled : false\n",
      "                    },\n",
      "                    \n",
      "                    series : [{\n",
      "                      name : c2,\n",
      "                      type: 'area',\n",
      "                      threshold: null,\n",
      "                      data : data,\n",
      "                      tooltip: {\n",
      "                        valueDecimals: 2\n",
      "                      },\n",
      "                      fillColor : {\n",
      "                        linearGradient : {\n",
      "                          x1: 0, \n",
      "                          y1: 0, \n",
      "                          x2: 0, \n",
      "                          y2: 1\n",
      "                        },\n",
      "                        stops : [[0, Highcharts.getOptions().colors[0]], [1, 'rgba(0,0,0,0)']]\n",
      "                      },\n",
      "                      threshold: null\n",
      "                    }]\n",
      "                });\n",
      "              });\n",
      "            })\n",
      "\n",
      "            $(\"#indexSelectToday\").trigger(\"change\");\n",
      "        });\n",
      "    </script>\n",
      "<div class=\"col-md-6 col-xs-6 panel panel-default\">\n",
      "<div class=\"panel-heading\">\n",
      "<b>Notices / Corporate Disclosure</b>\n",
      "</div>\n",
      "<div class=\"panel-body\">\n",
      "<marquee direction=\"up\" height=\"265\" onmouseout=\"this.start();\" onmouseover=\"this.stop();\" scrollamount=\"1\" scrolldelay=\"20\">\n",
      "<ul class=\"pull-left front-news-marquee\" id=\"scroller1\">\n",
      "<li class=\"news-item\"><a class=\"notices\" href=\"http://www.nepalstock.com/news/detailspopup/listing-ipo-shares-of-sanima-life-insurance-limited-sli\" title=\"Listing IPO Shares of Sanima Life Insurance Limited -SLI\">[2021-09-01]<br><span>Listing IPO Shares of Sanima Life Insurance Limited -SLI</span><br> </br></br></a></li>\n",
      "<li class=\"news-item\"><a class=\"notices\" href=\"http://www.nepalstock.com/news/detailspopup/tms-user-manual-for-clients-updated\" title=\"TMS User Manual for Clients-Updated\">[2020-09-24]<br/><span>TMS User Manual for Clients-Updated</span><br/> </a></li>\n",
      "</ul>\n",
      "</marquee>\n",
      "</div>\n",
      "</div>\n",
      "<div class=\"col-xs-12 col-md-6 col-sm-6 panel panel-default\" id=\"market-watch\">\n",
      "<div class=\"panel-heading\">As of 2021-09-01 15:00:00</div>\n",
      "<div class=\"panel-body\" id=\"graph-div\" style=\"height:400px;\">\n",
      "<div class=\"row\" id=\"market_info\">\n",
      "<div class=\"metadata col-xs-12 col-md-12 col-sm-12 col-lg-12\">\n",
      "<div class=\"top_marketinfo\">\n",
      "             Market Closed           </div>\n",
      "<div class=\"sv\">\n",
      "<span class=\"left\">Share Volume | 17,182,871</span>\n",
      "<span class=\"right\">Turnover | 9,351,799,655</span>\n",
      "</div>\n",
      "</div>\n",
      "</div>\n",
      "<div class=\"row\" id=\"banner\" style=\"margin-bottom:20px\">\n",
      "<div class=\"pull-left banner-green banner-item\">\n",
      "<div class=\"title\">\n",
      "              NEPSE            </div>\n",
      "<div class=\"current-index\">\n",
      "              2,977.02            </div>\n",
      "<div class=\"point-change\">\n",
      "              1.18            </div>\n",
      "<div class=\"percent-change\">\n",
      "              0.04%\n",
      "            </div>\n",
      "</div>\n",
      "<div class=\"pull-right banner-green banner-item\">\n",
      "<div class=\"title\">\n",
      "              Sensitive            </div>\n",
      "<div class=\"current-index\">\n",
      "              550.69            </div>\n",
      "<div class=\"point-change\">\n",
      "              0.17            </div>\n",
      "<div class=\"percent-change\">\n",
      "              0.03%\n",
      "            </div>\n",
      "</div>\n",
      "</div>\n",
      "<div style=\"clear:both\"></div>\n",
      "<div>\n",
      "<select id=\"indexSelectToday\" name=\"indexSelectToday\">\n",
      "<option value=\"58\">NEPSE Index</option>\n",
      "<option value=\"57\">Sensitive</option>\n",
      "<option value=\"62\">Float</option>\n",
      "<option value=\"63\">Sensitive Float</option>\n",
      "</select>\n",
      "</div>\n",
      "<div class=\"graph-container\" style=\"height:250px; width: 100%;\"></div>\n",
      "</div>\n",
      "</div>\n",
      "<div class=\"col-xs-12 col-md-9 col-sm-9\">\n",
      "<table class=\"table table-condensed\"><thead><tr class=\"rowtitle1\"><td>S.N.</td><td>Symbol</td><td class=\"alnright\">LTP</td><td class=\"alnright\">LTV</td><td class=\"alnright\">Point Change</td><td class=\"alnright\">%Change</td><td class=\"alnright\">Open</td><td class=\"alnright\">High</td><td class=\"alnright\">Low</td><td class=\"alnright\">Volume</td><td class=\"alnright\">Previous Closing</td></tr></thead><tbody>  </tbody>\n",
      "</table> </div>\n",
      "<div class=\"col-xs-12 col-md-3 col-sm-3\">\n",
      "<h4>Top 10 Turnovers</h4>\n",
      "<table class=\"table table-hover table-condensed\" id=\"top-by-turnover\">\n",
      "<thead>\n",
      "<tr class=\"rowtitle1\" valign=\"top\">\n",
      "<td>Symbol</td>\n",
      "<td class=\"alnright\">Turnover</td>\n",
      "<td class=\"alnright\">\n",
      "              Closing Price             </td>\n",
      "</tr>\n",
      "</thead>\n",
      "<tbody>\n",
      "<tr> <td colspan=\"4\">As of 2021-09-01 15:00:00</td></tr>\n",
      "<tr class=\"row1\" valign=\"top\">\n",
      "<td data-toggle=\"tooltip\" title=\"Arun Valley Hydropower Development Co. Ltd.\"><b>AHPC</b></td>\n",
      "<td class=\"alnright\">599,936,049.10</td>\n",
      "<td class=\"alnright\">726.00</td>\n",
      "</tr>\n",
      "<tr class=\"row1\" valign=\"top\">\n",
      "<td data-toggle=\"tooltip\" title=\"United Modi Hydropower Ltd.\"><b>UMHL</b></td>\n",
      "<td class=\"alnright\">301,423,072.90</td>\n",
      "<td class=\"alnright\">562.00</td>\n",
      "</tr>\n",
      "<tr class=\"row1\" valign=\"top\">\n",
      "<td data-toggle=\"tooltip\" title=\"Api Power Company Ltd.\"><b>API</b></td>\n",
      "<td class=\"alnright\">237,515,077.20</td>\n",
      "<td class=\"alnright\">551.50</td>\n",
      "</tr>\n",
      "<tr class=\"row1\" valign=\"top\">\n",
      "<td data-toggle=\"tooltip\" title=\"Himalayan Distillery Limited\"><b>HDL</b></td>\n",
      "<td class=\"alnright\">233,676,927.60</td>\n",
      "<td class=\"alnright\">6,800.00</td>\n",
      "</tr>\n",
      "<tr class=\"row1\" valign=\"top\">\n",
      "<td data-toggle=\"tooltip\" title=\"Ridi Hydropower Development Company Ltd.\"><b>RHPC</b></td>\n",
      "<td class=\"alnright\">221,153,152.00</td>\n",
      "<td class=\"alnright\">979.00</td>\n",
      "</tr>\n",
      "<tr class=\"row1\" valign=\"top\">\n",
      "<td data-toggle=\"tooltip\" title=\"Nepal Bank Limited\"><b>NBL</b></td>\n",
      "<td class=\"alnright\">181,218,636.40</td>\n",
      "<td class=\"alnright\">520.00</td>\n",
      "</tr>\n",
      "<tr class=\"row1\" valign=\"top\">\n",
      "<td data-toggle=\"tooltip\" title=\"Nabil Bank Limited\"><b>NABIL</b></td>\n",
      "<td class=\"alnright\">177,400,692.50</td>\n",
      "<td class=\"alnright\">1,420.00</td>\n",
      "</tr>\n",
      "<tr class=\"row1\" valign=\"top\">\n",
      "<td data-toggle=\"tooltip\" title=\"Lumbini Bikas Bank Ltd.\"><b>LBBL</b></td>\n",
      "<td class=\"alnright\">163,224,137.10</td>\n",
      "<td class=\"alnright\">667.90</td>\n",
      "</tr>\n",
      "<tr class=\"row1\" valign=\"top\">\n",
      "<td data-toggle=\"tooltip\" title=\"Jeevan Bikas laghubitta  bittya sanstha ltd\"><b>JBLB</b></td>\n",
      "<td class=\"alnright\">154,841,329.20</td>\n",
      "<td class=\"alnright\">4,921.00</td>\n",
      "</tr>\n",
      "<tr class=\"row1\" valign=\"top\">\n",
      "<td data-toggle=\"tooltip\" title=\"Nepal Reinsurance Company Limited\"><b>NRIC</b></td>\n",
      "<td class=\"alnright\">150,965,373.20</td>\n",
      "<td class=\"alnright\">1,483.00</td>\n",
      "</tr>\n",
      "<tr>\n",
      "<td align=\"right\" colspan=\"3\" style=\"padding-top: 5px;\"><a href=\"turnovers\">View All</a> </td>\n",
      "</tr>\n",
      "</tbody>\n",
      "</table>\n",
      "<h4>Top Gainers</h4>\n",
      "<table class=\"table table-hover table-condensed\" id=\"top-gainers\">\n",
      "<thead>\n",
      "<tr class=\"rowtitle1\" valign=\"top\">\n",
      "<td>Symbol</td>\n",
      "<td class=\"alnright\">LTP</td>\n",
      "<td class=\"alnright\">% Change</td>\n",
      "</tr>\n",
      "</thead>\n",
      "<tbody>\n",
      "<tr> <td colspan=\"4\">As of 2021-09-01 15:00:00</td></tr>\n",
      "<tr class=\"row1\" valign=\"top\">\n",
      "<td data-toggle=\"tooltip\" title=\"\"><b>RURU</b></td>\n",
      "<td class=\"alnright\">1,448.00</td>\n",
      "<td class=\"alnright\">7.55</td>\n",
      "</tr>\n",
      "<tr class=\"row1\" valign=\"top\">\n",
      "<td data-toggle=\"tooltip\" title=\"\"><b>OHL</b></td>\n",
      "<td class=\"alnright\">605.00</td>\n",
      "<td class=\"alnright\">6.14</td>\n",
      "</tr>\n",
      "<tr class=\"row1\" valign=\"top\">\n",
      "<td data-toggle=\"tooltip\" title=\"\"><b>UMHL</b></td>\n",
      "<td class=\"alnright\">562.00</td>\n",
      "<td class=\"alnright\">6.04</td>\n",
      "</tr>\n",
      "<tr class=\"row1\" valign=\"top\">\n",
      "<td data-toggle=\"tooltip\" title=\"\"><b>HURJA</b></td>\n",
      "<td class=\"alnright\">528.00</td>\n",
      "<td class=\"alnright\">6.02</td>\n",
      "</tr>\n",
      "<tr class=\"row1\" valign=\"top\">\n",
      "<td data-toggle=\"tooltip\" title=\"\"><b>SHL</b></td>\n",
      "<td class=\"alnright\">276.90</td>\n",
      "<td class=\"alnright\">5.73</td>\n",
      "</tr>\n",
      "<tr class=\"row1\" valign=\"top\">\n",
      "<td data-toggle=\"tooltip\" title=\"\"><b>LICN</b></td>\n",
      "<td class=\"alnright\">2,295.00</td>\n",
      "<td class=\"alnright\">4.37</td>\n",
      "</tr>\n",
      "<tr class=\"row1\" valign=\"top\">\n",
      "<td data-toggle=\"tooltip\" title=\"\"><b>MKLB</b></td>\n",
      "<td class=\"alnright\">457.30</td>\n",
      "<td class=\"alnright\">4.00</td>\n",
      "</tr>\n",
      "<tr class=\"row1\" valign=\"top\">\n",
      "<td data-toggle=\"tooltip\" title=\"\"><b>KPCL</b></td>\n",
      "<td class=\"alnright\">730.00</td>\n",
      "<td class=\"alnright\">3.99</td>\n",
      "</tr>\n",
      "<tr class=\"row1\" valign=\"top\">\n",
      "<td data-toggle=\"tooltip\" title=\"\"><b>RBCLPO</b></td>\n",
      "<td class=\"alnright\">15,250.00</td>\n",
      "<td class=\"alnright\">3.73</td>\n",
      "</tr>\n",
      "<tr class=\"row1\" valign=\"top\">\n",
      "<td data-toggle=\"tooltip\" title=\"\"><b>NSLB</b></td>\n",
      "<td class=\"alnright\">1,800.00</td>\n",
      "<td class=\"alnright\">3.45</td>\n",
      "</tr>\n",
      "<tr>\n",
      "<td align=\"right\" colspan=\"3\" style=\"padding-top: 5px;\"><a href=\"gainers\">View All</a> </td>\n",
      "</tr>\n",
      "</tbody>\n",
      "</table>\n",
      "<h4>Top Losers</h4>\n",
      "<table class=\"table table-hover table-condensed\" id=\"top-losers\">\n",
      "<thead>\n",
      "<tr class=\"rowtitle1\" valign=\"top\">\n",
      "<td>Symbol</td>\n",
      "<td class=\"alnright\">LTP</td>\n",
      "<td class=\"alnright\">% Change</td>\n",
      "</tr>\n",
      "</thead>\n",
      "<tbody>\n",
      "<tr> <td colspan=\"4\">As of 2021-09-01 15:00:00</td></tr>\n",
      "<tr class=\"row1\" valign=\"top\">\n",
      "<td data-toggle=\"tooltip\" title=\"\"><b>SFMF</b> </td>\n",
      "<td class=\"alnright\">11.82</td>\n",
      "<td class=\"alnright\">-9.98</td>\n",
      "</tr>\n",
      "<tr class=\"row1\" valign=\"top\">\n",
      "<td data-toggle=\"tooltip\" title=\"\"><b>KKHC</b> </td>\n",
      "<td class=\"alnright\">380.00</td>\n",
      "<td class=\"alnright\">-7.77</td>\n",
      "</tr>\n",
      "<tr class=\"row1\" valign=\"top\">\n",
      "<td data-toggle=\"tooltip\" title=\"\"><b>GMFIL</b> </td>\n",
      "<td class=\"alnright\">670.00</td>\n",
      "<td class=\"alnright\">-6.27</td>\n",
      "</tr>\n",
      "<tr class=\"row1\" valign=\"top\">\n",
      "<td data-toggle=\"tooltip\" title=\"\"><b>CORBL</b> </td>\n",
      "<td class=\"alnright\">1,065.00</td>\n",
      "<td class=\"alnright\">-5.75</td>\n",
      "</tr>\n",
      "<tr class=\"row1\" valign=\"top\">\n",
      "<td data-toggle=\"tooltip\" title=\"\"><b>ICFC</b> </td>\n",
      "<td class=\"alnright\">1,012.50</td>\n",
      "<td class=\"alnright\">-5.28</td>\n",
      "</tr>\n",
      "<tr class=\"row1\" valign=\"top\">\n",
      "<td data-toggle=\"tooltip\" title=\"\"><b>SIFC</b> </td>\n",
      "<td class=\"alnright\">650.00</td>\n",
      "<td class=\"alnright\">-4.69</td>\n",
      "</tr>\n",
      "<tr class=\"row1\" valign=\"top\">\n",
      "<td data-toggle=\"tooltip\" title=\"\"><b>GFCL</b> </td>\n",
      "<td class=\"alnright\">934.00</td>\n",
      "<td class=\"alnright\">-4.69</td>\n",
      "</tr>\n",
      "<tr class=\"row1\" valign=\"top\">\n",
      "<td data-toggle=\"tooltip\" title=\"\"><b>MEN</b> </td>\n",
      "<td class=\"alnright\">1,330.00</td>\n",
      "<td class=\"alnright\">-4.59</td>\n",
      "</tr>\n",
      "<tr class=\"row1\" valign=\"top\">\n",
      "<td data-toggle=\"tooltip\" title=\"\"><b>BFC</b> </td>\n",
      "<td class=\"alnright\">577.00</td>\n",
      "<td class=\"alnright\">-3.83</td>\n",
      "</tr>\n",
      "<tr class=\"row1\" valign=\"top\">\n",
      "<td data-toggle=\"tooltip\" title=\"\"><b>SMB</b> </td>\n",
      "<td class=\"alnright\">2,650.00</td>\n",
      "<td class=\"alnright\">-3.81</td>\n",
      "</tr>\n",
      "<tr>\n",
      "<td align=\"right\" colspan=\"3\" style=\"padding-top: 5px;\"><a href=\"losers\">View All</a> </td>\n",
      "</tr>\n",
      "</tbody>\n",
      "</table>\n",
      "</div>\n",
      "<script type=\"text/javascript\">\n",
      "    $(\".companynews\").click(function(e){\n",
      "        e.preventDefault();\n",
      "        window.open($(this).attr(\"href\"), \"popupWindow\", \"width=600,height=500,scrollbars=yes\");\n",
      "    });\n",
      "\n",
      "    $(\".notices\").click(function(e){\n",
      "      e.preventDefault();\n",
      "      window.open($(this).attr(\"href\"), \"popupWindow\", \"width=600,height=500,scrollbars=yes\");\n",
      "    });\n",
      "   </script>\n",
      "</div> <!-- home-contents end -->\n",
      "<!--footer-->\n",
      "<footer class=\"bs-footer\" role=\"contentinfo\">\n",
      "<div class=\"container\">\n",
      "<div id=\"footer_sitemap row\">\n",
      "<div class=\"footercol pull-left\">\n",
      "<h2>\n",
      "<a href=\"#\">Nepse's Data</a>\n",
      "</h2><ul><li><a href=\"http://www.nepalstock.com/todaysprice\" title=\"Today's Share Price\">Today's Share Price</a></li><li><a href=\"http://www.nepalstock.com/floorsheet\" title=\"Today's Floor Sheet\">Today's Floor Sheet</a></li><li><a href=\"http://www.nepalstock.com/indices\" title=\"DateWise Indices\">DateWise Indices</a></li><li><a href=\"http://www.nepalstock.com/stockWisePrices\" title=\"Last 90 Day's Stockwise Trading\">Last 90 Day's Stockwise Trading</a></li><li><a href=\"http://www.nepalstock.com/calculation\" title=\"120 Day's Trading Average Price\">120 Day's Trading Average Price</a></li><li><a href=\"http://www.nepalstock.com/calculationoneeighty\" title=\"180 Day's Trading Average Price\">180 Day's Trading Average Price</a></li></ul></div><div class=\"footercol pull-left\">\n",
      "<h2>\n",
      "<a href=\"#\">Media</a>\n",
      "</h2><ul><li><a href=\"http://www.nepalstock.com/news/category/0\" title=\"News and Alerts\">News and Alerts</a></li><li><a href=\"http://www.nepalstock.com/news/category/2\" title=\"Press Releases\">Press Releases</a></li><li><a href=\"http://www.nepalstock.com/news/category/3\" title=\"Investor Awareness\">Investor Awareness</a></li></ul></div><div class=\"footercol pull-left\">\n",
      "<h2>\n",
      "<a href=\"#\">Company Listing</a>\n",
      "</h2><ul><li><a href=\"http://www.nepalstock.com/company\" title=\"Listed Companies\">Listed Companies</a></li><li><a href=\"http://www.nepalstock.com/listing-information\" title=\"Listing Information\">Listing Information</a></li><li><a href=\"http://www.nepalstock.com/promoter-share\" title=\"Promoter Share\">Promoter Share</a></li><li><a href=\"http://www.nepalstock.com/classification-of-listed-companies\" title=\"Classification of Companies\">Classification of Companies</a></li></ul></div><div class=\"footercol1 pull-left\">\n",
      "<br/><br>\n",
      "<center><img alt=\"\" height=\"110\" src=\"../images/spokeperson.jpg\" width=\"75\"/></center>\n",
      "</br></div>\n",
      "<div class=\"footercol pull-left\">\n",
      "<br/>\n",
      "<h2><a href=\"#\"><center>Information Officer</center></a></h2>\n",
      "<p align=\"center\" style=\"font-size:12.5px;\"> Murahari Parajuli</p>\n",
      "<p align=\"center\" style=\"font-size:12px;\">Contact No.: +977-01-4250758 (ext.125\r\n",
      ")</p>\n",
      "<p align=\"center\" style=\"font-size:12.5px;\"> Email : mparajuli@nepalstock.com</p>\n",
      "</div> <div class=\"clear\"></div>\n",
      "</div>\n",
      "</div>\n",
      "</footer>\n",
      "<!--/footer-->\n",
      "<!--copyright-->\n",
      "<div class=\"container\">\n",
      "<div class=\"pull-left\" id=\"tou\"><a href=\"http://www.nepalstock.com/termsofuse\" target=\"_blank\">Terms of Use</a></div>\n",
      "<div class=\"pull-right\" id=\"copyright\">\r\n",
      "    ©2007-2021  Nepal Stock Exchange Ltd.. All Rights Reserved.</div>\n",
      "</div>\n",
      "<a href=\"#page-top\" id=\"scroll-top\">Top</a>\n",
      "\n",
      "<!--/copyright-->\n",
      "<!-- Bootstrap core JavaScript\r\n",
      "    ================================================== -->\n",
      "<!-- Placed at the end of the document so the pages load faster -->\n",
      "<script src=\"http://www.nepalstock.com/js/bootstrap.min.js\"></script>\n",
      "<script src=\"http://www.nepalstock.com/js/highstock.js\"></script>\n",
      "<script src=\"http://code.highcharts.com/stock/modules/exporting.js\"></script>\n",
      "<!-- Place this tag in your head or just before your close body tag -->\n",
      "<link href=\"http://www.nepalstock.com/js/superfish/css/superfish.css\" rel=\"stylesheet\" type=\"text/css\">\n",
      "<link href=\"http://www.nepalstock.com/js/scroll-top/scroll.css\" rel=\"stylesheet\" type=\"text/css\"/>\n",
      "<script src=\"http://www.nepalstock.com/js/scroll-top/scroll-top.js\" type=\"text/javascript\"></script>\n",
      "<script src=\"http://www.nepalstock.com/js/superfish/js/hoverIntent.js\" type=\"text/javascript\"></script>\n",
      "<script src=\"http://www.nepalstock.com/js/superfish/js/superfish.js\" type=\"text/javascript\"></script>\n",
      "<script type=\"text/javascript\">\r\n",
      "  jQuery(document).ready(function(){\r\n",
      "      jQuery('ul.sf-menu').superfish();\r\n",
      "  });\r\n",
      "  $(function() {\r\n",
      "    $('.nav-tabs li').on(\"click\", function(event){\r\n",
      "      event.preventDefault();\r\n",
      "      $(this).parent().find('li').each(function(){$(this).removeClass('active');});\r\n",
      "      $(this).addClass('active');\r\n",
      "      $(this).parent().parent().find('.option-div').each(function(){$(this).hide();});\r\n",
      "      $(this).parent().parent().find(''+$(this).find('a').attr('href')).show();\r\n",
      "      console.log($(this).parent().parent().find(''+$(this).find('a').attr('href')));\r\n",
      "\r\n",
      "    })\r\n",
      "\r\n",
      "    $('#nepse-market').on(\"change\", function(event){\r\n",
      "      event.preventDefault();\r\n",
      "      selected = $(this).val();\r\n",
      "      $(this).parent().find('table.nepse-market-list').each(function(){$(this).hide();});\r\n",
      "      $(this).parent().find('table#'+selected).show();\r\n",
      "\r\n",
      "    });\r\n",
      "    $(\"#nepse-market\").trigger(\"change\");\r\n",
      "\r\n",
      "      // Setup drop down menu\r\n",
      "      $('.dropdown-toggle').dropdown();\r\n",
      "     \r\n",
      "      // Fix input element click problem\r\n",
      "      $('.dropdown input, .dropdown label').click(function(e) {\r\n",
      "        e.stopPropagation();\r\n",
      "      });\r\n",
      "\r\n",
      "      jQuery(\"#menu-icon\").on(\"click\", function(){\r\n",
      "          jQuery(\"#nav\").slideToggle();\r\n",
      "          jQuery(this).toggleClass(\"active\");\r\n",
      "      });\r\n",
      "\r\n",
      "  });\r\n",
      "</script>\n",
      "</link></body>\n",
      "</html>\n"
     ]
    }
   ],
   "source": [
    "############################### Top by Turnover ###########################\n",
    "import requests\n",
    "import bs4\n",
    "import pandas as pd\n",
    "df=pd.DataFrame()\n",
    "col=[]\n",
    "req_obj=requests.get(\"http://www.nepalstock.com/stocklive\")\n",
    "#print(req_obj.status_code)\n",
    "soup=bs4.BeautifulSoup(req_obj.text,\"html.parser\")\n",
    "print(soup)"
   ]
  },
  {
   "cell_type": "code",
   "execution_count": 11,
   "metadata": {},
   "outputs": [
    {
     "data": {
      "text/plain": [
       "<meta content=\"text/html; charset=utf-8\" http-equiv=\"Content-Type\"/>"
      ]
     },
     "execution_count": 11,
     "metadata": {},
     "output_type": "execute_result"
    }
   ],
   "source": [
    "soup.head.meta # Navigating through tags"
   ]
  },
  {
   "cell_type": "code",
   "execution_count": 13,
   "metadata": {},
   "outputs": [
    {
     "data": {
      "text/plain": [
       "'text/html; charset=utf-8'"
      ]
     },
     "execution_count": 13,
     "metadata": {},
     "output_type": "execute_result"
    }
   ],
   "source": [
    "soup.head.meta[\"content\"] # Get value of attribute"
   ]
  },
  {
   "cell_type": "code",
   "execution_count": 19,
   "metadata": {},
   "outputs": [
    {
     "data": {
      "text/plain": [
       "<meta content=\"width=device-width, initial-scale=1\" name=\"viewport\"/>"
      ]
     },
     "execution_count": 19,
     "metadata": {},
     "output_type": "execute_result"
    }
   ],
   "source": [
    "soup.find(\"meta\",attrs={\"name\":\"viewport\"}) # Find tag with attribute value name=viewport"
   ]
  },
  {
   "cell_type": "code",
   "execution_count": 23,
   "metadata": {},
   "outputs": [
    {
     "data": {
      "text/plain": [
       "<table class=\"table table-condensed\"><thead><tr class=\"rowtitle1\"><td>S.N.</td><td>Symbol</td><td class=\"alnright\">LTP</td><td class=\"alnright\">LTV</td><td class=\"alnright\">Point Change</td><td class=\"alnright\">%Change</td><td class=\"alnright\">Open</td><td class=\"alnright\">High</td><td class=\"alnright\">Low</td><td class=\"alnright\">Volume</td><td class=\"alnright\">Previous Closing</td></tr></thead><tbody>  </tbody>\n",
       "</table>"
      ]
     },
     "execution_count": 23,
     "metadata": {},
     "output_type": "execute_result"
    }
   ],
   "source": [
    "soup.find(\"table\",class_=\"table table-condensed\") # Find tag by class"
   ]
  },
  {
   "cell_type": "code",
   "execution_count": 25,
   "metadata": {},
   "outputs": [
    {
     "data": {
      "text/plain": [
       "<table class=\"table table-hover table-condensed\" id=\"top-gainers\">\n",
       "<thead>\n",
       "<tr class=\"rowtitle1\" valign=\"top\">\n",
       "<td>Symbol</td>\n",
       "<td class=\"alnright\">LTP</td>\n",
       "<td class=\"alnright\">% Change</td>\n",
       "</tr>\n",
       "</thead>\n",
       "<tbody>\n",
       "<tr> <td colspan=\"4\">As of 2021-09-01 15:00:00</td></tr>\n",
       "<tr class=\"row1\" valign=\"top\">\n",
       "<td data-toggle=\"tooltip\" title=\"\"><b>RURU</b></td>\n",
       "<td class=\"alnright\">1,448.00</td>\n",
       "<td class=\"alnright\">7.55</td>\n",
       "</tr>\n",
       "<tr class=\"row1\" valign=\"top\">\n",
       "<td data-toggle=\"tooltip\" title=\"\"><b>OHL</b></td>\n",
       "<td class=\"alnright\">605.00</td>\n",
       "<td class=\"alnright\">6.14</td>\n",
       "</tr>\n",
       "<tr class=\"row1\" valign=\"top\">\n",
       "<td data-toggle=\"tooltip\" title=\"\"><b>UMHL</b></td>\n",
       "<td class=\"alnright\">562.00</td>\n",
       "<td class=\"alnright\">6.04</td>\n",
       "</tr>\n",
       "<tr class=\"row1\" valign=\"top\">\n",
       "<td data-toggle=\"tooltip\" title=\"\"><b>HURJA</b></td>\n",
       "<td class=\"alnright\">528.00</td>\n",
       "<td class=\"alnright\">6.02</td>\n",
       "</tr>\n",
       "<tr class=\"row1\" valign=\"top\">\n",
       "<td data-toggle=\"tooltip\" title=\"\"><b>SHL</b></td>\n",
       "<td class=\"alnright\">276.90</td>\n",
       "<td class=\"alnright\">5.73</td>\n",
       "</tr>\n",
       "<tr class=\"row1\" valign=\"top\">\n",
       "<td data-toggle=\"tooltip\" title=\"\"><b>LICN</b></td>\n",
       "<td class=\"alnright\">2,295.00</td>\n",
       "<td class=\"alnright\">4.37</td>\n",
       "</tr>\n",
       "<tr class=\"row1\" valign=\"top\">\n",
       "<td data-toggle=\"tooltip\" title=\"\"><b>MKLB</b></td>\n",
       "<td class=\"alnright\">457.30</td>\n",
       "<td class=\"alnright\">4.00</td>\n",
       "</tr>\n",
       "<tr class=\"row1\" valign=\"top\">\n",
       "<td data-toggle=\"tooltip\" title=\"\"><b>KPCL</b></td>\n",
       "<td class=\"alnright\">730.00</td>\n",
       "<td class=\"alnright\">3.99</td>\n",
       "</tr>\n",
       "<tr class=\"row1\" valign=\"top\">\n",
       "<td data-toggle=\"tooltip\" title=\"\"><b>RBCLPO</b></td>\n",
       "<td class=\"alnright\">15,250.00</td>\n",
       "<td class=\"alnright\">3.73</td>\n",
       "</tr>\n",
       "<tr class=\"row1\" valign=\"top\">\n",
       "<td data-toggle=\"tooltip\" title=\"\"><b>NSLB</b></td>\n",
       "<td class=\"alnright\">1,800.00</td>\n",
       "<td class=\"alnright\">3.45</td>\n",
       "</tr>\n",
       "<tr>\n",
       "<td align=\"right\" colspan=\"3\" style=\"padding-top: 5px;\"><a href=\"gainers\">View All</a> </td>\n",
       "</tr>\n",
       "</tbody>\n",
       "</table>"
      ]
     },
     "execution_count": 25,
     "metadata": {},
     "output_type": "execute_result"
    }
   ],
   "source": [
    "soup.find(id=\"top-gainers\") # Get tag by id "
   ]
  },
  {
   "cell_type": "code",
   "execution_count": 32,
   "metadata": {},
   "outputs": [
    {
     "name": "stdout",
     "output_type": "stream",
     "text": [
      "<title>Nepal Stock Exchange Ltd.</title>\n",
      "<head>\n",
      "<meta content=\"text/html; charset=utf-8\" http-equiv=\"Content-Type\"/>\n",
      "<meta content=\"width=device-width, initial-scale=1\" name=\"viewport\"/>\n",
      "<title>Nepal Stock Exchange Ltd.</title>\n",
      "<meta content=\"NEPSE Official Website\" name=\"title\"/>\n",
      "<meta content=\"This is NEPSE Official Website\" http-equiv=\"description\" name=\"description\"/>\n",
      "<meta content=\"This is NEPSE Official Website\" http-equiv=\"keywords\" name=\"keywords\"/>\n",
      "<link href=\"/favicon.ico\" rel=\"shortcut icon\" type=\"image/x-icon\"/>\n",
      "<link href=\"/favicon.ico\" rel=\"icon\" type=\"image/x-icon\"/>\n",
      "<!-- Bootstrap core CSS -->\n",
      "<link href=\"http://www.nepalstock.com/css/reset.css\" rel=\"stylesheet\"/>\n",
      "<link href=\"http://www.nepalstock.com/css/bootstrap.css\" rel=\"stylesheet\"/>\n",
      "<link href=\"http://www.nepalstock.com/js/ui/theme/orange.css\" rel=\"stylesheet\" type=\"text/css\">\n",
      "<!-- Custom styles for this template -->\n",
      "<link href=\"http://www.nepalstock.com/css/style.css\" rel=\"stylesheet\"/>\n",
      "<link href=\"http://fonts.googleapis.com/css?family=Merriweather+Sans:400,800\" rel=\"stylesheet\" type=\"text/css\"/>\n",
      "<!-- Just for debugging purposes. Don't actually copy this line! -->\n",
      "<!--[if lt IE 9]><script src=\"../../docs-assets/js/ie8-responsive-file-warning.js\"></script><![endif]-->\n",
      "<!-- HTML5 shim and Respond.js IE8 support of HTML5 elements and media queries -->\n",
      "<!--[if lt IE 9]>\r\n",
      "          <script src=\"https://oss.maxcdn.com/libs/html5shiv/3.7.0/html5shiv.js\"></script>\r\n",
      "          <script src=\"https://oss.maxcdn.com/libs/respond.js/1.3.0/respond.min.js\"></script>\r\n",
      "        <![endif]-->\n",
      "<script src=\"http://www.nepalstock.com/js/jquery-1.7.1.min.js\" type=\"text/javascript\"></script>\n",
      "<script src=\"http://www.nepalstock.com/js/ui/jquery-ui-1.7.1.min.js\" type=\"text/javascript\"></script>\n",
      "<script charset=\"utf-8\" src=\"http://www.nepalstock.com/js/slides.min.jquery.js\" type=\"text/javascript\"></script>\n",
      "<script charset=\"utf-8\" src=\"http://www.nepalstock.com/js/jquery.innerfade.js\" type=\"text/javascript\"></script>\n",
      "<script src=\"http://www.nepalstock.com/js/ckeditor/ckeditor.js\" type=\"text/javascript\"></script>\n",
      "<script src=\"http://www.nepalstock.com/js/facebox/facebox.js\" type=\"text/javascript\"></script>\n",
      "<script language=\"javascript\" src=\"http://www.nepalstock.com/js/utils.js\" type=\"text/javascript\"></script>\n",
      "<script language=\"javascript\" src=\"http://www.nepalstock.com/js/jquery-marquee.js\" type=\"text/javascript\"></script>\n",
      "<script language=\"javascript\" src=\"http://www.nepalstock.com/js/bootstrap/datepicker/js/bootstrap-datepicker.js\" type=\"text/javascript\"></script>\n",
      "<link href=\"http://www.nepalstock.com/js/bootstrap/datepicker/css/datepicker.css\" rel=\"stylesheet\" type=\"text/css\">\n",
      "<link href=\"http://www.nepalstock.com/js/superfish/css/menu-responsive.css\" rel=\"stylesheet\" type=\"text/css\">\n",
      "<link href=\"http://www.nepalstock.com/js/superfish/css/superfish.css\" rel=\"stylesheet\" type=\"text/css\">\n",
      "<script src=\"http://www.nepalstock.com/js/superfish/js/hoverIntent.js\" type=\"text/javascript\"></script>\n",
      "<script src=\"http://www.nepalstock.com/js/superfish/js/superfish.js\" type=\"text/javascript\"></script>\n",
      "<script src=\"http://www.nepalstock.com/js/jquery.tools.min.js\" type=\"text/javascript\"></script>\n",
      "<link href=\"http://www.nepalstock.com/css/overlay.css\" media=\"all\" rel=\"stylesheet\" type=\"text/css\">\n",
      "</link></link></link></link></link></head>\n",
      "<generator object PageElement.parents at 0x0000017F909F7350>\n"
     ]
    }
   ],
   "source": [
    "title=soup.title\n",
    "print(title)\n",
    "print(title.parent)\n",
    "print(title.parents)"
   ]
  },
  {
   "cell_type": "code",
   "execution_count": 35,
   "metadata": {},
   "outputs": [
    {
     "name": "stdout",
     "output_type": "stream",
     "text": [
      "<table class=\"table table-condensed\"><thead><tr class=\"rowtitle1\"><td>S.N.</td><td>Symbol</td><td class=\"alnright\">LTP</td><td class=\"alnright\">LTV</td><td class=\"alnright\">Point Change</td><td class=\"alnright\">%Change</td><td class=\"alnright\">Open</td><td class=\"alnright\">High</td><td class=\"alnright\">Low</td><td class=\"alnright\">Volume</td><td class=\"alnright\">Previous Closing</td></tr></thead><tbody>  </tbody>\n",
      "</table>\n",
      "<div class=\"col-xs-12 col-md-9 col-sm-9\">\n",
      "<table class=\"table table-condensed\"><thead><tr class=\"rowtitle1\"><td>S.N.</td><td>Symbol</td><td class=\"alnright\">LTP</td><td class=\"alnright\">LTV</td><td class=\"alnright\">Point Change</td><td class=\"alnright\">%Change</td><td class=\"alnright\">Open</td><td class=\"alnright\">High</td><td class=\"alnright\">Low</td><td class=\"alnright\">Volume</td><td class=\"alnright\">Previous Closing</td></tr></thead><tbody>  </tbody>\n",
      "</table> </div>\n",
      "<generator object PageElement.parents at 0x0000017F909EDC10>\n"
     ]
    }
   ],
   "source": [
    "title=soup.table\n",
    "print(title)\n",
    "print(title.parent) # Parent of given tag\n",
    "print(title.parents) # Iterate over all of an elements's parent"
   ]
  },
  {
   "cell_type": "code",
   "execution_count": 37,
   "metadata": {},
   "outputs": [
    {
     "name": "stdout",
     "output_type": "stream",
     "text": [
      "<list_iterator object at 0x0000017F90A0F100>\n",
      "<generator object Tag.descendants at 0x0000017F909ED970>\n"
     ]
    }
   ],
   "source": [
    "title=soup.table\n",
    "#print(title)\n",
    "print(title.children) # Direct Child of given tag\n",
    "print(title.descendants) # Iterate over all tag's children recursively"
   ]
  },
  {
   "cell_type": "code",
   "execution_count": 40,
   "metadata": {},
   "outputs": [
    {
     "name": "stdout",
     "output_type": "stream",
     "text": [
      "1\n",
      "1\n"
     ]
    }
   ],
   "source": [
    "title=soup.table\n",
    "#print(title)\n",
    "print(len(title.next_sibling)) # Navigate between elements that are on the same level of the parse tree \n",
    "print(len(title.previous_sibling))"
   ]
  },
  {
   "cell_type": "code",
   "execution_count": 43,
   "metadata": {},
   "outputs": [
    {
     "name": "stdout",
     "output_type": "stream",
     "text": [
      "<generator object PageElement.next_siblings at 0x0000017F90A03580>\n",
      "<generator object PageElement.previous_siblings at 0x0000017F90A03580>\n"
     ]
    }
   ],
   "source": [
    "title=soup.table\n",
    "#print(title)\n",
    "print(title.next_siblings) # Iterate over tags sibling \n",
    "print(title.previous_siblings)"
   ]
  },
  {
   "cell_type": "code",
   "execution_count": 44,
   "metadata": {},
   "outputs": [
    {
     "name": "stdout",
     "output_type": "stream",
     "text": [
      "<thead><tr class=\"rowtitle1\"><td>S.N.</td><td>Symbol</td><td class=\"alnright\">LTP</td><td class=\"alnright\">LTV</td><td class=\"alnright\">Point Change</td><td class=\"alnright\">%Change</td><td class=\"alnright\">Open</td><td class=\"alnright\">High</td><td class=\"alnright\">Low</td><td class=\"alnright\">Volume</td><td class=\"alnright\">Previous Closing</td></tr></thead>\n",
      "\n",
      "\n"
     ]
    }
   ],
   "source": [
    "title=soup.table\n",
    "#print(title)\n",
    "print(title.next_element)\n",
    "print(title.previous_element)"
   ]
  },
  {
   "cell_type": "code",
   "execution_count": 49,
   "metadata": {},
   "outputs": [
    {
     "data": {
      "text/plain": [
       "[<td class=\"alnright\">233,676,927.60</td>]"
      ]
     },
     "execution_count": 49,
     "metadata": {},
     "output_type": "execute_result"
    }
   ],
   "source": [
    "# Get element by selector\n",
    "# Go get selector, inspect element, Right Click-> Copy-> Copy Selector\n",
    "soup.select('#top-by-turnover > tbody > tr:nth-child(5) > td:nth-child(2)')"
   ]
  },
  {
   "cell_type": "code",
   "execution_count": null,
   "metadata": {},
   "outputs": [],
   "source": []
  }
 ],
 "metadata": {
  "kernelspec": {
   "display_name": "Python 3",
   "language": "python",
   "name": "python3"
  },
  "language_info": {
   "codemirror_mode": {
    "name": "ipython",
    "version": 3
   },
   "file_extension": ".py",
   "mimetype": "text/x-python",
   "name": "python",
   "nbconvert_exporter": "python",
   "pygments_lexer": "ipython3",
   "version": "3.8.5"
  }
 },
 "nbformat": 4,
 "nbformat_minor": 4
}
