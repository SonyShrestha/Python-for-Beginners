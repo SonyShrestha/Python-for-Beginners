{
 "cells": [
  {
   "cell_type": "code",
   "execution_count": 36,
   "metadata": {},
   "outputs": [],
   "source": [
    "################################## Tuple ###########################\n",
    "# ordered, unchangeable, allows duplicate "
   ]
  },
  {
   "cell_type": "code",
   "execution_count": 37,
   "metadata": {},
   "outputs": [
    {
     "name": "stdout",
     "output_type": "stream",
     "text": [
      "('a', 'b', 'c')\n",
      "<class 'tuple'>\n"
     ]
    }
   ],
   "source": [
    "# Create a tuple\n",
    "tuple1=(\"a\",\"b\",\"c\")\n",
    "print(tuple1)\n",
    "print(type(tuple1))"
   ]
  },
  {
   "cell_type": "code",
   "execution_count": 41,
   "metadata": {},
   "outputs": [
    {
     "name": "stdout",
     "output_type": "stream",
     "text": [
      "('a',)\n",
      "<class 'tuple'>\n"
     ]
    },
    {
     "data": {
      "text/plain": [
       "'\\nThis is not tuple\\ntuple1=(\"a\")\\nprint(tuple1)\\nprint(type(tuple1))\\n'"
      ]
     },
     "execution_count": 41,
     "metadata": {},
     "output_type": "execute_result"
    }
   ],
   "source": [
    "# Create a tuple with one element\n",
    "tuple1=(\"a\",)\n",
    "print(tuple1)\n",
    "print(type(tuple1))\n",
    "\n",
    "\"\"\"\n",
    "This is not tuple, Remember comma\n",
    "tuple1=(\"a\")\n",
    "print(tuple1)\n",
    "print(type(tuple1))\n",
    "\"\"\"\n"
   ]
  },
  {
   "cell_type": "code",
   "execution_count": 42,
   "metadata": {},
   "outputs": [
    {
     "data": {
      "text/plain": [
       "('a', 'b', 'c')"
      ]
     },
     "execution_count": 42,
     "metadata": {},
     "output_type": "execute_result"
    }
   ],
   "source": [
    "# Create tuple using tuple constructor\n",
    "tuple2=((\"a\",\"b\",\"c\"))\n",
    "tuple2"
   ]
  },
  {
   "cell_type": "code",
   "execution_count": 44,
   "metadata": {},
   "outputs": [
    {
     "name": "stdout",
     "output_type": "stream",
     "text": [
      "b\n"
     ]
    }
   ],
   "source": [
    "# Access elements of tuple\n",
    "tuple3=(\"a\",\"b\",\"c\",\"d\",\"e\")\n",
    "print(tuple3[1])"
   ]
  },
  {
   "cell_type": "code",
   "execution_count": 50,
   "metadata": {},
   "outputs": [
    {
     "name": "stdout",
     "output_type": "stream",
     "text": [
      "('b', 'c')\n",
      "('a', 'b', 'c')\n",
      "('b', 'c', 'd', 'e')\n",
      "('b', 'd')\n",
      "('c', 'd', 'e')\n"
     ]
    }
   ],
   "source": [
    "# Slicing elements of tuple\n",
    "tuple3=(\"a\",\"b\",\"c\",\"d\",\"e\")\n",
    "print(tuple3[1:3])\n",
    "print(tuple3[:3])\n",
    "print(tuple3[1:])\n",
    "print(tuple3[1::2])\n",
    "print(tuple3[-3:])"
   ]
  },
  {
   "cell_type": "code",
   "execution_count": 52,
   "metadata": {},
   "outputs": [
    {
     "name": "stdout",
     "output_type": "stream",
     "text": [
      "Item does not exist\n"
     ]
    }
   ],
   "source": [
    "# Check of item exists in tuple\n",
    "tuple3=(\"a\",\"b\",\"c\",\"d\",\"e\")\n",
    "if \"ad\" in tuple3:\n",
    "    print(\"Item exists\")\n",
    "else:\n",
    "    print(\"Item does not exist\")"
   ]
  },
  {
   "cell_type": "code",
   "execution_count": 53,
   "metadata": {},
   "outputs": [],
   "source": [
    "# Remove elements of tuple \n",
    "# Tuple is unchangeable. We cannot add, remove, change items of tuple once it is created. But, there is a workaround. We can create list out of tuple, modify list and create tuple out of that list."
   ]
  },
  {
   "cell_type": "code",
   "execution_count": 54,
   "metadata": {},
   "outputs": [
    {
     "data": {
      "text/plain": [
       "'\\nWhen we create a tuple, we normally assign values to it. This is called \"packing\" a tuple:\\nBut, in Python, we are also allowed to extract the values back into variables. This is called \"unpacking\":\\n'"
      ]
     },
     "execution_count": 54,
     "metadata": {},
     "output_type": "execute_result"
    }
   ],
   "source": [
    "####### Unpacking a tuple\n",
    "\"\"\"\n",
    "When we create a tuple, we normally assign values to it. This is called \"packing\" a tuple:\n",
    "But, in Python, we are also allowed to extract the values back into variables. This is called \"unpacking\":\n",
    "\"\"\""
   ]
  },
  {
   "cell_type": "code",
   "execution_count": 57,
   "metadata": {},
   "outputs": [
    {
     "name": "stdout",
     "output_type": "stream",
     "text": [
      "apple\n",
      "banana\n",
      "orange\n"
     ]
    }
   ],
   "source": [
    "fruits=(\"apple\",\"banana\",\"orange\")\n",
    "(apple,banana,orange)=fruits\n",
    "print(apple)\n",
    "print(banana)\n",
    "print(orange)"
   ]
  },
  {
   "cell_type": "code",
   "execution_count": 58,
   "metadata": {},
   "outputs": [
    {
     "name": "stdout",
     "output_type": "stream",
     "text": [
      "apple\n",
      "banana\n",
      "['orange', 'strawberry', 'lichi']\n"
     ]
    }
   ],
   "source": [
    "# Number of variables must match number of values in tuple, if not, use an asterisk to collect the remaining values as a list.\n",
    "fruits=(\"apple\",\"banana\",\"orange\",\"strawberry\",\"lichi\")\n",
    "(apple,banana,*fruit)=fruits\n",
    "print(apple)\n",
    "print(banana)\n",
    "print(fruit)"
   ]
  },
  {
   "cell_type": "code",
   "execution_count": 59,
   "metadata": {},
   "outputs": [
    {
     "name": "stdout",
     "output_type": "stream",
     "text": [
      "apple\n",
      "banana\n",
      "orange\n"
     ]
    }
   ],
   "source": [
    "######## Looping through tuple\n",
    "fruits=(\"apple\",\"banana\",\"orange\")\n",
    "for i in range(len(fruits)):\n",
    "    print(fruits[i])"
   ]
  },
  {
   "cell_type": "code",
   "execution_count": 63,
   "metadata": {},
   "outputs": [
    {
     "name": "stdout",
     "output_type": "stream",
     "text": [
      "2\n",
      "1\n",
      "1\n",
      "0\n"
     ]
    }
   ],
   "source": [
    "###### Tuple Methods: count: Returns the number of times a specified value occurs in a tuple\n",
    "tuple1=(\"a\",\"b\",\"c\",\"a\")\n",
    "print(tuple1.count(\"a\"))\n",
    "print(tuple1.count(\"b\"))\n",
    "print(tuple1.count(\"c\"))\n",
    "print(tuple1.count(\"d\"))"
   ]
  },
  {
   "cell_type": "code",
   "execution_count": 65,
   "metadata": {},
   "outputs": [
    {
     "name": "stdout",
     "output_type": "stream",
     "text": [
      "0\n",
      "1\n",
      "2\n"
     ]
    }
   ],
   "source": [
    "###### Tuple Methods: index: Searches the tuple for a specified value and returns the position of where it was found\n",
    "tuple1=(\"a\",\"b\",\"c\",\"a\")\n",
    "print(tuple1.index(\"a\"))\n",
    "print(tuple1.index(\"b\"))\n",
    "print(tuple1.index(\"c\"))"
   ]
  },
  {
   "cell_type": "code",
   "execution_count": null,
   "metadata": {},
   "outputs": [],
   "source": []
  }
 ],
 "metadata": {
  "kernelspec": {
   "display_name": "Python 3",
   "language": "python",
   "name": "python3"
  },
  "language_info": {
   "codemirror_mode": {
    "name": "ipython",
    "version": 3
   },
   "file_extension": ".py",
   "mimetype": "text/x-python",
   "name": "python",
   "nbconvert_exporter": "python",
   "pygments_lexer": "ipython3",
   "version": "3.8.5"
  }
 },
 "nbformat": 4,
 "nbformat_minor": 4
}
