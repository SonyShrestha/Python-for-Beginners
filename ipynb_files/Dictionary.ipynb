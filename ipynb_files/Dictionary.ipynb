{
 "cells": [
  {
   "cell_type": "code",
   "execution_count": 106,
   "metadata": {},
   "outputs": [],
   "source": [
    "################################# Dictionary #######################################\n",
    "# A dictionary is a collection which is ordered*, changeable and does not allow duplicates."
   ]
  },
  {
   "cell_type": "code",
   "execution_count": 109,
   "metadata": {},
   "outputs": [],
   "source": [
    "####### Creating a dictionary\n",
    "dict1={\n",
    "    \"roll_num\":1,\n",
    "    \"first_name\":\"Sony\",\n",
    "    \"last_name\":\"Shrestha\",\n",
    "    \"age\":24\n",
    "}"
   ]
  },
  {
   "cell_type": "code",
   "execution_count": 110,
   "metadata": {},
   "outputs": [
    {
     "data": {
      "text/plain": [
       "'Shrestha'"
      ]
     },
     "execution_count": 110,
     "metadata": {},
     "output_type": "execute_result"
    }
   ],
   "source": [
    "###### Access elements of dictionary\n",
    "dict1[\"last_name\"]"
   ]
  },
  {
   "cell_type": "code",
   "execution_count": 5,
   "metadata": {},
   "outputs": [
    {
     "data": {
      "text/plain": [
       "'Shrestha'"
      ]
     },
     "execution_count": 5,
     "metadata": {},
     "output_type": "execute_result"
    }
   ],
   "source": [
    "###### Access elements of dictionary using get method\n",
    "dict1.get(\"last_name\")"
   ]
  },
  {
   "cell_type": "code",
   "execution_count": 9,
   "metadata": {},
   "outputs": [
    {
     "data": {
      "text/plain": [
       "'not available'"
      ]
     },
     "execution_count": 9,
     "metadata": {},
     "output_type": "execute_result"
    }
   ],
   "source": [
    "###### Access elements of dictionary using get method\n",
    "dict1.get(\"ll\",\"not available\") # Return value if key exists else return 'not available'"
   ]
  },
  {
   "cell_type": "code",
   "execution_count": 116,
   "metadata": {},
   "outputs": [
    {
     "name": "stdout",
     "output_type": "stream",
     "text": [
      "dict_keys(['roll_num', 'first_name', 'last_name', 'age'])\n",
      "dict_values([1, 'Sony', 'Shrestha', 24])\n",
      "dict_items([('roll_num', 1), ('first_name', 'Sony'), ('last_name', 'Shrestha'), ('age', 24)])\n"
     ]
    }
   ],
   "source": [
    "###### Access keys, values of dictionary\n",
    "print(dict1.keys())\n",
    "print(dict1.values())\n",
    "print(dict1.items())"
   ]
  },
  {
   "cell_type": "code",
   "execution_count": 118,
   "metadata": {},
   "outputs": [
    {
     "name": "stdout",
     "output_type": "stream",
     "text": [
      "key does not exist\n"
     ]
    }
   ],
   "source": [
    "######### Check if key exists in dictionary\n",
    "if \"last_name1\" in dict1:\n",
    "    print(\"key exists\")\n",
    "else:\n",
    "    print(\"key does not exist\")"
   ]
  },
  {
   "cell_type": "code",
   "execution_count": 121,
   "metadata": {},
   "outputs": [
    {
     "name": "stdout",
     "output_type": "stream",
     "text": [
      "{'roll_num': 1, 'first_name': 'Sony', 'last_name': 'Shrestha', 'age': 24}\n",
      "{'roll_num': 1, 'first_name': 'Pragya', 'last_name': 'Shrestha', 'age': 24}\n",
      "{'roll_num': 1, 'first_name': 'Sony', 'last_name': 'Shrestha', 'age': 25}\n"
     ]
    }
   ],
   "source": [
    "####### Changing values of a dictionary\n",
    "dict1={\n",
    "    \"roll_num\":1,\n",
    "    \"first_name\":\"Sony\",\n",
    "    \"last_name\":\"Shrestha\",\n",
    "    \"age\":24\n",
    "}\n",
    "print(dict1)\n",
    "dict1[\"first_name\"]=\"Pragya\"\n",
    "print(dict1)\n",
    "dict1.update({\"age\":25,\"first_name\":\"Sony\"})\n",
    "print(dict1)"
   ]
  },
  {
   "cell_type": "code",
   "execution_count": 122,
   "metadata": {},
   "outputs": [
    {
     "name": "stdout",
     "output_type": "stream",
     "text": [
      "{'roll_num': 1, 'first_name': 'Sony', 'last_name': 'Shrestha', 'age': 24}\n",
      "{'roll_num': 1, 'first_name': 'Sony', 'last_name': 'Shrestha', 'age': 24, 'marital_status': 'Unmarried'}\n",
      "{'roll_num': 1, 'first_name': 'Sony', 'last_name': 'Shrestha', 'age': 24, 'marital_status': 'Unmarried'}\n"
     ]
    }
   ],
   "source": [
    "####### Add items in a dictionary\n",
    "dict1={\n",
    "    \"roll_num\":1,\n",
    "    \"first_name\":\"Sony\",\n",
    "    \"last_name\":\"Shrestha\",\n",
    "    \"age\":24\n",
    "}\n",
    "print(dict1)\n",
    "dict1[\"marital_status\"]=\"Unmarried\"\n",
    "print(dict1)\n",
    "dict1.update({\"marital_status\":\"Unmarried\"})\n",
    "print(dict1)"
   ]
  },
  {
   "cell_type": "code",
   "execution_count": 124,
   "metadata": {},
   "outputs": [
    {
     "name": "stdout",
     "output_type": "stream",
     "text": [
      "{'roll_num': 1, 'first_name': 'Sony', 'last_name': 'Shrestha', 'age': 24}\n",
      "{'roll_num': 1, 'first_name': 'Sony', 'last_name': 'Shrestha'}\n"
     ]
    }
   ],
   "source": [
    "####### Remove items in a dictionary: pop: delete values with specific key\n",
    "dict1={\n",
    "    \"roll_num\":1,\n",
    "    \"first_name\":\"Sony\",\n",
    "    \"last_name\":\"Shrestha\",\n",
    "    \"age\":24\n",
    "}\n",
    "print(dict1)\n",
    "dict1.pop(\"age\")\n",
    "print(dict1)\n"
   ]
  },
  {
   "cell_type": "code",
   "execution_count": 127,
   "metadata": {},
   "outputs": [
    {
     "name": "stdout",
     "output_type": "stream",
     "text": [
      "{'roll_num': 1, 'first_name': 'Sony', 'age': 24, 'last_name': 'Shrestha'}\n",
      "{'roll_num': 1, 'first_name': 'Sony', 'age': 24}\n"
     ]
    }
   ],
   "source": [
    "####### Remove items in a dictionary: popitem: delete last inserted item\n",
    "dict1={\n",
    "    \"roll_num\":1,\n",
    "    \"first_name\":\"Sony\",\n",
    "    \"age\":24,\n",
    "    \"last_name\":\"Shrestha\"\n",
    "}\n",
    "print(dict1)\n",
    "dict1.popitem()\n",
    "print(dict1)\n"
   ]
  },
  {
   "cell_type": "code",
   "execution_count": 128,
   "metadata": {},
   "outputs": [
    {
     "name": "stdout",
     "output_type": "stream",
     "text": [
      "{'roll_num': 1, 'first_name': 'Sony', 'age': 24, 'last_name': 'Shrestha'}\n",
      "{}\n"
     ]
    }
   ],
   "source": [
    "####### Remove items in a dictionary: clear\n",
    "dict1={\n",
    "    \"roll_num\":1,\n",
    "    \"first_name\":\"Sony\",\n",
    "    \"age\":24,\n",
    "    \"last_name\":\"Shrestha\"\n",
    "}\n",
    "print(dict1)\n",
    "dict1.clear()\n",
    "print(dict1)\n"
   ]
  },
  {
   "cell_type": "code",
   "execution_count": 129,
   "metadata": {},
   "outputs": [
    {
     "name": "stdout",
     "output_type": "stream",
     "text": [
      "{'roll_num': 1, 'first_name': 'Sony', 'age': 24, 'last_name': 'Shrestha'}\n",
      "{'roll_num': 1, 'first_name': 'Sony', 'last_name': 'Shrestha'}\n"
     ]
    }
   ],
   "source": [
    "####### Remove items in a dictionary: del\n",
    "dict1={\n",
    "    \"roll_num\":1,\n",
    "    \"first_name\":\"Sony\",\n",
    "    \"age\":24,\n",
    "    \"last_name\":\"Shrestha\"\n",
    "}\n",
    "print(dict1)\n",
    "del dict1[\"age\"]\n",
    "print(dict1)\n"
   ]
  },
  {
   "cell_type": "code",
   "execution_count": 130,
   "metadata": {},
   "outputs": [
    {
     "name": "stdout",
     "output_type": "stream",
     "text": [
      "{'roll_num': 1, 'first_name': 'Sony', 'age': 24, 'last_name': 'Shrestha'}\n"
     ]
    },
    {
     "ename": "NameError",
     "evalue": "name 'dict1' is not defined",
     "output_type": "error",
     "traceback": [
      "\u001b[1;31m---------------------------------------------------------------------------\u001b[0m",
      "\u001b[1;31mNameError\u001b[0m                                 Traceback (most recent call last)",
      "\u001b[1;32m<ipython-input-130-625ff3993661>\u001b[0m in \u001b[0;36m<module>\u001b[1;34m\u001b[0m\n\u001b[0;32m      8\u001b[0m \u001b[0mprint\u001b[0m\u001b[1;33m(\u001b[0m\u001b[0mdict1\u001b[0m\u001b[1;33m)\u001b[0m\u001b[1;33m\u001b[0m\u001b[1;33m\u001b[0m\u001b[0m\n\u001b[0;32m      9\u001b[0m \u001b[1;32mdel\u001b[0m \u001b[0mdict1\u001b[0m\u001b[1;33m\u001b[0m\u001b[1;33m\u001b[0m\u001b[0m\n\u001b[1;32m---> 10\u001b[1;33m \u001b[0mprint\u001b[0m\u001b[1;33m(\u001b[0m\u001b[0mdict1\u001b[0m\u001b[1;33m)\u001b[0m\u001b[1;33m\u001b[0m\u001b[1;33m\u001b[0m\u001b[0m\n\u001b[0m",
      "\u001b[1;31mNameError\u001b[0m: name 'dict1' is not defined"
     ]
    }
   ],
   "source": [
    "####### Remove items in a dictionary: del\n",
    "dict1={\n",
    "    \"roll_num\":1,\n",
    "    \"first_name\":\"Sony\",\n",
    "    \"age\":24,\n",
    "    \"last_name\":\"Shrestha\"\n",
    "}\n",
    "print(dict1)\n",
    "del dict1\n",
    "print(dict1)\n"
   ]
  },
  {
   "cell_type": "code",
   "execution_count": 133,
   "metadata": {},
   "outputs": [
    {
     "name": "stdout",
     "output_type": "stream",
     "text": [
      "roll_num\n",
      "first_name\n",
      "age\n",
      "last_name\n",
      "\n",
      "1\n",
      "Sony\n",
      "24\n",
      "Shrestha\n"
     ]
    }
   ],
   "source": [
    "######## Access elements in a dictionary\n",
    "dict1={\n",
    "    \"roll_num\":1,\n",
    "    \"first_name\":\"Sony\",\n",
    "    \"age\":24,\n",
    "    \"last_name\":\"Shrestha\"\n",
    "}\n",
    "# Iterate through key\n",
    "for i in dict1:\n",
    "    print(i)\n",
    "print()\n",
    "#Iterate through value\n",
    "for i in dict1:\n",
    "    print(dict1[i])"
   ]
  },
  {
   "cell_type": "code",
   "execution_count": 138,
   "metadata": {},
   "outputs": [
    {
     "name": "stdout",
     "output_type": "stream",
     "text": [
      "roll_num\n",
      "first_name\n",
      "age\n",
      "last_name\n",
      "\n",
      "1\n",
      "Sony\n",
      "24\n",
      "Shrestha\n",
      "\n",
      "roll_num 1\n",
      "first_name Sony\n",
      "age 24\n",
      "last_name Shrestha\n"
     ]
    }
   ],
   "source": [
    "######## Access elements in a dictionary\n",
    "dict1={\n",
    "    \"roll_num\":1,\n",
    "    \"first_name\":\"Sony\",\n",
    "    \"age\":24,\n",
    "    \"last_name\":\"Shrestha\"\n",
    "}\n",
    "# Iterate through key\n",
    "for i in dict1.keys():\n",
    "    print(i)\n",
    "print()\n",
    "#Iterate through value\n",
    "for i in dict1.values():\n",
    "    print(i)\n",
    "print()\n",
    "#Iterate through items()\n",
    "for i,j in dict1.items():\n",
    "    print(i,j)"
   ]
  },
  {
   "cell_type": "code",
   "execution_count": 10,
   "metadata": {},
   "outputs": [
    {
     "name": "stdout",
     "output_type": "stream",
     "text": [
      "{'roll_num': 1, 'first_name': 'Sony', 'age': 24, 'last_name': 'Shrestha'}\n"
     ]
    }
   ],
   "source": [
    "######## Copy dictionary\n",
    "dict1={\n",
    "    \"roll_num\":1,\n",
    "    \"first_name\":\"Sony\",\n",
    "    \"age\":24,\n",
    "    \"last_name\":\"Shrestha\"\n",
    "}\n",
    "dict2=dict1.copy()\n",
    "print(dict2)"
   ]
  },
  {
   "cell_type": "code",
   "execution_count": 22,
   "metadata": {},
   "outputs": [
    {
     "name": "stdout",
     "output_type": "stream",
     "text": [
      "{'roll_num': 1, 'first_name': 'Sony', 'last_name': 'Shrestha', 'age': 24, 'marital_status': 'Married'}\n",
      "{'roll_num': 1, 'first_name': 'Sony', 'last_name': 'Shrestha', 'age': 24, 'marital_status': 'Unmarried'}\n"
     ]
    }
   ],
   "source": [
    "######## setdefault() value of a dictionary\n",
    "# The setdefault() method returns value of item with specified key. If key does not exist, insert key, with specified value\n",
    "dict1={\n",
    "    \"roll_num\":1,\n",
    "    \"first_name\":\"Sony\",\n",
    "    \"last_name\":\"Shrestha\",\n",
    "    \"age\":24,\n",
    "    \"marital_status\":\"Married\"\n",
    "}\n",
    "dict1.setdefault('marital_status','Unmarried')\n",
    "print(dict1)\n",
    "\n",
    "\n",
    "dict1={\n",
    "    \"roll_num\":1,\n",
    "    \"first_name\":\"Sony\",\n",
    "    \"last_name\":\"Shrestha\",\n",
    "    \"age\":24\n",
    "}\n",
    "dict1.setdefault('marital_status','Unmarried')\n",
    "print(dict1)"
   ]
  },
  {
   "cell_type": "code",
   "execution_count": 1,
   "metadata": {},
   "outputs": [
    {
     "name": "stdout",
     "output_type": "stream",
     "text": [
      "{'student1': {'roll_num': 1, 'first_name': 'Sony', 'age': 24, 'last_name': 'Shrestha'}, 'student2': {'roll_num': 2, 'first_name': 'Pragya', 'age': 26, 'last_name': 'Shrestha'}, 'student3': {'roll_num': 3, 'first_name': 'Pragya', 'age': 20, 'last_name': 'Shrestha'}}\n"
     ]
    }
   ],
   "source": [
    "######## Nested Dictionary: Dictionary that contains dictionary\n",
    "dict1={\n",
    "    \"student1\":{\n",
    "        \"roll_num\":1,\n",
    "        \"first_name\":\"Sony\",\n",
    "        \"age\":24,\n",
    "        \"last_name\":\"Shrestha\"\n",
    "    },\n",
    "    \"student2\":{\n",
    "        \"roll_num\":2,\n",
    "        \"first_name\":\"Pragya\",\n",
    "        \"age\":26,\n",
    "        \"last_name\":\"Shrestha\"\n",
    "    },\n",
    "    \"student3\":{\n",
    "        \"roll_num\":3,\n",
    "        \"first_name\":\"Pragya\",\n",
    "        \"age\":20,\n",
    "        \"last_name\":\"Shrestha\"\n",
    "    }\n",
    "}\n",
    "print(dict1)"
   ]
  },
  {
   "cell_type": "code",
   "execution_count": 4,
   "metadata": {},
   "outputs": [
    {
     "name": "stdout",
     "output_type": "stream",
     "text": [
      "True\n"
     ]
    }
   ],
   "source": [
    "######## Nested Dictionary: Dictionary that contains dictionary\n",
    "dict1={\n",
    "    \"roll_num\":1,\n",
    "    \"first_name\":\"Sony\",\n",
    "    \"age\":24,\n",
    "    \"last_name\":\"Shrestha\"\n",
    "}\n",
    "dict2={\n",
    "    \"roll_num\":1,\n",
    "    \"first_name\":\"Sony\",\n",
    "    \"last_name\":\"Shrestha\",\n",
    "    \"age\":24\n",
    "}\n",
    "print(dict1==dict2)"
   ]
  },
  {
   "cell_type": "code",
   "execution_count": 29,
   "metadata": {},
   "outputs": [
    {
     "name": "stdout",
     "output_type": "stream",
     "text": [
      "{'h': 3, 'e': 2, 'l': 2, 'o': 2, ' ': 4, 'i': 1, 'a': 2, 'm': 1, 's': 3, 'n': 1, 'y': 1, 'r': 1, 't': 1}\n"
     ]
    }
   ],
   "source": [
    "######## Iterate through string and print number of occurrences of each character\n",
    "my_string=\"Hello I am Sony Shrestha\"\n",
    "dict_char={}\n",
    "for character in my_string.lower():\n",
    "    dict_char.setdefault(character,0)\n",
    "    dict_char[character]=dict_char[character]+1\n",
    "print(dict_char)"
   ]
  },
  {
   "cell_type": "code",
   "execution_count": 31,
   "metadata": {},
   "outputs": [
    {
     "name": "stdout",
     "output_type": "stream",
     "text": [
      "{' ': 4,\n",
      " 'a': 2,\n",
      " 'e': 2,\n",
      " 'h': 3,\n",
      " 'i': 1,\n",
      " 'l': 2,\n",
      " 'm': 1,\n",
      " 'n': 1,\n",
      " 'o': 2,\n",
      " 'r': 1,\n",
      " 's': 3,\n",
      " 't': 1,\n",
      " 'y': 1}\n"
     ]
    }
   ],
   "source": [
    "import pprint # pretty print: prints dictionary values cleanly\n",
    "pprint.pprint(dict_char)"
   ]
  },
  {
   "cell_type": "code",
   "execution_count": 33,
   "metadata": {},
   "outputs": [
    {
     "name": "stdout",
     "output_type": "stream",
     "text": [
      "{' ': 4,\n",
      " 'a': 2,\n",
      " 'e': 2,\n",
      " 'h': 3,\n",
      " 'i': 1,\n",
      " 'l': 2,\n",
      " 'm': 1,\n",
      " 'n': 1,\n",
      " 'o': 2,\n",
      " 'r': 1,\n",
      " 's': 3,\n",
      " 't': 1,\n",
      " 'y': 1}\n"
     ]
    }
   ],
   "source": [
    "import pprint # pretty print returns string value of above output\n",
    "x=pprint.pformat(dict_char)\n",
    "print(x)"
   ]
  }
 ],
 "metadata": {
  "kernelspec": {
   "display_name": "Python 3",
   "language": "python",
   "name": "python3"
  },
  "language_info": {
   "codemirror_mode": {
    "name": "ipython",
    "version": 3
   },
   "file_extension": ".py",
   "mimetype": "text/x-python",
   "name": "python",
   "nbconvert_exporter": "python",
   "pygments_lexer": "ipython3",
   "version": "3.8.5"
  }
 },
 "nbformat": 4,
 "nbformat_minor": 4
}
