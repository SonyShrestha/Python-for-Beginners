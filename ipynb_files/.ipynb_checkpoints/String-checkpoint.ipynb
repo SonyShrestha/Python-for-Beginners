{
 "cells": [
  {
   "cell_type": "code",
   "execution_count": 143,
   "metadata": {},
   "outputs": [],
   "source": [
    "################################ Strings"
   ]
  },
  {
   "cell_type": "code",
   "execution_count": 144,
   "metadata": {},
   "outputs": [],
   "source": [
    "greeting=\"Hello, Hi, Namaste\"\n",
    "print(greeting)"
   ]
  },
  {
   "cell_type": "code",
   "execution_count": 146,
   "metadata": {},
   "outputs": [
    {
     "name": "stdout",
     "output_type": "stream",
     "text": [
      "Hello, Hi,\n",
      "Namaste\n"
     ]
    }
   ],
   "source": [
    "greeting=\"Hello, Hi,\\nNamaste\"\n",
    "print(greeting)"
   ]
  },
  {
   "cell_type": "code",
   "execution_count": 150,
   "metadata": {},
   "outputs": [
    {
     "name": "stdout",
     "output_type": "stream",
     "text": [
      "Hello, Hi,\\\"nNamaste\n"
     ]
    }
   ],
   "source": [
    "########## Raw string\n",
    "greeting=r\"Hello, Hi,\\nNamaste\"  # raw string helps us in treating backslash as a normal character\n",
    "print(greeting)"
   ]
  },
  {
   "cell_type": "code",
   "execution_count": 151,
   "metadata": {},
   "outputs": [
    {
     "name": "stdout",
     "output_type": "stream",
     "text": [
      "\n",
      "Hello\n",
      "Hi \n",
      "Namaste\n"
     ]
    }
   ],
   "source": [
    "########## Multiline character\n",
    "greeting=\"\"\"\n",
    "Hello\n",
    "Hi \n",
    "Namaste\"\"\"\n",
    "print(greeting)"
   ]
  },
  {
   "cell_type": "code",
   "execution_count": 155,
   "metadata": {},
   "outputs": [
    {
     "name": "stdout",
     "output_type": "stream",
     "text": [
      "l\n",
      ", Hi, Namaste\n",
      "Hello\n",
      "Hlo i aat\n"
     ]
    }
   ],
   "source": [
    "########## Indexing and Slicing\n",
    "greeting=\"Hello, Hi, Namaste\"\n",
    "print(greeting[2])\n",
    "print(greeting[5:])\n",
    "print(greeting[:5])\n",
    "print(greeting[::2])"
   ]
  },
  {
   "cell_type": "code",
   "execution_count": 156,
   "metadata": {},
   "outputs": [
    {
     "data": {
      "text/plain": [
       "True"
      ]
     },
     "execution_count": 156,
     "metadata": {},
     "output_type": "execute_result"
    }
   ],
   "source": [
    "######## Check existence of character in string\n",
    "\"i\" in greeting"
   ]
  },
  {
   "cell_type": "code",
   "execution_count": 160,
   "metadata": {},
   "outputs": [
    {
     "name": "stdout",
     "output_type": "stream",
     "text": [
      "HELLO, HI, NAMASTE\n",
      "hello, hi, namaste\n",
      "False\n",
      "False\n"
     ]
    }
   ],
   "source": [
    "######### String Methods: upper, lower\n",
    "greeting=\"Hello, Hi, Namaste\"\n",
    "print(greeting.upper())\n",
    "print(greeting.lower())"
   ]
  },
  {
   "cell_type": "code",
   "execution_count": 1,
   "metadata": {},
   "outputs": [
    {
     "name": "stdout",
     "output_type": "stream",
     "text": [
      "False\n",
      "False\n",
      "False\n",
      "False\n",
      "False\n",
      "False\n",
      "True\n"
     ]
    }
   ],
   "source": [
    "######### String Methods: upper, lower, isupper, islower\n",
    "greeting=\"Hello Hi Namaste\"\n",
    "print(greeting.isupper()) # letters in upper case only\n",
    "print(greeting.islower()) # letters in lower case only\n",
    "print(greeting.isalpha()) # letters only\n",
    "print(greeting.isalnum()) # letters and numbers only\n",
    "print(greeting.isdecimal()) # numbers only\n",
    "print(greeting.isspace()) # space only\n",
    "print(greeting.istitle()) # Title case"
   ]
  },
  {
   "cell_type": "code",
   "execution_count": 2,
   "metadata": {},
   "outputs": [
    {
     "name": "stdout",
     "output_type": "stream",
     "text": [
      "Hello, Hi, Namaste\n"
     ]
    }
   ],
   "source": [
    "######### String Methods: strip: remove white spaces from beginning and end of string\n",
    "greeting=\"       Hello, Hi, Namaste      \"\n",
    "print(greeting.strip())"
   ]
  },
  {
   "cell_type": "code",
   "execution_count": 174,
   "metadata": {},
   "outputs": [
    {
     "name": "stdout",
     "output_type": "stream",
     "text": [
      "True\n",
      "False\n"
     ]
    }
   ],
   "source": [
    "######### String Methods: startswith, endswith --> case sensitive\n",
    "greeting=\"Hello Hi Namaste\"\n",
    "print(greeting.startswith(\"H\")) # check if string starts with given character\n",
    "print(greeting.endswith(\"E\")) # check if string ends with given character"
   ]
  },
  {
   "cell_type": "code",
   "execution_count": 198,
   "metadata": {},
   "outputs": [
    {
     "data": {
      "text/plain": [
       "'hi;hello;namaste;h'"
      ]
     },
     "execution_count": 198,
     "metadata": {},
     "output_type": "execute_result"
    }
   ],
   "source": [
    "######### String Methods: join\n",
    "\";\".join([\"hi\",\"hello\",\"namaste\",\"h\"]) # returns string that combines the strings in a list"
   ]
  },
  {
   "cell_type": "code",
   "execution_count": 182,
   "metadata": {},
   "outputs": [
    {
     "name": "stdout",
     "output_type": "stream",
     "text": [
      "['Hello', 'Hi', 'Namaste']\n",
      "['Sony, ', 'ello ', 'i Namaste']\n"
     ]
    }
   ],
   "source": [
    "######### String Methods: split\n",
    "greeting=\"Hello Hi Namaste\"\n",
    "print(greeting.split())\n",
    "greeting=\"Sony, Hello Hi Namaste\"\n",
    "print(greeting.split(\"H\"))"
   ]
  },
  {
   "cell_type": "code",
   "execution_count": 190,
   "metadata": {},
   "outputs": [
    {
     "name": "stdout",
     "output_type": "stream",
     "text": [
      "hi        \n",
      "        hi\n",
      "    hi    \n",
      "hi--------\n",
      "--------hi\n",
      "----hi----\n"
     ]
    }
   ],
   "source": [
    "######### String Methods: ljust, rjust\n",
    "print(\"hi\".ljust(10))\n",
    "print(\"hi\".rjust(10))\n",
    "print(\"hi\".center(10))\n",
    "print(\"hi\".ljust(10,\"-\"))\n",
    "print(\"hi\".rjust(10,\"-\"))\n",
    "print(\"hi\".center(10,\"-\"))"
   ]
  },
  {
   "cell_type": "code",
   "execution_count": 193,
   "metadata": {},
   "outputs": [
    {
     "name": "stdout",
     "output_type": "stream",
     "text": [
      "hihellohi   \n",
      "    hihellohi\n",
      "hihellohi\n",
      "ellohi\n",
      "hihello\n",
      "ello\n"
     ]
    }
   ],
   "source": [
    "######### String Methods: lstrip, rstrip, strip\n",
    "print(\"    hihellohi   \".lstrip())\n",
    "print(\"    hihellohi   \".rstrip())\n",
    "print(\"    hihellohi   \".strip())\n",
    "\n",
    "print(\"hihellohi\".lstrip(\"hi\"))\n",
    "print(\"hihellohi\".rstrip(\"hi\"))\n",
    "print(\"hihellohi\".strip(\"hi\"))"
   ]
  },
  {
   "cell_type": "code",
   "execution_count": 194,
   "metadata": {},
   "outputs": [
    {
     "name": "stdout",
     "output_type": "stream",
     "text": [
      "HellohelloHello\n"
     ]
    }
   ],
   "source": [
    "######### String Methods: replace\n",
    "print(\"hihellohi\".replace(\"hi\",\"Hello\"))"
   ]
  },
  {
   "cell_type": "code",
   "execution_count": 199,
   "metadata": {},
   "outputs": [
    {
     "data": {
      "text/plain": [
       "'Sony'"
      ]
     },
     "execution_count": 199,
     "metadata": {},
     "output_type": "execute_result"
    }
   ],
   "source": [
    "######### pyperclip\n",
    "import pyperclip\n",
    "pyperclip.copy(\"Sony\")\n",
    "pyperclip.paste()"
   ]
  },
  {
   "cell_type": "code",
   "execution_count": 202,
   "metadata": {},
   "outputs": [
    {
     "name": "stdout",
     "output_type": "stream",
     "text": [
      "hello my name is SonyShrestha. I am 24 years old.\n"
     ]
    }
   ],
   "source": [
    "######## String formatting: It is the process of inserting a custom string or variable in predefined text.\n",
    "first_name=\"Sony\"\n",
    "last_name=\"Shrestha\"\n",
    "age=24\n",
    "text=f\"hello my name is {first_name}{last_name}. I am {age} years old.\"\n",
    "print(text)"
   ]
  },
  {
   "cell_type": "code",
   "execution_count": 205,
   "metadata": {},
   "outputs": [
    {
     "name": "stdout",
     "output_type": "stream",
     "text": [
      "hello my name is SonyShrestha. I am 24 years old.\n"
     ]
    }
   ],
   "source": [
    "######## format method: formats the specified value(s) and insert them inside the string's placeholder.\n",
    "first_name=\"Sony\"\n",
    "last_name=\"Shrestha\"\n",
    "age=24\n",
    "text=\"hello my name is {first_name1}{last_name1}. I am {age1} years old.\".format(first_name1=first_name,last_name1=last_name,age1=age)\n",
    "print(text)"
   ]
  },
  {
   "cell_type": "code",
   "execution_count": 206,
   "metadata": {},
   "outputs": [
    {
     "name": "stdout",
     "output_type": "stream",
     "text": [
      "hello my name is SonyShrestha. I am 24 years old.\n"
     ]
    }
   ],
   "source": [
    "######## format method: formats the specified value(s) and insert them inside the string's placeholder.\n",
    "first_name=\"Sony\"\n",
    "last_name=\"Shrestha\"\n",
    "age=24\n",
    "text=\"hello my name is {}{}. I am {} years old.\".format(first_name,last_name,age)\n",
    "print(text)"
   ]
  },
  {
   "cell_type": "code",
   "execution_count": 3,
   "metadata": {},
   "outputs": [
    {
     "name": "stdout",
     "output_type": "stream",
     "text": [
      "hello my name is SonySony. I am 24 years old.\n"
     ]
    }
   ],
   "source": [
    "######## format method: formats the specified value(s) and insert them inside the string's placeholder.\n",
    "first_name=\"Sony\"\n",
    "last_name=\"Shrestha\"\n",
    "age=24\n",
    "text=\"hello my name is {0}{0}. I am {1} years old.\".format(first_name,age)\n",
    "print(text)"
   ]
  }
 ],
 "metadata": {
  "kernelspec": {
   "display_name": "Python 3",
   "language": "python",
   "name": "python3"
  },
  "language_info": {
   "codemirror_mode": {
    "name": "ipython",
    "version": 3
   },
   "file_extension": ".py",
   "mimetype": "text/x-python",
   "name": "python",
   "nbconvert_exporter": "python",
   "pygments_lexer": "ipython3",
   "version": "3.8.5"
  }
 },
 "nbformat": 4,
 "nbformat_minor": 4
}
