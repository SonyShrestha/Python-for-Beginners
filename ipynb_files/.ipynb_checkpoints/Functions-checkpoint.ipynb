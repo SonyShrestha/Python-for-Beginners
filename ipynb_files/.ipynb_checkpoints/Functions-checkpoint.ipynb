{
 "cells": [
  {
   "cell_type": "code",
   "execution_count": 13,
   "metadata": {},
   "outputs": [],
   "source": [
    "########################################### FUNCTIONS ##################################"
   ]
  },
  {
   "cell_type": "code",
   "execution_count": 14,
   "metadata": {},
   "outputs": [],
   "source": [
    "# Built-in function-> print(), len(), input()"
   ]
  },
  {
   "cell_type": "code",
   "execution_count": 16,
   "metadata": {},
   "outputs": [
    {
     "data": {
      "text/plain": [
       "10"
      ]
     },
     "execution_count": 16,
     "metadata": {},
     "output_type": "execute_result"
    }
   ],
   "source": [
    "# We can import module and use many functions\n",
    "import random\n",
    "random.randint(1,10)"
   ]
  },
  {
   "cell_type": "code",
   "execution_count": 17,
   "metadata": {},
   "outputs": [
    {
     "data": {
      "text/plain": [
       "20"
      ]
     },
     "execution_count": 17,
     "metadata": {},
     "output_type": "execute_result"
    }
   ],
   "source": [
    "from random import *\n",
    "randint(1,30)"
   ]
  },
  {
   "cell_type": "code",
   "execution_count": 19,
   "metadata": {},
   "outputs": [
    {
     "name": "stdout",
     "output_type": "stream",
     "text": [
      "hello\n"
     ]
    },
    {
     "ename": "SystemExit",
     "evalue": "",
     "output_type": "error",
     "traceback": [
      "An exception has occurred, use %tb to see the full traceback.\n",
      "\u001b[1;31mSystemExit\u001b[0m\n"
     ]
    }
   ],
   "source": [
    "import sys\n",
    "print(\"hello\")\n",
    "sys.exit() # It will immediately  exit your program.\n",
    "print(\"hi\")"
   ]
  },
  {
   "cell_type": "code",
   "execution_count": 23,
   "metadata": {},
   "outputs": [
    {
     "data": {
      "text/plain": [
       "'Hello World!!'"
      ]
     },
     "execution_count": 23,
     "metadata": {},
     "output_type": "execute_result"
    }
   ],
   "source": [
    "# We install third party module using pip and use functions available in these third party modules.\n",
    "# !pip install pyperclip\n",
    "import pyperclip\n",
    "pyperclip.copy(\"Hello World!!\")\n",
    "pyperclip.paste()"
   ]
  },
  {
   "cell_type": "code",
   "execution_count": 26,
   "metadata": {},
   "outputs": [
    {
     "name": "stdout",
     "output_type": "stream",
     "text": [
      "Hi\n",
      "Hello\n"
     ]
    }
   ],
   "source": [
    "####################### User defined function\n",
    "def greetings():\n",
    "    print(\"Hi\")\n",
    "    print(\"Hello\")\n",
    "greetings()"
   ]
  },
  {
   "cell_type": "code",
   "execution_count": 28,
   "metadata": {},
   "outputs": [
    {
     "name": "stdout",
     "output_type": "stream",
     "text": [
      "Hi Sony\n",
      "Hello Sony\n"
     ]
    }
   ],
   "source": [
    "####################### User defined function with parameter\n",
    "def greetings_with_name(name):\n",
    "    print(\"Hi \"+name)\n",
    "    print(\"Hello \"+name)\n",
    "greetings_with_name('Sony')"
   ]
  },
  {
   "cell_type": "code",
   "execution_count": 34,
   "metadata": {},
   "outputs": [
    {
     "name": "stdout",
     "output_type": "stream",
     "text": [
      "Hi Sony\n",
      "Hello Sony\n",
      "None\n"
     ]
    }
   ],
   "source": [
    "# Argument: Input to function is argument\n",
    "# Parameter: Variables in between function's paranthesis in def keyword\n",
    "def greetings_with_name(name): # name is parameter\n",
    "    print(\"Hi \"+name)\n",
    "    print(\"Hello \"+name)\n",
    "greetings_with_name('Sony') # Sony is argument"
   ]
  },
  {
   "cell_type": "code",
   "execution_count": 1,
   "metadata": {},
   "outputs": [
    {
     "data": {
      "text/plain": [
       "'Hi Sony'"
      ]
     },
     "execution_count": 1,
     "metadata": {},
     "output_type": "execute_result"
    }
   ],
   "source": [
    "####################### User defined function with return value\n",
    "def greetings_with_name(name):\n",
    "    return (\"Hi \"+name)\n",
    "greet=greetings_with_name('Sony')\n",
    "greet\n",
    "# Every function has a return value. If a function does not have return statement, return value will be None"
   ]
  },
  {
   "cell_type": "code",
   "execution_count": null,
   "metadata": {},
   "outputs": [],
   "source": [
    "# Function with arbitary arguments\n",
    "def print_name(first_name,last_name):\n",
    "    print(\"Hello \"+)"
   ]
  },
  {
   "cell_type": "code",
   "execution_count": null,
   "metadata": {},
   "outputs": [],
   "source": [
    "####################### Local and Global Variable\n",
    "# Scope of local variable is limited within a function\n",
    "# Scope of global variable remains throughout the program"
   ]
  }
 ],
 "metadata": {
  "kernelspec": {
   "display_name": "Python 3",
   "language": "python",
   "name": "python3"
  },
  "language_info": {
   "codemirror_mode": {
    "name": "ipython",
    "version": 3
   },
   "file_extension": ".py",
   "mimetype": "text/x-python",
   "name": "python",
   "nbconvert_exporter": "python",
   "pygments_lexer": "ipython3",
   "version": "3.8.5"
  }
 },
 "nbformat": 4,
 "nbformat_minor": 4
}
