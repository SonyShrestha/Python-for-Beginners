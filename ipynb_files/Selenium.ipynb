{
 "cells": [
  {
   "cell_type": "code",
   "execution_count": 3,
   "metadata": {},
   "outputs": [],
   "source": [
    "################################ Selenium"
   ]
  },
  {
   "cell_type": "code",
   "execution_count": 4,
   "metadata": {},
   "outputs": [
    {
     "name": "stdout",
     "output_type": "stream",
     "text": [
      "Collecting selenium\n",
      "  Downloading selenium-3.141.0-py2.py3-none-any.whl (904 kB)\n",
      "Requirement already satisfied: urllib3 in c:\\programdata\\anaconda3\\lib\\site-packages (from selenium) (1.25.11)\n",
      "Installing collected packages: selenium\n",
      "Successfully installed selenium-3.141.0\n"
     ]
    }
   ],
   "source": [
    "!pip install selenium"
   ]
  },
  {
   "cell_type": "code",
   "execution_count": 10,
   "metadata": {},
   "outputs": [
    {
     "ename": "WebDriverException",
     "evalue": "Message: Can not connect to the Service C:\\\\Users\\\\sony.shrestha\\\\Downloads\\\\Firefox Installer.exe\n",
     "output_type": "error",
     "traceback": [
      "\u001b[1;31m---------------------------------------------------------------------------\u001b[0m",
      "\u001b[1;31mWebDriverException\u001b[0m                        Traceback (most recent call last)",
      "\u001b[1;32m<ipython-input-10-7629314ab4f7>\u001b[0m in \u001b[0;36m<module>\u001b[1;34m\u001b[0m\n\u001b[0;32m      1\u001b[0m \u001b[1;32mfrom\u001b[0m \u001b[0mselenium\u001b[0m \u001b[1;32mimport\u001b[0m \u001b[0mwebdriver\u001b[0m\u001b[1;33m\u001b[0m\u001b[1;33m\u001b[0m\u001b[0m\n\u001b[1;32m----> 2\u001b[1;33m \u001b[0mbrowser\u001b[0m\u001b[1;33m=\u001b[0m\u001b[0mwebdriver\u001b[0m\u001b[1;33m.\u001b[0m\u001b[0mFirefox\u001b[0m\u001b[1;33m(\u001b[0m\u001b[0mexecutable_path\u001b[0m\u001b[1;33m=\u001b[0m\u001b[1;34mr\"C:\\\\Users\\\\sony.shrestha\\\\Downloads\\\\Firefox Installer.exe\"\u001b[0m\u001b[1;33m)\u001b[0m\u001b[1;33m\u001b[0m\u001b[1;33m\u001b[0m\u001b[0m\n\u001b[0m",
      "\u001b[1;32mC:\\ProgramData\\Anaconda3\\lib\\site-packages\\selenium\\webdriver\\firefox\\webdriver.py\u001b[0m in \u001b[0;36m__init__\u001b[1;34m(self, firefox_profile, firefox_binary, timeout, capabilities, proxy, executable_path, options, service_log_path, firefox_options, service_args, desired_capabilities, log_path, keep_alive)\u001b[0m\n\u001b[0;32m    162\u001b[0m                 \u001b[0mservice_args\u001b[0m\u001b[1;33m=\u001b[0m\u001b[0mservice_args\u001b[0m\u001b[1;33m,\u001b[0m\u001b[1;33m\u001b[0m\u001b[1;33m\u001b[0m\u001b[0m\n\u001b[0;32m    163\u001b[0m                 log_path=service_log_path)\n\u001b[1;32m--> 164\u001b[1;33m             \u001b[0mself\u001b[0m\u001b[1;33m.\u001b[0m\u001b[0mservice\u001b[0m\u001b[1;33m.\u001b[0m\u001b[0mstart\u001b[0m\u001b[1;33m(\u001b[0m\u001b[1;33m)\u001b[0m\u001b[1;33m\u001b[0m\u001b[1;33m\u001b[0m\u001b[0m\n\u001b[0m\u001b[0;32m    165\u001b[0m \u001b[1;33m\u001b[0m\u001b[0m\n\u001b[0;32m    166\u001b[0m             \u001b[0mcapabilities\u001b[0m\u001b[1;33m.\u001b[0m\u001b[0mupdate\u001b[0m\u001b[1;33m(\u001b[0m\u001b[0moptions\u001b[0m\u001b[1;33m.\u001b[0m\u001b[0mto_capabilities\u001b[0m\u001b[1;33m(\u001b[0m\u001b[1;33m)\u001b[0m\u001b[1;33m)\u001b[0m\u001b[1;33m\u001b[0m\u001b[1;33m\u001b[0m\u001b[0m\n",
      "\u001b[1;32mC:\\ProgramData\\Anaconda3\\lib\\site-packages\\selenium\\webdriver\\common\\service.py\u001b[0m in \u001b[0;36mstart\u001b[1;34m(self)\u001b[0m\n\u001b[0;32m    102\u001b[0m             \u001b[0mtime\u001b[0m\u001b[1;33m.\u001b[0m\u001b[0msleep\u001b[0m\u001b[1;33m(\u001b[0m\u001b[1;36m1\u001b[0m\u001b[1;33m)\u001b[0m\u001b[1;33m\u001b[0m\u001b[1;33m\u001b[0m\u001b[0m\n\u001b[0;32m    103\u001b[0m             \u001b[1;32mif\u001b[0m \u001b[0mcount\u001b[0m \u001b[1;33m==\u001b[0m \u001b[1;36m30\u001b[0m\u001b[1;33m:\u001b[0m\u001b[1;33m\u001b[0m\u001b[1;33m\u001b[0m\u001b[0m\n\u001b[1;32m--> 104\u001b[1;33m                 \u001b[1;32mraise\u001b[0m \u001b[0mWebDriverException\u001b[0m\u001b[1;33m(\u001b[0m\u001b[1;34m\"Can not connect to the Service %s\"\u001b[0m \u001b[1;33m%\u001b[0m \u001b[0mself\u001b[0m\u001b[1;33m.\u001b[0m\u001b[0mpath\u001b[0m\u001b[1;33m)\u001b[0m\u001b[1;33m\u001b[0m\u001b[1;33m\u001b[0m\u001b[0m\n\u001b[0m\u001b[0;32m    105\u001b[0m \u001b[1;33m\u001b[0m\u001b[0m\n\u001b[0;32m    106\u001b[0m     \u001b[1;32mdef\u001b[0m \u001b[0massert_process_still_running\u001b[0m\u001b[1;33m(\u001b[0m\u001b[0mself\u001b[0m\u001b[1;33m)\u001b[0m\u001b[1;33m:\u001b[0m\u001b[1;33m\u001b[0m\u001b[1;33m\u001b[0m\u001b[0m\n",
      "\u001b[1;31mWebDriverException\u001b[0m: Message: Can not connect to the Service C:\\\\Users\\\\sony.shrestha\\\\Downloads\\\\Firefox Installer.exe\n"
     ]
    }
   ],
   "source": [
    "from selenium import webdrivers\n",
    "browser=webdriver.Firefox(executable_path=r\"C:\\\\Users\\\\sony.shrestha\\\\Downloads\\\\Firefox Installer.exe\")"
   ]
  },
  {
   "cell_type": "code",
   "execution_count": 18,
   "metadata": {},
   "outputs": [],
   "source": [
    "# Open web browser and find element by css selector and click on that object\n",
    "from selenium import webdriver\n",
    "browser=webdriver.Chrome(executable_path=r\"C:\\Users\\sony.shrestha\\Downloads\\chromedriver_win32\\chromedriver.exe\")\n",
    "obj=browser.get(\"https://www.google.com\")\n",
    "to_click=browser.find_element_by_css_selector(\"#gb > div > div.gb_Se > a\")\n",
    "to_click.click()"
   ]
  },
  {
   "cell_type": "code",
   "execution_count": 19,
   "metadata": {},
   "outputs": [
    {
     "data": {
      "text/plain": [
       "'\\nbrowser.find_element_by_css_selector(\"selector\")\\nbrowser.find_elements_by_css_selector(\"selector\")\\n\\nbrowser.find_element_by_class_name(\"name\")\\nbrowser.find_elements_by_class_name(\"name\")\\n\\nbrowser.find_element_by_id(\"id\")\\nbrowser.find_elements_by_id(\"id\")\\n\\nbrowser.find_element_by_tag_name(\"name\")\\nbrowser.find_elements_by_tag_name(\"name\")\\n\\nbrowser.find_element_by_name(\"name\")\\nbrowser.find_elements_by_name(\"name\")\\n'"
      ]
     },
     "execution_count": 19,
     "metadata": {},
     "output_type": "execute_result"
    }
   ],
   "source": [
    "# methods name\n",
    "\"\"\"\n",
    "browser.find_element_by_css_selector(\"selector\")\n",
    "browser.find_elements_by_css_selector(\"selector\")\n",
    "\n",
    "browser.find_element_by_class_name(\"name\")\n",
    "browser.find_elements_by_class_name(\"name\")\n",
    "\n",
    "browser.find_element_by_id(\"id\")\n",
    "browser.find_elements_by_id(\"id\")\n",
    "\n",
    "browser.find_element_by_tag_name(\"name\")\n",
    "browser.find_elements_by_tag_name(\"name\")\n",
    "\n",
    "browser.find_element_by_name(\"name\")\n",
    "browser.find_elements_by_name(\"name\")\n",
    "\"\"\""
   ]
  },
  {
   "cell_type": "code",
   "execution_count": 21,
   "metadata": {},
   "outputs": [],
   "source": [
    "# Open web browser and find element by css selector and search certain content\n",
    "from selenium import webdriver\n",
    "browser=webdriver.Chrome(executable_path=r\"C:\\Users\\sony.shrestha\\Downloads\\chromedriver_win32\\chromedriver.exe\")\n",
    "obj=browser.get(\"https://www.google.com\")\n",
    "to_click=browser.find_element_by_css_selector(\"body > div.L3eUgb > div.o3j99.ikrT4e.om7nvf > form > div:nth-child(1) > div.A8SBwf > div.RNNXgb > div > div.a4bIc > input\")\n",
    "to_click.send_keys(\"Top Movies\")\n",
    "to_click.submit()"
   ]
  },
  {
   "cell_type": "code",
   "execution_count": 25,
   "metadata": {},
   "outputs": [],
   "source": [
    "# Back, Forward,Refresh and Quit\n",
    "from selenium import webdriver\n",
    "browser=webdriver.Chrome(executable_path=r\"C:\\Users\\sony.shrestha\\Downloads\\chromedriver_win32\\chromedriver.exe\")\n",
    "obj=browser.get(\"https://www.google.com\")\n",
    "browser.back()\n",
    "browser.forward()\n",
    "browser.refresh()\n",
    "browser.quit()"
   ]
  },
  {
   "cell_type": "code",
   "execution_count": 28,
   "metadata": {},
   "outputs": [
    {
     "name": "stdout",
     "output_type": "stream",
     "text": [
      "English\n"
     ]
    }
   ],
   "source": [
    "# Get text\n",
    "from selenium import webdriver\n",
    "browser=webdriver.Chrome(executable_path=r\"C:\\Users\\sony.shrestha\\Downloads\\chromedriver_win32\\chromedriver.exe\")\n",
    "obj=browser.get(\"https://www.google.com\")\n",
    "to_click=browser.find_element_by_css_selector(\"#SIvCob > a\")\n",
    "print(to_click.text) # Get text\n",
    "browser.quit()"
   ]
  },
  {
   "cell_type": "code",
   "execution_count": null,
   "metadata": {},
   "outputs": [],
   "source": []
  }
 ],
 "metadata": {
  "kernelspec": {
   "display_name": "Python 3",
   "language": "python",
   "name": "python3"
  },
  "language_info": {
   "codemirror_mode": {
    "name": "ipython",
    "version": 3
   },
   "file_extension": ".py",
   "mimetype": "text/x-python",
   "name": "python",
   "nbconvert_exporter": "python",
   "pygments_lexer": "ipython3",
   "version": "3.8.5"
  }
 },
 "nbformat": 4,
 "nbformat_minor": 4
}
