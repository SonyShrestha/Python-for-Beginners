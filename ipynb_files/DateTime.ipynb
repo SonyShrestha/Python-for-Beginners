{
 "cells": [
  {
   "cell_type": "code",
   "execution_count": 90,
   "metadata": {},
   "outputs": [],
   "source": [
    "######################### DateTime"
   ]
  },
  {
   "cell_type": "code",
   "execution_count": 100,
   "metadata": {},
   "outputs": [],
   "source": [
    "import datetime\n",
    "# Get current datetime\n",
    "today=datetime.datetime.today()\n",
    "today=datetime.datetime.now()\n",
    "today_date=datetime.date.today()"
   ]
  },
  {
   "cell_type": "code",
   "execution_count": 104,
   "metadata": {},
   "outputs": [
    {
     "name": "stdout",
     "output_type": "stream",
     "text": [
      "2021-01-01 00:00:00\n",
      "2021-01-01 04:30:59\n"
     ]
    }
   ],
   "source": [
    "# Create date object\n",
    "date_=datetime.datetime(2021,1,1)\n",
    "print(date_)\n",
    "datetime_=datetime.datetime(2021,1,1,4,30,59)\n",
    "print(datetime_)"
   ]
  },
  {
   "cell_type": "code",
   "execution_count": 109,
   "metadata": {},
   "outputs": [
    {
     "data": {
      "text/plain": [
       "'2021-09-04'"
      ]
     },
     "execution_count": 109,
     "metadata": {},
     "output_type": "execute_result"
    }
   ],
   "source": [
    "datetime.datetime.now().strftime(\"%Y-%m-%d\")"
   ]
  },
  {
   "cell_type": "code",
   "execution_count": null,
   "metadata": {},
   "outputs": [],
   "source": [
    "\"\"\"\n",
    "Y- Year 2021\n",
    "y- Year 21\n",
    "m- Month 09\n",
    "d- Day 31\n",
    "B- Month Spetember\n",
    "b- Month Sep\n",
    "A- Day Wednesday\n",
    "a- Day Wed\n",
    "\n",
    "w- Weekday: 0 is Sunday \n",
    "H- Hour 00-23\n",
    "M- Minute 00-59\n",
    "S- Second 00-59\n",
    "\n",
    "I- Hour 00-12\n",
    "\"\"\""
   ]
  }
 ],
 "metadata": {
  "kernelspec": {
   "display_name": "Python 3",
   "language": "python",
   "name": "python3"
  },
  "language_info": {
   "codemirror_mode": {
    "name": "ipython",
    "version": 3
   },
   "file_extension": ".py",
   "mimetype": "text/x-python",
   "name": "python",
   "nbconvert_exporter": "python",
   "pygments_lexer": "ipython3",
   "version": "3.8.5"
  }
 },
 "nbformat": 4,
 "nbformat_minor": 4
}
