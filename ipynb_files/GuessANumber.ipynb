{
 "cells": [
  {
   "cell_type": "code",
   "execution_count": 46,
   "metadata": {},
   "outputs": [],
   "source": [
    "############################################ GUESSING A NUMBER ######################################\n",
    "\"\"\"\n",
    "Allow a user to make 6 guesses.\n",
    "If guess is corrent, print Right Guess.\n",
    "Else print Correct Guess would be __\n",
    "\"\"\""
   ]
  },
  {
   "cell_type": "code",
   "execution_count": 49,
   "metadata": {},
   "outputs": [
    {
     "name": "stdout",
     "output_type": "stream",
     "text": [
      "Enter a number: 1\n",
      "Number is smaller\n",
      "Enter a number: 2\n",
      "Number is smaller\n",
      "Enter a number: 3\n",
      "Number is smaller\n",
      "Enter a number: 4\n",
      "Number is smaller\n",
      "Enter a number: 5\n",
      "Number is smaller\n",
      "Enter a number: 6\n",
      "Number is smaller\n",
      "Enter a number: 7\n",
      "Number is smaller\n",
      "Correct Guess would be 12\n"
     ]
    }
   ],
   "source": [
    "import random\n",
    "a=random.randint(1,20)\n",
    "\n",
    "for i in range(7):\n",
    "    num=int(input(\"Enter a number: \"))\n",
    "    if num<a:\n",
    "        print(\"Number is smaller\")\n",
    "    elif num>a:\n",
    "        print(\"Number is greater\")\n",
    "    else:\n",
    "        break\n",
    "if a==num:\n",
    "    print(\"Right Guess\")\n",
    "else:\n",
    "    print(\"Correct Guess would be \"+str(a))"
   ]
  },
  {
   "cell_type": "code",
   "execution_count": null,
   "metadata": {},
   "outputs": [],
   "source": []
  }
 ],
 "metadata": {
  "kernelspec": {
   "display_name": "Python 3",
   "language": "python",
   "name": "python3"
  },
  "language_info": {
   "codemirror_mode": {
    "name": "ipython",
    "version": 3
   },
   "file_extension": ".py",
   "mimetype": "text/x-python",
   "name": "python",
   "nbconvert_exporter": "python",
   "pygments_lexer": "ipython3",
   "version": "3.8.5"
  }
 },
 "nbformat": 4,
 "nbformat_minor": 4
}
