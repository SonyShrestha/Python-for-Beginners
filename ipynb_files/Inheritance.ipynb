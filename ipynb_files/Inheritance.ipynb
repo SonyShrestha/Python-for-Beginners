{
 "cells": [
  {
   "cell_type": "code",
   "execution_count": 70,
   "metadata": {},
   "outputs": [],
   "source": [
    "############################## Inheritance"
   ]
  },
  {
   "cell_type": "code",
   "execution_count": 83,
   "metadata": {},
   "outputs": [
    {
     "name": "stdout",
     "output_type": "stream",
     "text": [
      "Hello manager Sony Shrestha\n"
     ]
    }
   ],
   "source": [
    "class manager:\n",
    "    def __init__(self,first_name,last_name):\n",
    "        self.first_name=first_name\n",
    "        self.last_name=last_name\n",
    "    \n",
    "    def print_name(self):\n",
    "        print(\"Hello manager \"+self.first_name+\" \"+self.last_name)\n",
    "        \n",
    "class employee(manager): # Create a child class: employee class is child of manager class\n",
    "    def __init__(self,first_name,last_name):\n",
    "        # manager.__init__(self,first_name,last_name) # Inherit __init__ constructor of manager class\n",
    "        super().__init__(first_name,last_name) # Inherit __init__ constructor os parent class\n",
    "    \n",
    "    def print_name(self):\n",
    "        manager.print_name(self) # Inherit print_name method of parent class\n",
    "        # super().print_name()\n",
    "        #print(\"Hello employee \"+self.first_name+\" \"+self.last_name) # Implement new method\n",
    "\n",
    "emp1=employee('Sony','Shrestha')\n",
    "emp1.print_name()"
   ]
  },
  {
   "cell_type": "code",
   "execution_count": 82,
   "metadata": {},
   "outputs": [
    {
     "name": "stdout",
     "output_type": "stream",
     "text": [
      "Hello manager Sony Shrestha\n",
      "This is from child class\n"
     ]
    }
   ],
   "source": [
    "# Inherit parent class __init__ maethod with some additional features\n",
    "class manager:\n",
    "    def __init__(self,first_name,last_name):\n",
    "        self.first_name=first_name\n",
    "        self.last_name=last_name\n",
    "    \n",
    "    def print_name(self):\n",
    "        print(\"Hello manager \"+self.first_name+\" \"+self.last_name)\n",
    "        \n",
    "class employee(manager): # Create a child class: employee class is child of manager class\n",
    "    def __init__(self,first_name,last_name,age):\n",
    "        super().__init__(first_name,last_name) # Inherit __init__ constructor os parent class\n",
    "        self.age=age\n",
    "    \n",
    "    def print_name(self):\n",
    "        #manager.print_name(self) \n",
    "        super().print_name()\n",
    "        print(\"This is from child class\")\n",
    "\n",
    "emp1=employee('Sony','Shrestha',24)\n",
    "emp1.print_name()"
   ]
  }
 ],
 "metadata": {
  "kernelspec": {
   "display_name": "Python 3",
   "language": "python",
   "name": "python3"
  },
  "language_info": {
   "codemirror_mode": {
    "name": "ipython",
    "version": 3
   },
   "file_extension": ".py",
   "mimetype": "text/x-python",
   "name": "python",
   "nbconvert_exporter": "python",
   "pygments_lexer": "ipython3",
   "version": "3.8.5"
  }
 },
 "nbformat": 4,
 "nbformat_minor": 4
}
