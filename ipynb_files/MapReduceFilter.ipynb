{
 "cells": [
  {
   "cell_type": "code",
   "execution_count": 137,
   "metadata": {},
   "outputs": [],
   "source": [
    "################### Map, Reduce, Filter"
   ]
  },
  {
   "cell_type": "code",
   "execution_count": 157,
   "metadata": {},
   "outputs": [
    {
     "name": "stdout",
     "output_type": "stream",
     "text": [
      "[True, True, True, False, False]\n"
     ]
    }
   ],
   "source": [
    "# map() : map(function, iterable(s))\n",
    "# function iterates through all items in the given iterable \n",
    "# and executes the function we passed as an argument on each of them.\n",
    "def starts_with_s(a):\n",
    "    return a[0].upper()=='S'\n",
    "map_obj=map(starts_with_s,[\"sony\",\"stha\",\"Sony\",\"Pragya\",\"Prasanna\"])\n",
    "print(list(map_obj))"
   ]
  },
  {
   "cell_type": "code",
   "execution_count": 160,
   "metadata": {},
   "outputs": [
    {
     "name": "stdout",
     "output_type": "stream",
     "text": [
      "[True, True, True, False, False]\n"
     ]
    }
   ],
   "source": [
    "map_obj1=map(lambda a:a[0].upper()=='S',[\"sony\",\"stha\",\"Sony\",\"Pragya\",\"Prasanna\"])\n",
    "print(list(map_obj1))"
   ]
  },
  {
   "cell_type": "code",
   "execution_count": 161,
   "metadata": {},
   "outputs": [
    {
     "name": "stdout",
     "output_type": "stream",
     "text": [
      "['sony', 'stha', 'Sony']\n"
     ]
    }
   ],
   "source": [
    "# filter() : filter(function, iterable(s))\n",
    "# As the name suggests, filter() forms a new list that contains only elements that satisfy a certain condition, \n",
    "# i.e. the function we passed returns True.\n",
    "def starts_with_s(a):\n",
    "    return a[0].upper()=='S'\n",
    "map_obj=filter(starts_with_s,[\"sony\",\"stha\",\"Sony\",\"Pragya\",\"Prasanna\"])\n",
    "print(list(map_obj))"
   ]
  },
  {
   "cell_type": "code",
   "execution_count": 162,
   "metadata": {},
   "outputs": [
    {
     "name": "stdout",
     "output_type": "stream",
     "text": [
      "['sony', 'stha', 'Sony']\n"
     ]
    }
   ],
   "source": [
    "map_obj1=filter(lambda a:a[0].upper()=='S',[\"sony\",\"stha\",\"Sony\",\"Pragya\",\"Prasanna\"])\n",
    "print(list(map_obj1))"
   ]
  },
  {
   "cell_type": "code",
   "execution_count": 155,
   "metadata": {},
   "outputs": [
    {
     "name": "stdout",
     "output_type": "stream",
     "text": [
      "15\n"
     ]
    }
   ],
   "source": [
    "# reduce() : reduce(function, sequence[, initial])\n",
    "# does not return a new list based on the function and iterable we've passed. Instead, it returns a single value.\n",
    "# reduce() works by calling the function we passed for the first two items in the sequence. \n",
    "# Result returned by function is used in another call to function alongside with the next(third in this case), element.\n",
    "\"\"\"\n",
    "The optional argument initial is used, when present, \n",
    "at the beginning of this \"loop\" with the first element in the first call to function. \n",
    "In a way, the initial element is the 0th element, before the first one, when provided.\n",
    "\"\"\"\n",
    "from functools import reduce\n",
    "def add_(a,b):\n",
    "    return a+b\n",
    "map_obj=reduce(add_,[1,2,3,4,5])\n",
    "print(map_obj)"
   ]
  },
  {
   "cell_type": "code",
   "execution_count": 156,
   "metadata": {},
   "outputs": [
    {
     "name": "stdout",
     "output_type": "stream",
     "text": [
      "17\n"
     ]
    }
   ],
   "source": [
    "# reduce() : reduce(function, sequence[, initial])\n",
    "# does not return a new list based on the function and iterable we've passed. Instead, it returns a single value.\n",
    "# reduce() works by calling the function we passed for the first two items in the sequence. \n",
    "# Result returned by function is used in another call to function alongside with the next(third in this case), element.\n",
    "\"\"\"\n",
    "The optional argument initial is used, when present, \n",
    "at the beginning of this \"loop\" with the first element in the first call to function. \n",
    "In a way, the initial element is the 0th element, before the first one, when provided.\n",
    "\"\"\"\n",
    "from functools import reduce\n",
    "def add_(a,b):\n",
    "    return a+b\n",
    "map_obj=reduce(add_,[1,2,3,4,5],2)\n",
    "print(map_obj)"
   ]
  },
  {
   "cell_type": "code",
   "execution_count": 165,
   "metadata": {},
   "outputs": [
    {
     "name": "stdout",
     "output_type": "stream",
     "text": [
      "15\n"
     ]
    }
   ],
   "source": [
    "x=reduce(lambda a,b:a+b,[1,2,3,4,5])\n",
    "print(x)"
   ]
  },
  {
   "cell_type": "code",
   "execution_count": 166,
   "metadata": {},
   "outputs": [
    {
     "name": "stdout",
     "output_type": "stream",
     "text": [
      "17\n"
     ]
    }
   ],
   "source": [
    "x=reduce(lambda a,b:a+b,[1,2,3,4,5],2)\n",
    "print(x)"
   ]
  }
 ],
 "metadata": {
  "kernelspec": {
   "display_name": "Python 3",
   "language": "python",
   "name": "python3"
  },
  "language_info": {
   "codemirror_mode": {
    "name": "ipython",
    "version": 3
   },
   "file_extension": ".py",
   "mimetype": "text/x-python",
   "name": "python",
   "nbconvert_exporter": "python",
   "pygments_lexer": "ipython3",
   "version": "3.8.5"
  }
 },
 "nbformat": 4,
 "nbformat_minor": 4
}
