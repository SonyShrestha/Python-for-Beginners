{
 "cells": [
  {
   "cell_type": "code",
   "execution_count": 102,
   "metadata": {},
   "outputs": [],
   "source": [
    "############################## Word Documents ###################################################"
   ]
  },
  {
   "cell_type": "code",
   "execution_count": 112,
   "metadata": {},
   "outputs": [
    {
     "name": "stdout",
     "output_type": "stream",
     "text": [
      "Requirement already satisfied: python-docx in c:\\programdata\\anaconda3\\lib\\site-packages (0.8.11)\n",
      "Requirement already satisfied: lxml>=2.3.2 in c:\\programdata\\anaconda3\\lib\\site-packages (from python-docx) (4.6.1)\n"
     ]
    }
   ],
   "source": [
    "!pip install python-docx"
   ]
  },
  {
   "cell_type": "code",
   "execution_count": null,
   "metadata": {},
   "outputs": [],
   "source": [
    "\"\"\"\n",
    "Concepts to be familiar with:\n",
    "a) paragraph: new paragraph starts whenever we press Enter.\n",
    "b) run: Each paragraph has number of runs. New run starts whenever there is change in style\n",
    "\"\"\""
   ]
  },
  {
   "cell_type": "code",
   "execution_count": 111,
   "metadata": {},
   "outputs": [
    {
     "name": "stdout",
     "output_type": "stream",
     "text": [
      "Document Title\n",
      "A plain paragraph having some bold and some italic.\n",
      "Heading, level 1\n"
     ]
    }
   ],
   "source": [
    "# Paragraph\n",
    "import docx\n",
    "doc_obj=docx.Document(\"D:\\\\demo.docx\") # Returns a document object\n",
    "doc_obj.paragraphs # Returns paragraph objects\n",
    "print(doc_obj.paragraphs[0].text)\n",
    "print(doc_obj.paragraphs[1].text)\n",
    "print(doc_obj.paragraphs[2].text)"
   ]
  },
  {
   "cell_type": "code",
   "execution_count": 121,
   "metadata": {},
   "outputs": [
    {
     "name": "stdout",
     "output_type": "stream",
     "text": [
      "[<docx.text.run.Run object at 0x0000016835C22430>, <docx.text.run.Run object at 0x0000016835C22910>, <docx.text.run.Run object at 0x0000016835C221C0>, <docx.text.run.Run object at 0x0000016835C22280>]\n",
      "A plain paragraph having some \n",
      "bold\n",
      " and some \n",
      "True\n",
      "None\n",
      "None\n"
     ]
    }
   ],
   "source": [
    "# Run\n",
    "import docx\n",
    "doc_obj=docx.Document(\"D:\\\\demo.docx\") # Returns a document object\n",
    "para_obj=doc_obj.paragraphs[1]\n",
    "run_obj=para_obj.runs\n",
    "print(run_obj)\n",
    "print(run_obj[0].text)\n",
    "print(run_obj[1].text)\n",
    "print(run_obj[2].text)\n",
    "# run object has bold, underline, italic meber variable \n",
    "print(run_obj[1].bold)\n",
    "print(run_obj[1].underline)\n",
    "print(run_obj[1].italic)"
   ]
  },
  {
   "cell_type": "code",
   "execution_count": 127,
   "metadata": {},
   "outputs": [
    {
     "name": "stdout",
     "output_type": "stream",
     "text": [
      "[<docx.text.run.Run object at 0x0000016838BCB460>, <docx.text.run.Run object at 0x0000016838BCB4C0>, <docx.text.run.Run object at 0x0000016838BCB580>, <docx.text.run.Run object at 0x0000016838BCB7C0>]\n",
      "A plain paragraph having some \n",
      "bold\n",
      " and some \n",
      "True\n",
      "None\n",
      "None\n"
     ]
    }
   ],
   "source": [
    "# write the doc file with some runs italic and underlined\n",
    "import docx\n",
    "doc_obj=docx.Document(\"D:\\\\demo.docx\") # Returns a document object\n",
    "para_obj=doc_obj.paragraphs[1]\n",
    "run_obj=para_obj.runs\n",
    "print(run_obj)\n",
    "print(run_obj[0].text)\n",
    "print(run_obj[1].text)\n",
    "print(run_obj[2].text)\n",
    "# run object has bold, underline, italic meber variable \n",
    "print(run_obj[1].bold)\n",
    "print(run_obj[1].underline)\n",
    "print(run_obj[1].italic)\n",
    "run_obj[1].text='This text is italic and underlined' # Set text of given paragraph and first run to '--'\n",
    "run_obj[1].italic=True # Italic Style for text in given paragraph and first run\n",
    "run_obj[1].underline=True # Underline text in given paragraph and first run\n",
    "doc_obj.save(\"D:\\\\demo2.docx\") # save document "
   ]
  },
  {
   "cell_type": "code",
   "execution_count": 128,
   "metadata": {},
   "outputs": [],
   "source": [
    "# Create document and add a paragraph\n",
    "doc_object=docx.Document()\n",
    "doc_object.add_paragraph(\"This is first paragraph.\") # Paragraph object has add_paragraph\n",
    "doc_object.add_paragraph(\"This is second paragraph.\")\n",
    "doc_object.save(\"D:\\\\test_document.docx\")"
   ]
  },
  {
   "cell_type": "code",
   "execution_count": 136,
   "metadata": {},
   "outputs": [],
   "source": [
    "# Create document and add a run \n",
    "doc_object=docx.Document()\n",
    "doc_object.add_paragraph(\"This is first paragraph.\")\n",
    "doc_object.paragraphs[0].runs[0].text=\"Hello\"\n",
    "doc_object.paragraphs[0].runs[0].bold=True\n",
    "doc_object.paragraphs[0].runs[0].italic=True\n",
    "doc_object.paragraphs[0].runs[0].underline=True\n",
    "doc_object.save(\"D:\\\\greeting.docx\")\n"
   ]
  },
  {
   "cell_type": "code",
   "execution_count": 138,
   "metadata": {},
   "outputs": [
    {
     "data": {
      "text/plain": [
       "'Document Title A plain paragraph having some bold and some italic. Heading, level 1 Intense quote first item in unordered list first item in ordered list \\n'"
      ]
     },
     "execution_count": 138,
     "metadata": {},
     "output_type": "execute_result"
    }
   ],
   "source": [
    "# Get content of a document file as a single string seperated by space.\n",
    "import docx\n",
    "doc_obj=docx.Document(\"D:\\\\demo.docx\") # Returns a document object\n",
    "li=[]\n",
    "for para in doc_obj.paragraphs:\n",
    "    li.append(para.text)\n",
    "\" \".join(li)\n",
    "    "
   ]
  },
  {
   "cell_type": "code",
   "execution_count": null,
   "metadata": {},
   "outputs": [],
   "source": []
  }
 ],
 "metadata": {
  "kernelspec": {
   "display_name": "Python 3",
   "language": "python",
   "name": "python3"
  },
  "language_info": {
   "codemirror_mode": {
    "name": "ipython",
    "version": 3
   },
   "file_extension": ".py",
   "mimetype": "text/x-python",
   "name": "python",
   "nbconvert_exporter": "python",
   "pygments_lexer": "ipython3",
   "version": "3.8.5"
  }
 },
 "nbformat": 4,
 "nbformat_minor": 4
}
