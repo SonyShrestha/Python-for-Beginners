{
 "cells": [
  {
   "cell_type": "code",
   "execution_count": 55,
   "metadata": {},
   "outputs": [],
   "source": [
    "############################ Class "
   ]
  },
  {
   "cell_type": "code",
   "execution_count": 65,
   "metadata": {},
   "outputs": [
    {
     "name": "stdout",
     "output_type": "stream",
     "text": [
      "Hello Sony\n",
      "Your age is 24\n",
      "Your designation is Data Engineer\n"
     ]
    }
   ],
   "source": [
    "class employee:\n",
    "    def __init__(self,name,age,designation):\n",
    "        self.name=name\n",
    "        self.age=age\n",
    "        self.designation=designation\n",
    "    def print_name(self):\n",
    "        print(\"Hello \"+self.name)\n",
    "        print(\"Your age is \"+str(self.age))\n",
    "        print(\"Your designation is \"+self.designation)\n",
    "o1=employee('Sony',24,'Data Engineer')\n",
    "o1.print_name()"
   ]
  },
  {
   "cell_type": "code",
   "execution_count": 66,
   "metadata": {},
   "outputs": [
    {
     "data": {
      "text/plain": [
       "'\\nThe self parameter is a reference to the current instance of the class, \\nand is used to access variables that belongs to the class.\\n'"
      ]
     },
     "execution_count": 66,
     "metadata": {},
     "output_type": "execute_result"
    }
   ],
   "source": [
    "# __init__\n",
    "\"\"\"\n",
    "It is constructor.\n",
    "The __init__() function is called automatically every time the class is being used to create a new object.\n",
    "\"\"\"\n",
    "\n",
    "# self\n",
    "\"\"\"\n",
    "The self parameter is a reference to the current instance of the class, \n",
    "and is used to access variables that belongs to the class.\n",
    "\"\"\""
   ]
  },
  {
   "cell_type": "code",
   "execution_count": 67,
   "metadata": {},
   "outputs": [],
   "source": [
    "# Modify object properties\n",
    "o1.age=20"
   ]
  },
  {
   "cell_type": "code",
   "execution_count": 68,
   "metadata": {},
   "outputs": [],
   "source": [
    "# Delete object properties\n",
    "del o1.age"
   ]
  },
  {
   "cell_type": "code",
   "execution_count": 69,
   "metadata": {},
   "outputs": [],
   "source": [
    "# Delete object \n",
    "del o1"
   ]
  },
  {
   "cell_type": "code",
   "execution_count": null,
   "metadata": {},
   "outputs": [],
   "source": []
  }
 ],
 "metadata": {
  "kernelspec": {
   "display_name": "Python 3",
   "language": "python",
   "name": "python3"
  },
  "language_info": {
   "codemirror_mode": {
    "name": "ipython",
    "version": 3
   },
   "file_extension": ".py",
   "mimetype": "text/x-python",
   "name": "python",
   "nbconvert_exporter": "python",
   "pygments_lexer": "ipython3",
   "version": "3.8.5"
  }
 },
 "nbformat": 4,
 "nbformat_minor": 4
}
