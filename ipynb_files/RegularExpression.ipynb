{
 "cells": [
  {
   "cell_type": "code",
   "execution_count": 207,
   "metadata": {},
   "outputs": [],
   "source": [
    "######################### Regular expression"
   ]
  },
  {
   "cell_type": "code",
   "execution_count": 2,
   "metadata": {},
   "outputs": [
    {
     "data": {
      "text/plain": [
       "'977-9841289035'"
      ]
     },
     "execution_count": 2,
     "metadata": {},
     "output_type": "execute_result"
    }
   ],
   "source": [
    "import re\n",
    "phonenumber_regex=re.compile(r\"\\d\\d\\d-\\d\\d\\d\\d\\d\\d\\d\\d\\d\\d\") # Create regex object\n",
    "mo=phonenumber_regex.search(\"hello hi 977-9841289035 977-9843929973\")\n",
    "mo.group()"
   ]
  },
  {
   "cell_type": "code",
   "execution_count": 223,
   "metadata": {},
   "outputs": [
    {
     "data": {
      "text/plain": [
       "['977-9841289035', '977-9843929973']"
      ]
     },
     "execution_count": 223,
     "metadata": {},
     "output_type": "execute_result"
    }
   ],
   "source": [
    "mo=phonenumber_regex.findall(\"hello hi 977-9841289035 977-9843929973\") # Returns list of that matches given pattern\n",
    "mo"
   ]
  },
  {
   "cell_type": "code",
   "execution_count": 6,
   "metadata": {},
   "outputs": [
    {
     "name": "stdout",
     "output_type": "stream",
     "text": [
      "977-9841289035\n",
      "977\n",
      "9841289035\n"
     ]
    }
   ],
   "source": [
    "# Paranthesis while creating a regex object will create a group and we can extract value of each group\n",
    "# Paranthesis defines where each group begin and end\n",
    "import re\n",
    "phonenumber_regex=re.compile(r\"(\\d\\d\\d)-(\\d\\d\\d\\d\\d\\d\\d\\d\\d\\d)\") # Create regex object\n",
    "mo=phonenumber_regex.search(\"hello hi 977-9841289035 977-9843929973\")\n",
    "print(mo.group())\n",
    "print(mo.group(1))\n",
    "print(mo.group(2))"
   ]
  },
  {
   "cell_type": "code",
   "execution_count": 10,
   "metadata": {},
   "outputs": [
    {
     "name": "stdout",
     "output_type": "stream",
     "text": [
      "(977)-9843929973\n"
     ]
    }
   ],
   "source": [
    "# If () is not defining group instead is a part of pattern, then use \\( \\)\n",
    "import re\n",
    "phonenumber_regex=re.compile(r\"\\(\\d\\d\\d\\)-\\d\\d\\d\\d\\d\\d\\d\\d\\d\\d\") # Create regex object\n",
    "mo=phonenumber_regex.search(\"hello hi 977-9841289035 (977)-9843929973\")\n",
    "print(mo.group())"
   ]
  },
  {
   "cell_type": "code",
   "execution_count": 14,
   "metadata": {},
   "outputs": [
    {
     "name": "stdout",
     "output_type": "stream",
     "text": [
      "KathmanduValley\n",
      "Valley\n"
     ]
    }
   ],
   "source": [
    "# | is used to match one of any possible group\n",
    "import re\n",
    "phonenumber_regex=re.compile(r\"Kathmandu(Valley|City|Area)\") # Create regex object\n",
    "mo=phonenumber_regex.search(\"I am from KathmanduValley\")\n",
    "print(mo.group())\n",
    "print(mo.group(1))"
   ]
  },
  {
   "cell_type": "code",
   "execution_count": 25,
   "metadata": {},
   "outputs": [
    {
     "name": "stdout",
     "output_type": "stream",
     "text": [
      "sowoman\n",
      "wo\n"
     ]
    },
    {
     "ename": "AttributeError",
     "evalue": "'NoneType' object has no attribute 'group'",
     "output_type": "error",
     "traceback": [
      "\u001b[1;31m---------------------------------------------------------------------------\u001b[0m",
      "\u001b[1;31mAttributeError\u001b[0m                            Traceback (most recent call last)",
      "\u001b[1;32m<ipython-input-25-f828aeeae997>\u001b[0m in \u001b[0;36m<module>\u001b[1;34m\u001b[0m\n\u001b[0;32m      6\u001b[0m \u001b[0mprint\u001b[0m\u001b[1;33m(\u001b[0m\u001b[0mmo\u001b[0m\u001b[1;33m.\u001b[0m\u001b[0mgroup\u001b[0m\u001b[1;33m(\u001b[0m\u001b[1;36m1\u001b[0m\u001b[1;33m)\u001b[0m\u001b[1;33m)\u001b[0m\u001b[1;33m\u001b[0m\u001b[1;33m\u001b[0m\u001b[0m\n\u001b[0;32m      7\u001b[0m \u001b[0mmo\u001b[0m\u001b[1;33m=\u001b[0m\u001b[0mphonenumber_regex\u001b[0m\u001b[1;33m.\u001b[0m\u001b[0msearch\u001b[0m\u001b[1;33m(\u001b[0m\u001b[1;34m\"I am sowowoman\"\u001b[0m\u001b[1;33m)\u001b[0m\u001b[1;33m\u001b[0m\u001b[1;33m\u001b[0m\u001b[0m\n\u001b[1;32m----> 8\u001b[1;33m \u001b[0mprint\u001b[0m\u001b[1;33m(\u001b[0m\u001b[0mmo\u001b[0m\u001b[1;33m.\u001b[0m\u001b[0mgroup\u001b[0m\u001b[1;33m(\u001b[0m\u001b[1;33m)\u001b[0m\u001b[1;33m)\u001b[0m\u001b[1;33m\u001b[0m\u001b[1;33m\u001b[0m\u001b[0m\n\u001b[0m\u001b[0;32m      9\u001b[0m \u001b[0mprint\u001b[0m\u001b[1;33m(\u001b[0m\u001b[0mmo\u001b[0m\u001b[1;33m.\u001b[0m\u001b[0mgroup\u001b[0m\u001b[1;33m(\u001b[0m\u001b[1;36m1\u001b[0m\u001b[1;33m)\u001b[0m\u001b[1;33m)\u001b[0m\u001b[1;33m\u001b[0m\u001b[1;33m\u001b[0m\u001b[0m\n",
      "\u001b[1;31mAttributeError\u001b[0m: 'NoneType' object has no attribute 'group'"
     ]
    }
   ],
   "source": [
    "# ? match preceeding group 0 or 1 time\n",
    "import re\n",
    "phonenumber_regex=re.compile(r\"so(wo)?man\") # Create regex object\n",
    "mo=phonenumber_regex.search(\"I am sowoman\")\n",
    "print(mo.group())\n",
    "print(mo.group(1))\n",
    "mo=phonenumber_regex.search(\"I am sowowoman\")\n",
    "print(mo.group())\n",
    "print(mo.group(1))"
   ]
  },
  {
   "cell_type": "code",
   "execution_count": 27,
   "metadata": {},
   "outputs": [
    {
     "name": "stdout",
     "output_type": "stream",
     "text": [
      "sowoman\n",
      "wo\n",
      "sowowoman\n",
      "wo\n"
     ]
    }
   ],
   "source": [
    "# + one or more occurrences of preeceding group\n",
    "import re\n",
    "phonenumber_regex=re.compile(r\"so(wo)+man\") # Create regex object\n",
    "mo=phonenumber_regex.search(\"I am sowoman\")\n",
    "print(mo.group())\n",
    "print(mo.group(1))\n",
    "mo=phonenumber_regex.search(\"I am sowowoman\")\n",
    "print(mo.group())\n",
    "print(mo.group(1))"
   ]
  },
  {
   "cell_type": "code",
   "execution_count": 28,
   "metadata": {},
   "outputs": [
    {
     "name": "stdout",
     "output_type": "stream",
     "text": [
      "sowoman\n",
      "wo\n",
      "sowowoman\n",
      "wo\n"
     ]
    }
   ],
   "source": [
    "# * 0 or more occurrences of preeceding group\n",
    "import re\n",
    "phonenumber_regex=re.compile(r\"so(wo)*man\") # Create regex object\n",
    "mo=phonenumber_regex.search(\"I am sowoman\")\n",
    "print(mo.group())\n",
    "print(mo.group(1))\n",
    "mo=phonenumber_regex.search(\"I am sowowoman\")\n",
    "print(mo.group())\n",
    "print(mo.group(1))"
   ]
  },
  {
   "cell_type": "code",
   "execution_count": 31,
   "metadata": {},
   "outputs": [
    {
     "name": "stdout",
     "output_type": "stream",
     "text": [
      "sowowoman\n",
      "wo\n"
     ]
    },
    {
     "ename": "AttributeError",
     "evalue": "'NoneType' object has no attribute 'group'",
     "output_type": "error",
     "traceback": [
      "\u001b[1;31m---------------------------------------------------------------------------\u001b[0m",
      "\u001b[1;31mAttributeError\u001b[0m                            Traceback (most recent call last)",
      "\u001b[1;32m<ipython-input-31-ad0cc7c9bc95>\u001b[0m in \u001b[0;36m<module>\u001b[1;34m\u001b[0m\n\u001b[0;32m      6\u001b[0m \u001b[0mprint\u001b[0m\u001b[1;33m(\u001b[0m\u001b[0mmo\u001b[0m\u001b[1;33m.\u001b[0m\u001b[0mgroup\u001b[0m\u001b[1;33m(\u001b[0m\u001b[1;36m1\u001b[0m\u001b[1;33m)\u001b[0m\u001b[1;33m)\u001b[0m\u001b[1;33m\u001b[0m\u001b[1;33m\u001b[0m\u001b[0m\n\u001b[0;32m      7\u001b[0m \u001b[0mmo\u001b[0m\u001b[1;33m=\u001b[0m\u001b[0mphonenumber_regex\u001b[0m\u001b[1;33m.\u001b[0m\u001b[0msearch\u001b[0m\u001b[1;33m(\u001b[0m\u001b[1;34m\"I am sowoman\"\u001b[0m\u001b[1;33m)\u001b[0m\u001b[1;33m\u001b[0m\u001b[1;33m\u001b[0m\u001b[0m\n\u001b[1;32m----> 8\u001b[1;33m \u001b[0mprint\u001b[0m\u001b[1;33m(\u001b[0m\u001b[0mmo\u001b[0m\u001b[1;33m.\u001b[0m\u001b[0mgroup\u001b[0m\u001b[1;33m(\u001b[0m\u001b[1;33m)\u001b[0m\u001b[1;33m)\u001b[0m\u001b[1;33m\u001b[0m\u001b[1;33m\u001b[0m\u001b[0m\n\u001b[0m\u001b[0;32m      9\u001b[0m \u001b[0mprint\u001b[0m\u001b[1;33m(\u001b[0m\u001b[0mmo\u001b[0m\u001b[1;33m.\u001b[0m\u001b[0mgroup\u001b[0m\u001b[1;33m(\u001b[0m\u001b[1;36m1\u001b[0m\u001b[1;33m)\u001b[0m\u001b[1;33m)\u001b[0m\u001b[1;33m\u001b[0m\u001b[1;33m\u001b[0m\u001b[0m\n",
      "\u001b[1;31mAttributeError\u001b[0m: 'NoneType' object has no attribute 'group'"
     ]
    }
   ],
   "source": [
    "# {n} exactly n occurrences of preeceding group\n",
    "import re\n",
    "phonenumber_regex=re.compile(r\"so(wo){2}man\") # Create regex object\n",
    "mo=phonenumber_regex.search(\"I am sowowoman\")\n",
    "print(mo.group())\n",
    "print(mo.group(1))\n",
    "mo=phonenumber_regex.search(\"I am sowoman\")\n",
    "print(mo.group())\n",
    "print(mo.group(1))"
   ]
  },
  {
   "cell_type": "code",
   "execution_count": 35,
   "metadata": {},
   "outputs": [
    {
     "name": "stdout",
     "output_type": "stream",
     "text": [
      "sowowoman\n",
      "wo\n",
      "sowowowoman\n",
      "wo\n"
     ]
    }
   ],
   "source": [
    "# {m,n} m to n occurrences of preeceding group\n",
    "import re\n",
    "phonenumber_regex=re.compile(r\"so(wo){2,3}man\") # Create regex object\n",
    "mo=phonenumber_regex.search(\"I am sowowoman\")\n",
    "print(mo.group())\n",
    "print(mo.group(1))\n",
    "mo=phonenumber_regex.search(\"I am sowowowoman\")\n",
    "print(mo.group())\n",
    "print(mo.group(1))"
   ]
  },
  {
   "cell_type": "code",
   "execution_count": 37,
   "metadata": {},
   "outputs": [
    {
     "name": "stdout",
     "output_type": "stream",
     "text": [
      "soman\n",
      "None\n",
      "sowowowoman\n",
      "wo\n"
     ]
    }
   ],
   "source": [
    "# {,n} 0 to n occurrences of preeceding group\n",
    "import re\n",
    "phonenumber_regex=re.compile(r\"so(wo){,3}man\") # Create regex object\n",
    "mo=phonenumber_regex.search(\"I am soman\")\n",
    "print(mo.group())\n",
    "print(mo.group(1))\n",
    "mo=phonenumber_regex.search(\"I am sowowowoman\")\n",
    "print(mo.group())\n",
    "print(mo.group(1))"
   ]
  },
  {
   "cell_type": "code",
   "execution_count": 40,
   "metadata": {},
   "outputs": [
    {
     "name": "stdout",
     "output_type": "stream",
     "text": [
      "sowowoman\n",
      "wo\n",
      "sowowowowowowowowoman\n",
      "wo\n"
     ]
    }
   ],
   "source": [
    "# {m,} m to infinite occurrences of preeceding group\n",
    "import re\n",
    "phonenumber_regex=re.compile(r\"so(wo){2,}man\") # Create regex object\n",
    "mo=phonenumber_regex.search(\"I am sowowoman\")\n",
    "print(mo.group())\n",
    "print(mo.group(1))\n",
    "mo=phonenumber_regex.search(\"I am sowowowowowowowowoman\")\n",
    "print(mo.group())\n",
    "print(mo.group(1))"
   ]
  },
  {
   "cell_type": "code",
   "execution_count": 50,
   "metadata": {},
   "outputs": [
    {
     "name": "stdout",
     "output_type": "stream",
     "text": [
      "Greedy Search\n",
      "12345\n",
      "Non-Greedy Search\n",
      "12\n"
     ]
    }
   ],
   "source": [
    "# Greedy Search: By default python will search longest pattern matched which is greedy search\n",
    "# For non-greedy search, we can use ? (Putting ? after curly braces makes it non greedy search)\n",
    "# Greedy-> matches the longest string possible\n",
    "import re\n",
    "phonenumber_regex=re.compile(r\"(\\d){2,5}\") # Create regex object\n",
    "mo=phonenumber_regex.search(\"1234567890\")\n",
    "print(\"Greedy Search\")\n",
    "print(mo.group())\n",
    "\n",
    "\n",
    "# Non-Greedy-> matches the shortest string possible\n",
    "import re\n",
    "phonenumber_regex=re.compile(r\"(\\d){2,5}?\") # Create regex object\n",
    "mo=phonenumber_regex.search(\"1234567890\")\n",
    "print(\"Non-Greedy Search\")\n",
    "print(mo.group())"
   ]
  },
  {
   "cell_type": "code",
   "execution_count": 59,
   "metadata": {},
   "outputs": [
    {
     "name": "stdout",
     "output_type": "stream",
     "text": [
      "No group-->['977-9841289035', '977-9843929973']\n",
      "One group-->['9841289035', '9843929973']\n",
      "Two group-->[('977', '9841289035'), ('977', '9843929973')]\n",
      "Three group-->[('977-9841289035', '977', '9841289035'), ('977-9843929973', '977', '9843929973')]\n"
     ]
    }
   ],
   "source": [
    "#################################### findall #########################################\n",
    "# findall will return list of string in case regex has no or one group\n",
    "# findall will return list of tuple in case regex has two or more groups\n",
    "import re\n",
    "phonenumber_regex=re.compile(r\"\\d\\d\\d-\\d\\d\\d\\d\\d\\d\\d\\d\\d\\d\") # Create regex object\n",
    "mo=phonenumber_regex.findall(\"hello hi 977-9841289035 977-9843929973\")\n",
    "print(\"No group\",end=\"-->\")\n",
    "print(mo)\n",
    "\n",
    "import re\n",
    "phonenumber_regex=re.compile(r\"\\d\\d\\d-(\\d\\d\\d\\d\\d\\d\\d\\d\\d\\d)\") # Create regex object\n",
    "mo=phonenumber_regex.findall(\"hello hi 977-9841289035 977-9843929973\")\n",
    "print(\"One group\",end=\"-->\")\n",
    "print(mo)\n",
    "\n",
    "import re\n",
    "phonenumber_regex=re.compile(r\"(\\d\\d\\d)-(\\d\\d\\d\\d\\d\\d\\d\\d\\d\\d)\") # Create regex object\n",
    "mo=phonenumber_regex.findall(\"hello hi 977-9841289035 977-9843929973\")\n",
    "print(\"Two group\",end=\"-->\")\n",
    "print(mo)\n",
    "\n",
    "import re\n",
    "phonenumber_regex=re.compile(r\"((\\d\\d\\d)-(\\d\\d\\d\\d\\d\\d\\d\\d\\d\\d))\") # Create regex object\n",
    "mo=phonenumber_regex.findall(\"hello hi 977-9841289035 977-9843929973\")\n",
    "print(\"Three group\",end=\"-->\")\n",
    "print(mo)"
   ]
  },
  {
   "cell_type": "code",
   "execution_count": 60,
   "metadata": {},
   "outputs": [
    {
     "data": {
      "text/plain": [
       "'\\n\\\\d-> any digit\\n\\\\D-> any character except digit\\n\\\\w-> any letter, digit or undescore\\n\\\\W-> any character except letter, digit or underscore\\n\\\\s-> space, tab, newline\\n\\\\S-> any character except space, tab or newline\\n'"
      ]
     },
     "execution_count": 60,
     "metadata": {},
     "output_type": "execute_result"
    }
   ],
   "source": [
    "#################################### Character Class ##########################################\n",
    "\"\"\"\n",
    "\\d-> any digit\n",
    "\\D-> any character except digit\n",
    "\\w-> any letter, digit or undescore\n",
    "\\W-> any character except letter, digit or underscore\n",
    "\\s-> space, tab, newline\n",
    "\\S-> any character except space, tab or newline\n",
    "\"\"\""
   ]
  },
  {
   "cell_type": "code",
   "execution_count": 65,
   "metadata": {},
   "outputs": [
    {
     "name": "stdout",
     "output_type": "stream",
     "text": [
      "['e', 'A', 'A', 'E']\n"
     ]
    }
   ],
   "source": [
    "################################ Creating own Character Class ##########################################\n",
    "import re\n",
    "phonenumber_regex=re.compile(r\"[a-eA-E]\") # a or b or c or d or e or A or B or C or D or E\n",
    "mo=phonenumber_regex.findall(\"hello hi NAMASTE 977-9841289035 977-9843929973\")\n",
    "print(mo)"
   ]
  },
  {
   "cell_type": "code",
   "execution_count": 66,
   "metadata": {},
   "outputs": [
    {
     "name": "stdout",
     "output_type": "stream",
     "text": [
      "['h', 'l', 'l', 'o', ' ', 'h', 'i', ' ', 'N', 'M', 'S', 'T', ' ', '9', '7', '7', '-', '9', '8', '4', '1', '2', '8', '9', '0', '3', '5', ' ', '9', '7', '7', '-', '9', '8', '4', '3', '9', '2', '9', '9', '7', '3']\n"
     ]
    }
   ],
   "source": [
    "#################################### Negative Character Class ##########################################\n",
    "import re\n",
    "phonenumber_regex=re.compile(r\"[^a-eA-E]\") # a or b or c or d or e or A or B or C or D or E\n",
    "mo=phonenumber_regex.findall(\"hello hi NAMASTE 977-9841289035 977-9843929973\")\n",
    "print(mo)"
   ]
  },
  {
   "cell_type": "code",
   "execution_count": 72,
   "metadata": {},
   "outputs": [
    {
     "data": {
      "text/plain": [
       "<re.Match object; span=(11, 14), match='MAS'>"
      ]
     },
     "execution_count": 72,
     "metadata": {},
     "output_type": "execute_result"
    }
   ],
   "source": [
    "#################################### CaretDollar Character #######################################\n",
    "import re\n",
    "phonenumber_regex=re.compile(r\"^h\") # String begining with h\n",
    "phonenumber_regex.search(\"hello hi NAMASTE 977-9841289035 977-9843929973\")\n",
    "\n",
    "phonenumber_regex=re.compile(r\"h$\") # String ends with h\n",
    "phonenumber_regex.search(\"hello hi NAMASTE 977-9841289035 977-9843929973h\")"
   ]
  },
  {
   "cell_type": "code",
   "execution_count": 75,
   "metadata": {},
   "outputs": [
    {
     "name": "stdout",
     "output_type": "stream",
     "text": [
      "<re.Match object; span=(11, 14), match='MAS'>\n",
      "None\n"
     ]
    }
   ],
   "source": [
    "#################################### Wildcard character . ###########################################\n",
    "phonenumber_regex=re.compile(r\".AS\") # . means anything except new line\n",
    "print(phonenumber_regex.search(\"hello hi NAMASTE 977-9841289035 977-9843929973h\"))\n",
    "\n",
    "phonenumber_regex=re.compile(r\".AS\") # . means anything except new line\n",
    "print(phonenumber_regex.search(\"hello hi NAM\\nASTE 977-9841289035 977-9843929973h\"))"
   ]
  },
  {
   "cell_type": "code",
   "execution_count": 76,
   "metadata": {},
   "outputs": [
    {
     "name": "stdout",
     "output_type": "stream",
     "text": [
      "None\n",
      "<re.Match object; span=(12, 15), match='\\nAS'>\n"
     ]
    }
   ],
   "source": [
    "################################ to make . match any chatacter incluing new line pass second argument as re.DOTALL\n",
    "phonenumber_regex=re.compile(r\".AS\") # . means anything except new line\n",
    "print(phonenumber_regex.search(\"hello hi NAM\\nASTE 977-9841289035 977-9843929973h\"))\n",
    "\n",
    "phonenumber_regex=re.compile(r\".AS\",re.DOTALL) # . anything including .\n",
    "print(phonenumber_regex.search(\"hello hi NAM\\nASTE 977-9841289035 977-9843929973h\"))"
   ]
  },
  {
   "cell_type": "code",
   "execution_count": 78,
   "metadata": {},
   "outputs": [
    {
     "name": "stdout",
     "output_type": "stream",
     "text": [
      "None\n",
      "<re.Match object; span=(11, 14), match='MAS'>\n"
     ]
    }
   ],
   "source": [
    "################################ re.I for case insensitive match\n",
    "phonenumber_regex=re.compile(r\".as\") # . means anything except new line\n",
    "print(phonenumber_regex.search(\"hello hi NAMASTE 977-9841289035 977-9843929973h\"))\n",
    "\n",
    "phonenumber_regex=re.compile(r\".AS\",re.I) # . anything including .\n",
    "print(phonenumber_regex.search(\"hello hi NAMASTE 977-9841289035 977-9843929973h\"))"
   ]
  },
  {
   "cell_type": "code",
   "execution_count": 81,
   "metadata": {},
   "outputs": [
    {
     "data": {
      "text/plain": [
       "'hello hi number number'"
      ]
     },
     "execution_count": 81,
     "metadata": {},
     "output_type": "execute_result"
    }
   ],
   "source": [
    "######################### sub method: sub method find all pattern in given string and sustitute them with some other string\n",
    "phonenumber_regex=re.compile(r\"(\\d\\d\\d)-(\\d\\d\\d\\d\\d\\d\\d\\d\\d\\d)\") # Create regex object\n",
    "mo=phonenumber_regex.sub(\"number\",\"hello hi 977-9841289035 977-9843929973\")\n",
    "mo"
   ]
  },
  {
   "cell_type": "code",
   "execution_count": 95,
   "metadata": {},
   "outputs": [
    {
     "data": {
      "text/plain": [
       "'Sony S****, Sony T****, Sony S****'"
      ]
     },
     "execution_count": 95,
     "metadata": {},
     "output_type": "execute_result"
    }
   ],
   "source": [
    "######################### sub method: sub method find all pattern in given string and sustitute them with some other string\n",
    "phonenumber_regex=re.compile(r\"Sony (\\w)\\w*\") # Create regex object\n",
    "#phonenumber_regex.findall(\"Sony Shrestha, Sony Thapa, Sony Stha\")\n",
    "phonenumber_regex.sub(r\"Sony \\1****\",\"Sony Shrestha, Sony Thapa, Sony Stha\") # \\1 means first group match.. sustitute group 1,2 in regex pattern"
   ]
  },
  {
   "cell_type": "code",
   "execution_count": 101,
   "metadata": {},
   "outputs": [
    {
     "name": "stdout",
     "output_type": "stream",
     "text": [
      "[]\n",
      "['977-9841289035', '977-9843929973']\n",
      "['977-9841289035', '977-9843929973']\n"
     ]
    }
   ],
   "source": [
    "######################### re.verbose: allows us to add whitespace and comments to regex string passed to re.compile()\n",
    "import re\n",
    "phonenumber_regex=re.compile(r\"\\d\\d\\d-\\d\\d\\d\\d\\d\\d\\d\\d\\d\\d       \") # Create regex object\n",
    "print(phonenumber_regex.findall(\"hello hi 977-9841289035 977-9843929973\"))\n",
    "\n",
    "import re\n",
    "phonenumber_regex=re.compile(r\"\\d\\d\\d-\\d\\d\\d\\d\\d\\d\\d\\d\\d\\d       \",re.VERBOSE) # Create regex object\n",
    "print(phonenumber_regex.findall(\"hello hi 977-9841289035 977-9843929973\"))\n",
    "\n",
    "\n",
    "import re\n",
    "phonenumber_regex=re.compile(r\"\"\"\n",
    "                            \\d\\d\\d- # city code\n",
    "                            \\d\\d\\d\\d\\d\\d\\d\\d\\d\\d #number       \n",
    "                             \"\"\",re.VERBOSE) # Create regex object\n",
    "print(phonenumber_regex.findall(\"hello hi 977-9841289035 977-9843929973\"))\n"
   ]
  },
  {
   "cell_type": "code",
   "execution_count": 103,
   "metadata": {},
   "outputs": [
    {
     "name": "stdout",
     "output_type": "stream",
     "text": [
      "['977-9841289035', '977-9843929973']\n"
     ]
    }
   ],
   "source": [
    "######################## Adding multiple arguments\n",
    "import re\n",
    "phonenumber_regex=re.compile(r\"\\d\\d\\d-\\d\\d\\d\\d\\d\\d\\d\\d\\d\\d       \",re.VERBOSE|re.I|re.DOTALL) # Create regex object\n",
    "print(phonenumber_regex.findall(\"hello hi 977-9841289035 977-9843929973\"))"
   ]
  }
 ],
 "metadata": {
  "kernelspec": {
   "display_name": "Python 3",
   "language": "python",
   "name": "python3"
  },
  "language_info": {
   "codemirror_mode": {
    "name": "ipython",
    "version": 3
   },
   "file_extension": ".py",
   "mimetype": "text/x-python",
   "name": "python",
   "nbconvert_exporter": "python",
   "pygments_lexer": "ipython3",
   "version": "3.8.5"
  }
 },
 "nbformat": 4,
 "nbformat_minor": 4
}
