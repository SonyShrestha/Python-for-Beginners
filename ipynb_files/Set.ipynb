{
 "cells": [
  {
   "cell_type": "code",
   "execution_count": 66,
   "metadata": {},
   "outputs": [],
   "source": [
    "################################ SET ####################################\n",
    "# Set items are unordered, unchangeable, and do not allow duplicate values."
   ]
  },
  {
   "cell_type": "code",
   "execution_count": 67,
   "metadata": {},
   "outputs": [
    {
     "name": "stdout",
     "output_type": "stream",
     "text": [
      "{'a', 'c', 'b'}\n"
     ]
    }
   ],
   "source": [
    "# Create set\n",
    "set1={\"a\",\"b\",\"c\",\"a\"}\n",
    "print(set1)"
   ]
  },
  {
   "cell_type": "code",
   "execution_count": 68,
   "metadata": {},
   "outputs": [
    {
     "name": "stdout",
     "output_type": "stream",
     "text": [
      "{'a', 'c', 'b'}\n"
     ]
    }
   ],
   "source": [
    "# Create set using set constructor\n",
    "set2=set((\"a\",\"b\",\"c\",\"a\"))\n",
    "print(set2)"
   ]
  },
  {
   "cell_type": "code",
   "execution_count": 69,
   "metadata": {},
   "outputs": [],
   "source": [
    "####### Access set elements\n",
    "# We cannot access set elements using index\n"
   ]
  },
  {
   "cell_type": "code",
   "execution_count": 70,
   "metadata": {},
   "outputs": [
    {
     "name": "stdout",
     "output_type": "stream",
     "text": [
      "a\n",
      "c\n",
      "b\n"
     ]
    }
   ],
   "source": [
    "###### Loop through set\n",
    "for i in set2:\n",
    "    print(i)"
   ]
  },
  {
   "cell_type": "code",
   "execution_count": 72,
   "metadata": {},
   "outputs": [
    {
     "name": "stdout",
     "output_type": "stream",
     "text": [
      "Item exists\n"
     ]
    }
   ],
   "source": [
    "###### Check if item exists in set\n",
    "if \"c\" in set2:\n",
    "    print(\"Item exists\")"
   ]
  },
  {
   "cell_type": "code",
   "execution_count": 73,
   "metadata": {},
   "outputs": [
    {
     "data": {
      "text/plain": [
       "{'a', 'b', 'c', 'd'}"
      ]
     },
     "execution_count": 73,
     "metadata": {},
     "output_type": "execute_result"
    }
   ],
   "source": [
    "###### Change items\n",
    "# Once a set is created, you cannot change its items, but you can add new items.\n",
    "# Add an item\n",
    "set1={\"a\",\"b\",\"c\"}\n",
    "set1.add(\"d\")\n",
    "set1"
   ]
  },
  {
   "cell_type": "code",
   "execution_count": 75,
   "metadata": {},
   "outputs": [
    {
     "data": {
      "text/plain": [
       "{1, 2, 3, 'a', 'b', 'c'}"
      ]
     },
     "execution_count": 75,
     "metadata": {},
     "output_type": "execute_result"
    }
   ],
   "source": [
    "# Add elements from another set\n",
    "set1={\"a\",\"b\",\"c\"}\n",
    "set2={1,2,3}\n",
    "set1.update(set2)\n",
    "set1"
   ]
  },
  {
   "cell_type": "code",
   "execution_count": 77,
   "metadata": {},
   "outputs": [
    {
     "data": {
      "text/plain": [
       "{1, 2, 3, 'a', 'b', 'c'}"
      ]
     },
     "execution_count": 77,
     "metadata": {},
     "output_type": "execute_result"
    }
   ],
   "source": [
    "# Add elements from any iterables\n",
    "set3={\"a\",\"b\",\"c\"}\n",
    "set4=list((1,2,3))\n",
    "set3.update(set4)\n",
    "set3"
   ]
  },
  {
   "cell_type": "code",
   "execution_count": 80,
   "metadata": {},
   "outputs": [
    {
     "data": {
      "text/plain": [
       "{'hi', 'namaste'}"
      ]
     },
     "execution_count": 80,
     "metadata": {},
     "output_type": "execute_result"
    }
   ],
   "source": [
    "############ Remove set items\n",
    "set5={\"hi\",\"hello\",\"namaste\"}\n",
    "set5.remove(\"hello\")\n",
    "set5"
   ]
  },
  {
   "cell_type": "code",
   "execution_count": 81,
   "metadata": {},
   "outputs": [
    {
     "ename": "KeyError",
     "evalue": "'hello1'",
     "output_type": "error",
     "traceback": [
      "\u001b[1;31m---------------------------------------------------------------------------\u001b[0m",
      "\u001b[1;31mKeyError\u001b[0m                                  Traceback (most recent call last)",
      "\u001b[1;32m<ipython-input-81-e0806319159e>\u001b[0m in \u001b[0;36m<module>\u001b[1;34m\u001b[0m\n\u001b[0;32m      3\u001b[0m \u001b[0mset5\u001b[0m\u001b[1;33m.\u001b[0m\u001b[0mremove\u001b[0m\u001b[1;33m(\u001b[0m\u001b[1;34m\"hello\"\u001b[0m\u001b[1;33m)\u001b[0m\u001b[1;33m\u001b[0m\u001b[1;33m\u001b[0m\u001b[0m\n\u001b[0;32m      4\u001b[0m \u001b[0mset5\u001b[0m\u001b[1;33m\u001b[0m\u001b[1;33m\u001b[0m\u001b[0m\n\u001b[1;32m----> 5\u001b[1;33m \u001b[0mset5\u001b[0m\u001b[1;33m.\u001b[0m\u001b[0mremove\u001b[0m\u001b[1;33m(\u001b[0m\u001b[1;34m\"hello1\"\u001b[0m\u001b[1;33m)\u001b[0m\u001b[1;33m\u001b[0m\u001b[1;33m\u001b[0m\u001b[0m\n\u001b[0m",
      "\u001b[1;31mKeyError\u001b[0m: 'hello1'"
     ]
    }
   ],
   "source": [
    "############ Remove set items\n",
    "set5={\"hi\",\"hello\",\"namaste\"}\n",
    "set5.remove(\"hello\")\n",
    "set5\n",
    "set5.remove(\"hello1\") # remove will raise error in case element to be deleted is not found"
   ]
  },
  {
   "cell_type": "code",
   "execution_count": 83,
   "metadata": {},
   "outputs": [
    {
     "data": {
      "text/plain": [
       "{'hi', 'namaste'}"
      ]
     },
     "execution_count": 83,
     "metadata": {},
     "output_type": "execute_result"
    }
   ],
   "source": [
    "############ Remove set items\n",
    "set5={\"hi\",\"hello\",\"namaste\"}\n",
    "set5.discard(\"hello\")\n",
    "set5\n",
    "set5.discard(\"hello1\") # discard will not raise error in case element to be deleted is not found\n",
    "set5"
   ]
  },
  {
   "cell_type": "code",
   "execution_count": 84,
   "metadata": {},
   "outputs": [
    {
     "data": {
      "text/plain": [
       "{'hi', 'namaste'}"
      ]
     },
     "execution_count": 84,
     "metadata": {},
     "output_type": "execute_result"
    }
   ],
   "source": [
    "############ Remove set items\n",
    "set5={\"hi\",\"hello\",\"namaste\"}\n",
    "set5.pop() # Sets are unordered, so when using the pop() method, you do not know which item that gets removed.\n",
    "set5"
   ]
  },
  {
   "cell_type": "code",
   "execution_count": 85,
   "metadata": {},
   "outputs": [
    {
     "data": {
      "text/plain": [
       "set()"
      ]
     },
     "execution_count": 85,
     "metadata": {},
     "output_type": "execute_result"
    }
   ],
   "source": [
    "############ Remove set items\n",
    "set5={\"hi\",\"hello\",\"namaste\"}\n",
    "set5.clear() # clear() method empties the set:\n",
    "set5"
   ]
  },
  {
   "cell_type": "code",
   "execution_count": 87,
   "metadata": {},
   "outputs": [
    {
     "ename": "NameError",
     "evalue": "name 'set5' is not defined",
     "output_type": "error",
     "traceback": [
      "\u001b[1;31m---------------------------------------------------------------------------\u001b[0m",
      "\u001b[1;31mNameError\u001b[0m                                 Traceback (most recent call last)",
      "\u001b[1;32m<ipython-input-87-c3e4e9290ee5>\u001b[0m in \u001b[0;36m<module>\u001b[1;34m\u001b[0m\n\u001b[0;32m      2\u001b[0m \u001b[0mset5\u001b[0m\u001b[1;33m=\u001b[0m\u001b[1;33m{\u001b[0m\u001b[1;34m\"hi\"\u001b[0m\u001b[1;33m,\u001b[0m\u001b[1;34m\"hello\"\u001b[0m\u001b[1;33m,\u001b[0m\u001b[1;34m\"namaste\"\u001b[0m\u001b[1;33m}\u001b[0m\u001b[1;33m\u001b[0m\u001b[1;33m\u001b[0m\u001b[0m\n\u001b[0;32m      3\u001b[0m \u001b[1;32mdel\u001b[0m \u001b[0mset5\u001b[0m \u001b[1;31m# del will delete set completely\u001b[0m\u001b[1;33m\u001b[0m\u001b[1;33m\u001b[0m\u001b[0m\n\u001b[1;32m----> 4\u001b[1;33m \u001b[0mset5\u001b[0m\u001b[1;33m\u001b[0m\u001b[1;33m\u001b[0m\u001b[0m\n\u001b[0m",
      "\u001b[1;31mNameError\u001b[0m: name 'set5' is not defined"
     ]
    }
   ],
   "source": [
    "############ Remove set items\n",
    "set5={\"hi\",\"hello\",\"namaste\"}\n",
    "del set5 # del will delete set completely\n",
    "set5"
   ]
  },
  {
   "cell_type": "code",
   "execution_count": 88,
   "metadata": {},
   "outputs": [
    {
     "name": "stdout",
     "output_type": "stream",
     "text": [
      "hello\n",
      "hi\n",
      "namaste\n"
     ]
    }
   ],
   "source": [
    "############ Loop set elements\n",
    "set5={\"hi\",\"hello\",\"namaste\"}\n",
    "for ele in set5:\n",
    "    print(ele)"
   ]
  },
  {
   "cell_type": "code",
   "execution_count": 91,
   "metadata": {},
   "outputs": [
    {
     "name": "stdout",
     "output_type": "stream",
     "text": [
      "Element does not exist\n"
     ]
    }
   ],
   "source": [
    "############ Check if element exists in set\n",
    "set5={\"hi\",\"hello\",\"namaste\"}\n",
    "if \"hi1\" in set5:\n",
    "    print(\"Element exists\")\n",
    "else:\n",
    "    print(\"Element does not exist\")"
   ]
  },
  {
   "cell_type": "code",
   "execution_count": 101,
   "metadata": {},
   "outputs": [
    {
     "name": "stdout",
     "output_type": "stream",
     "text": [
      "x= {1, 2, 3, 4, 5, 6}\n",
      "y= {5, 6, 7, 8, 9, 10}\n",
      "z= {1, 2, 3, 4, 5, 6, 7, 8, 9, 10}\n",
      "x.union(y)= {1, 2, 3, 4, 5, 6, 7, 8, 9, 10}\n",
      "x= {1, 2, 3, 4, 5, 6, 7, 8, 9, 10}\n",
      "y= {5, 6, 7, 8, 9, 10}\n"
     ]
    }
   ],
   "source": [
    "############## Join sets: union -- update\n",
    "# union() method that returns a new set containing all items from both sets\n",
    "# update() method that inserts all the items from one set into another\n",
    "# will exclude any duplicate items.\n",
    "x={1,2,3,4,5,6}\n",
    "y={5,6,7,8,9,10}\n",
    "\"\"\"\n",
    "x.union(y)\n",
    "print(x)\n",
    "print(y)\n",
    "\"\"\"\n",
    "z=x.union(y)\n",
    "print(\"x=\",end=\" \")\n",
    "print(x)\n",
    "\n",
    "print(\"y=\",end=\" \")\n",
    "print(y)\n",
    "\n",
    "print(\"z=\",end=\" \")\n",
    "print(z)\n",
    "\n",
    "print(\"x.union(y)=\",end=\" \")\n",
    "print(x.union(y))\n",
    "\n",
    "x.update(y)\n",
    "print(\"x=\",end=\" \")\n",
    "print(x)\n",
    "\n",
    "print(\"y=\",end=\" \")\n",
    "print(y)"
   ]
  },
  {
   "cell_type": "code",
   "execution_count": 103,
   "metadata": {},
   "outputs": [
    {
     "name": "stdout",
     "output_type": "stream",
     "text": [
      "x= {1, 2, 3, 4, 5, 6}\n",
      "y= {5, 6, 7, 8, 9, 10}\n",
      "z= {5, 6}\n",
      "x.intersection(y)= {5, 6}\n",
      "x= {5, 6}\n",
      "y= {5, 6, 7, 8, 9, 10}\n"
     ]
    }
   ],
   "source": [
    "############## Join sets: intersection -- intersection_update\n",
    "# intersection() method that returns a new set containing common items from both sets\n",
    "# intersection_update() method that inserts common items from one set into another\n",
    "x={1,2,3,4,5,6}\n",
    "y={5,6,7,8,9,10}\n",
    "\"\"\"\n",
    "x.intersection(y)\n",
    "print(x)\n",
    "print(y)\n",
    "\"\"\"\n",
    "z=x.intersection(y)\n",
    "print(\"x=\",end=\" \")\n",
    "print(x)\n",
    "\n",
    "print(\"y=\",end=\" \")\n",
    "print(y)\n",
    "\n",
    "print(\"z=\",end=\" \")\n",
    "print(z)\n",
    "\n",
    "print(\"x.intersection(y)=\",end=\" \")\n",
    "print(x.intersection(y))\n",
    "\n",
    "x.intersection_update(y)\n",
    "print(\"x=\",end=\" \")\n",
    "print(x)\n",
    "\n",
    "print(\"y=\",end=\" \")\n",
    "print(y)"
   ]
  },
  {
   "cell_type": "code",
   "execution_count": 104,
   "metadata": {},
   "outputs": [
    {
     "name": "stdout",
     "output_type": "stream",
     "text": [
      "x= {1, 2, 3, 4, 5, 6}\n",
      "y= {5, 6, 7, 8, 9, 10}\n",
      "z= {1, 2, 3, 4, 7, 8, 9, 10}\n",
      "x.symmetric_difference(y)= {1, 2, 3, 4, 7, 8, 9, 10}\n",
      "x= {1, 2, 3, 4, 7, 8, 9, 10}\n",
      "y= {5, 6, 7, 8, 9, 10}\n"
     ]
    }
   ],
   "source": [
    "############## Join sets: symmetric_difference -- intersection_update\n",
    "# symmetric_difference() method that returns a new set containing items from (A-B)U(B-A)\n",
    "# symmetric_difference_update() method that inserts all the items from (A-B)U(B-A) into another\n",
    "x={1,2,3,4,5,6}\n",
    "y={5,6,7,8,9,10}\n",
    "\"\"\"\n",
    "x.symmetric_difference(y)\n",
    "print(x)\n",
    "print(y)\n",
    "\"\"\"\n",
    "z=x.symmetric_difference(y)\n",
    "print(\"x=\",end=\" \")\n",
    "print(x)\n",
    "\n",
    "print(\"y=\",end=\" \")\n",
    "print(y)\n",
    "\n",
    "print(\"z=\",end=\" \")\n",
    "print(z)\n",
    "\n",
    "print(\"x.symmetric_difference(y)=\",end=\" \")\n",
    "print(x.symmetric_difference(y))\n",
    "\n",
    "x.symmetric_difference_update(y)\n",
    "print(\"x=\",end=\" \")\n",
    "print(x)\n",
    "\n",
    "print(\"y=\",end=\" \")\n",
    "print(y)"
   ]
  },
  {
   "cell_type": "code",
   "execution_count": 105,
   "metadata": {},
   "outputs": [
    {
     "name": "stdout",
     "output_type": "stream",
     "text": [
      "x= {1, 2, 3, 4, 5, 6}\n",
      "y= {5, 6, 7, 8, 9, 10}\n",
      "z= {1, 2, 3, 4}\n",
      "x.difference(y)= {1, 2, 3, 4}\n",
      "x= {1, 2, 3, 4}\n",
      "y= {5, 6, 7, 8, 9, 10}\n"
     ]
    }
   ],
   "source": [
    "############## Join sets: difference -- difference_update\n",
    "# difference() method that returns a new set containing items from (A-B)\n",
    "# difference_update() method that inserts all the items from (A-B) into another\n",
    "x={1,2,3,4,5,6}\n",
    "y={5,6,7,8,9,10}\n",
    "\"\"\"\n",
    "x.difference(y)\n",
    "print(x)\n",
    "print(y)\n",
    "\"\"\"\n",
    "z=x.difference(y)\n",
    "print(\"x=\",end=\" \")\n",
    "print(x)\n",
    "\n",
    "print(\"y=\",end=\" \")\n",
    "print(y)\n",
    "\n",
    "print(\"z=\",end=\" \")\n",
    "print(z)\n",
    "\n",
    "print(\"x.difference(y)=\",end=\" \")\n",
    "print(x.difference(y))\n",
    "\n",
    "x.difference_update(y)\n",
    "print(\"x=\",end=\" \")\n",
    "print(x)\n",
    "\n",
    "print(\"y=\",end=\" \")\n",
    "print(y)"
   ]
  },
  {
   "cell_type": "code",
   "execution_count": null,
   "metadata": {},
   "outputs": [],
   "source": []
  }
 ],
 "metadata": {
  "kernelspec": {
   "display_name": "Python 3",
   "language": "python",
   "name": "python3"
  },
  "language_info": {
   "codemirror_mode": {
    "name": "ipython",
    "version": 3
   },
   "file_extension": ".py",
   "mimetype": "text/x-python",
   "name": "python",
   "nbconvert_exporter": "python",
   "pygments_lexer": "ipython3",
   "version": "3.8.5"
  }
 },
 "nbformat": 4,
 "nbformat_minor": 4
}
