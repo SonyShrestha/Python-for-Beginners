{
 "cells": [
  {
   "cell_type": "code",
   "execution_count": 25,
   "metadata": {},
   "outputs": [],
   "source": [
    "######################### Operators ################"
   ]
  },
  {
   "cell_type": "code",
   "execution_count": 26,
   "metadata": {},
   "outputs": [
    {
     "data": {
      "text/plain": [
       "'\\n+   -> addition\\n-   -> subtraction\\n*   -> multiplication\\n/   -> division\\n%   -> modulus\\n//  -> floor division\\n**  -> exponent\\n'"
      ]
     },
     "execution_count": 26,
     "metadata": {},
     "output_type": "execute_result"
    }
   ],
   "source": [
    "# Arithmetic Operator\n",
    "\"\"\"\n",
    "+   -> addition\n",
    "-   -> subtraction\n",
    "*   -> multiplication\n",
    "/   -> division\n",
    "%   -> modulus\n",
    "//  -> floor division\n",
    "**  -> exponent\n",
    "\"\"\""
   ]
  },
  {
   "cell_type": "code",
   "execution_count": 28,
   "metadata": {},
   "outputs": [
    {
     "data": {
      "text/plain": [
       "'\\n=\\n+=\\n-=\\n/=\\n*=\\n......\\n'"
      ]
     },
     "execution_count": 28,
     "metadata": {},
     "output_type": "execute_result"
    }
   ],
   "source": [
    "# Assignment Operator\n",
    "\"\"\"\n",
    "=\n",
    "+=\n",
    "-=\n",
    "/=\n",
    "*=\n",
    "......\n",
    "\"\"\""
   ]
  },
  {
   "cell_type": "code",
   "execution_count": 29,
   "metadata": {},
   "outputs": [
    {
     "data": {
      "text/plain": [
       "'\\n==\\n!=\\n>\\n<\\n>=\\n<=\\n'"
      ]
     },
     "execution_count": 29,
     "metadata": {},
     "output_type": "execute_result"
    }
   ],
   "source": [
    "# Comparison Operator\n",
    "\"\"\"\n",
    "==\n",
    "!=\n",
    ">\n",
    "<\n",
    ">=\n",
    "<=\n",
    "\"\"\""
   ]
  },
  {
   "cell_type": "code",
   "execution_count": 30,
   "metadata": {},
   "outputs": [
    {
     "data": {
      "text/plain": [
       "'\\nand: Returns True if both statements are True\\nor: Returns True if one of the statement is True\\nnot: Reverts, Returns True if False and False of True\\n'"
      ]
     },
     "execution_count": 30,
     "metadata": {},
     "output_type": "execute_result"
    }
   ],
   "source": [
    "# Logical Operator\n",
    "\"\"\"\n",
    "and: Returns True if both statements are True\n",
    "or: Returns True if one of the statement is True\n",
    "not: Reverts, Returns True if False and False of True\n",
    "\"\"\""
   ]
  },
  {
   "cell_type": "code",
   "execution_count": 31,
   "metadata": {},
   "outputs": [
    {
     "data": {
      "text/plain": [
       "'\\nIdentity operators are used to compare the objects, not if they are equal, \\nbut if they are actually the same object, with the same memory location.\\n\\nx is y: Returns True if both variables are same object\\nx is not y: Returns True if both variables are not same object\\n'"
      ]
     },
     "execution_count": 31,
     "metadata": {},
     "output_type": "execute_result"
    }
   ],
   "source": [
    "# Identity Operator\n",
    "\"\"\"\n",
    "Identity operators are used to compare the objects, not if they are equal, \n",
    "but if they are actually the same object, with the same memory location.\n",
    "\n",
    "x is y: Returns True if both variables are same object\n",
    "x is not y: Returns True if both variables are not same object\n",
    "\"\"\""
   ]
  },
  {
   "cell_type": "code",
   "execution_count": 32,
   "metadata": {},
   "outputs": [
    {
     "data": {
      "text/plain": [
       "'\\nMembership operators are used to test if a sequence is presented in an object:\\nx in y: Returns True if sequence with specified value is present in an object\\nx not in y: Returns True if sequence with specified value is not present in an object\\n'"
      ]
     },
     "execution_count": 32,
     "metadata": {},
     "output_type": "execute_result"
    }
   ],
   "source": [
    "# Membership Operator\n",
    "\"\"\"\n",
    "Membership operators are used to test if a sequence is presented in an object:\n",
    "x in y: Returns True if sequence with specified value is present in an object\n",
    "x not in y: Returns True if sequence with specified value is not present in an object\n",
    "\"\"\""
   ]
  },
  {
   "cell_type": "code",
   "execution_count": 33,
   "metadata": {},
   "outputs": [
    {
     "data": {
      "text/plain": [
       "'\\nBitwise operators are used to compare (binary) numbers:\\n\\n& \\tAND\\tSets each bit to 1 if both bits are 1\\n|\\tOR\\tSets each bit to 1 if one of two bits is 1\\n ^\\tXOR\\tSets each bit to 1 if only one of two bits is 1\\n~ \\tNOT\\tInverts all the bits\\n<<\\tZero fill left shift\\tShift left by pushing zeros in from the right and let the leftmost bits fall off\\n>>\\tSigned right shift\\tShift right by pushing copies of the leftmost bit in from the left, and let the rightmost bits fall off\\n'"
      ]
     },
     "execution_count": 33,
     "metadata": {},
     "output_type": "execute_result"
    }
   ],
   "source": [
    "# Bitwise Operator\n",
    "\"\"\"\n",
    "Bitwise operators are used to compare (binary) numbers:\n",
    "\n",
    "& \tAND\tSets each bit to 1 if both bits are 1\n",
    "|\tOR\tSets each bit to 1 if one of two bits is 1\n",
    " ^\tXOR\tSets each bit to 1 if only one of two bits is 1\n",
    "~ \tNOT\tInverts all the bits\n",
    "<<\tZero fill left shift\tShift left by pushing zeros in from the right and let the leftmost bits fall off\n",
    ">>\tSigned right shift\tShift right by pushing copies of the leftmost bit in from the left, and let the rightmost bits fall off\n",
    "\"\"\"\n"
   ]
  }
 ],
 "metadata": {
  "kernelspec": {
   "display_name": "Python 3",
   "language": "python",
   "name": "python3"
  },
  "language_info": {
   "codemirror_mode": {
    "name": "ipython",
    "version": 3
   },
   "file_extension": ".py",
   "mimetype": "text/x-python",
   "name": "python",
   "nbconvert_exporter": "python",
   "pygments_lexer": "ipython3",
   "version": "3.8.5"
  }
 },
 "nbformat": 4,
 "nbformat_minor": 4
}
