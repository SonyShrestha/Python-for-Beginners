{
 "cells": [
  {
   "cell_type": "code",
   "execution_count": 73,
   "metadata": {},
   "outputs": [],
   "source": [
    "############################ GUI Automation: Mouse ####################################"
   ]
  },
  {
   "cell_type": "code",
   "execution_count": 113,
   "metadata": {},
   "outputs": [
    {
     "name": "stdout",
     "output_type": "stream",
     "text": [
      "Width 1366\n",
      "Height 768\n",
      "Current position of mouse cursor Point(x=278, y=379)\n"
     ]
    }
   ],
   "source": [
    "# !pip install pyautogui\n",
    "import pyautogui\n",
    "pyautogui.size() # returns screen resolution\n",
    "width,height=pyautogui.size()\n",
    "print(\"Width %d\" %width)\n",
    "print(\"Height %d\" %height)\n",
    "print(\"Current position of mouse cursor {0}\".format(pyautogui.position())) # current position of mouse cursor\n",
    "pyautogui.moveTo(10,10) # Moves mouse cursor at specified position\n",
    "pyautogui.moveTo(100,100,duration=2) # Moves mouse cursor at specified position slowly in specified duration time\n",
    "pyautogui.moveRel(100,0,duration=2) # Moves mouse cursor relative to the position currently at, x-offset, y-offset, duration\n",
    "pyautogui.moveRel(0,100,duration=2)\n",
    "# in x= (+ve)=right\n",
    "# in x= (-ve)=left\n",
    "# in y= (+ve)=down\n",
    "# in y= (-ve)=up"
   ]
  },
  {
   "cell_type": "code",
   "execution_count": 114,
   "metadata": {},
   "outputs": [],
   "source": [
    "# Click Mouse\n",
    "pyautogui.click(572,125) # Click mouse on specified position\n",
    "pyautogui.click() # Click wherever is mouse cursor currently\n",
    "pyautogui.rightClick()\n",
    "pyautogui.middleClick()\n",
    "pyautogui.leftClick()\n",
    "pyautogui.doubleClick()"
   ]
  },
  {
   "cell_type": "code",
   "execution_count": 115,
   "metadata": {},
   "outputs": [],
   "source": [
    "# Drag Mouse: It will move mouse while holding down the mouse button\n",
    "pyautogui.dragTo(100,100,duration=2) # Drag Mouse\n",
    "pyautogui.dragRel(100,100,duration=2) # Drag Mouse"
   ]
  },
  {
   "cell_type": "code",
   "execution_count": 112,
   "metadata": {},
   "outputs": [],
   "source": [
    "# Draw square of size provided by user\n",
    "def draw_square(size):\n",
    "    pyautogui.dragRel(size,0,duration=2)\n",
    "    pyautogui.dragRel(0,size,duration=2)\n",
    "    pyautogui.dragRel(-size,0,duration=2)\n",
    "    pyautogui.dragRel(0,-size,duration=2)\n",
    "draw_square(100)"
   ]
  }
 ],
 "metadata": {
  "kernelspec": {
   "display_name": "Python 3",
   "language": "python",
   "name": "python3"
  },
  "language_info": {
   "codemirror_mode": {
    "name": "ipython",
    "version": 3
   },
   "file_extension": ".py",
   "mimetype": "text/x-python",
   "name": "python",
   "nbconvert_exporter": "python",
   "pygments_lexer": "ipython3",
   "version": "3.8.5"
  }
 },
 "nbformat": 4,
 "nbformat_minor": 4
}
